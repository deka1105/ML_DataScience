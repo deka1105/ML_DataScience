{
 "cells": [
  {
   "cell_type": "markdown",
   "metadata": {
    "papermill": {
     "duration": 0.055026,
     "end_time": "2020-10-27T15:00:43.205752",
     "exception": false,
     "start_time": "2020-10-27T15:00:43.150726",
     "status": "completed"
    },
    "tags": []
   },
   "source": [
    "# Importing dataset and libraries"
   ]
  },
  {
   "cell_type": "code",
   "execution_count": 1,
   "metadata": {
    "_cell_guid": "79c7e3d0-c299-4dcb-8224-4455121ee9b0",
    "_uuid": "d629ff2d2480ee46fbb7e2d37f6b5fab8052498a",
    "execution": {
     "iopub.execute_input": "2020-10-27T15:00:43.313271Z",
     "iopub.status.busy": "2020-10-27T15:00:43.312291Z",
     "iopub.status.idle": "2020-10-27T15:00:45.460291Z",
     "shell.execute_reply": "2020-10-27T15:00:45.460821Z"
    },
    "papermill": {
     "duration": 2.205702,
     "end_time": "2020-10-27T15:00:45.460983",
     "exception": false,
     "start_time": "2020-10-27T15:00:43.255281",
     "status": "completed"
    },
    "tags": []
   },
   "outputs": [],
   "source": [
    "import pandas as pd\n",
    "import matplotlib.pyplot as plt\n",
    "import seaborn as sns"
   ]
  },
  {
   "cell_type": "code",
   "execution_count": 30,
   "metadata": {
    "execution": {
     "iopub.execute_input": "2020-10-27T15:00:45.528794Z",
     "iopub.status.busy": "2020-10-27T15:00:45.526936Z",
     "iopub.status.idle": "2020-10-27T15:00:46.802883Z",
     "shell.execute_reply": "2020-10-27T15:00:46.799493Z"
    },
    "papermill": {
     "duration": 1.31405,
     "end_time": "2020-10-27T15:00:46.803177",
     "exception": false,
     "start_time": "2020-10-27T15:00:45.489127",
     "status": "completed"
    },
    "tags": []
   },
   "outputs": [
    {
     "data": {
      "text/html": [
       "<div>\n",
       "<style scoped>\n",
       "    .dataframe tbody tr th:only-of-type {\n",
       "        vertical-align: middle;\n",
       "    }\n",
       "\n",
       "    .dataframe tbody tr th {\n",
       "        vertical-align: top;\n",
       "    }\n",
       "\n",
       "    .dataframe thead th {\n",
       "        text-align: right;\n",
       "    }\n",
       "</style>\n",
       "<table border=\"1\" class=\"dataframe\">\n",
       "  <thead>\n",
       "    <tr style=\"text-align: right;\">\n",
       "      <th></th>\n",
       "      <th>Store</th>\n",
       "      <th>DayOfWeek</th>\n",
       "      <th>Date</th>\n",
       "      <th>Sales</th>\n",
       "      <th>Customers</th>\n",
       "      <th>Open</th>\n",
       "      <th>Promo</th>\n",
       "      <th>StateHoliday</th>\n",
       "      <th>SchoolHoliday</th>\n",
       "    </tr>\n",
       "  </thead>\n",
       "  <tbody>\n",
       "    <tr>\n",
       "      <th>0</th>\n",
       "      <td>1</td>\n",
       "      <td>5</td>\n",
       "      <td>2015-07-31</td>\n",
       "      <td>5263</td>\n",
       "      <td>555</td>\n",
       "      <td>1</td>\n",
       "      <td>1</td>\n",
       "      <td>0</td>\n",
       "      <td>1</td>\n",
       "    </tr>\n",
       "    <tr>\n",
       "      <th>1</th>\n",
       "      <td>2</td>\n",
       "      <td>5</td>\n",
       "      <td>2015-07-31</td>\n",
       "      <td>6064</td>\n",
       "      <td>625</td>\n",
       "      <td>1</td>\n",
       "      <td>1</td>\n",
       "      <td>0</td>\n",
       "      <td>1</td>\n",
       "    </tr>\n",
       "    <tr>\n",
       "      <th>2</th>\n",
       "      <td>3</td>\n",
       "      <td>5</td>\n",
       "      <td>2015-07-31</td>\n",
       "      <td>8314</td>\n",
       "      <td>821</td>\n",
       "      <td>1</td>\n",
       "      <td>1</td>\n",
       "      <td>0</td>\n",
       "      <td>1</td>\n",
       "    </tr>\n",
       "    <tr>\n",
       "      <th>3</th>\n",
       "      <td>4</td>\n",
       "      <td>5</td>\n",
       "      <td>2015-07-31</td>\n",
       "      <td>13995</td>\n",
       "      <td>1498</td>\n",
       "      <td>1</td>\n",
       "      <td>1</td>\n",
       "      <td>0</td>\n",
       "      <td>1</td>\n",
       "    </tr>\n",
       "    <tr>\n",
       "      <th>4</th>\n",
       "      <td>5</td>\n",
       "      <td>5</td>\n",
       "      <td>2015-07-31</td>\n",
       "      <td>4822</td>\n",
       "      <td>559</td>\n",
       "      <td>1</td>\n",
       "      <td>1</td>\n",
       "      <td>0</td>\n",
       "      <td>1</td>\n",
       "    </tr>\n",
       "  </tbody>\n",
       "</table>\n",
       "</div>"
      ],
      "text/plain": [
       "   Store  DayOfWeek        Date  Sales  Customers  Open  Promo  StateHoliday  \\\n",
       "0      1          5  2015-07-31   5263        555     1      1             0   \n",
       "1      2          5  2015-07-31   6064        625     1      1             0   \n",
       "2      3          5  2015-07-31   8314        821     1      1             0   \n",
       "3      4          5  2015-07-31  13995       1498     1      1             0   \n",
       "4      5          5  2015-07-31   4822        559     1      1             0   \n",
       "\n",
       "   SchoolHoliday  \n",
       "0              1  \n",
       "1              1  \n",
       "2              1  \n",
       "3              1  \n",
       "4              1  "
      ]
     },
     "execution_count": 30,
     "metadata": {},
     "output_type": "execute_result"
    }
   ],
   "source": [
    "df=pd.read_csv('test_data_hidden.csv')\n",
    "# df= pd.read_excel('train.xlsx')\n",
    "df.head()"
   ]
  },
  {
   "cell_type": "markdown",
   "metadata": {
    "papermill": {
     "duration": 0.046629,
     "end_time": "2020-10-27T15:00:46.897246",
     "exception": false,
     "start_time": "2020-10-27T15:00:46.850617",
     "status": "completed"
    },
    "tags": []
   },
   "source": [
    "# EDA and Visualization"
   ]
  },
  {
   "cell_type": "code",
   "execution_count": 31,
   "metadata": {
    "execution": {
     "iopub.execute_input": "2020-10-27T15:00:46.996459Z",
     "iopub.status.busy": "2020-10-27T15:00:46.995021Z",
     "iopub.status.idle": "2020-10-27T15:00:47.004908Z",
     "shell.execute_reply": "2020-10-27T15:00:47.001262Z"
    },
    "papermill": {
     "duration": 0.065004,
     "end_time": "2020-10-27T15:00:47.005520",
     "exception": false,
     "start_time": "2020-10-27T15:00:46.940516",
     "status": "completed"
    },
    "tags": []
   },
   "outputs": [
    {
     "name": "stdout",
     "output_type": "stream",
     "text": [
      "Shape of dataset\n",
      "******************************\n",
      "rows : 34565 \n",
      "columns : 9\n"
     ]
    }
   ],
   "source": [
    "# shape of dataset\n",
    "print('Shape of dataset')\n",
    "print('*'*30)\n",
    "print(f'rows : {df.shape[0]} ')\n",
    "print(f'columns : {df.shape[1]}')"
   ]
  },
  {
   "cell_type": "code",
   "execution_count": 32,
   "metadata": {
    "execution": {
     "iopub.execute_input": "2020-10-27T15:00:47.123549Z",
     "iopub.status.busy": "2020-10-27T15:00:47.122479Z",
     "iopub.status.idle": "2020-10-27T15:00:47.276774Z",
     "shell.execute_reply": "2020-10-27T15:00:47.274673Z"
    },
    "papermill": {
     "duration": 0.220099,
     "end_time": "2020-10-27T15:00:47.277019",
     "exception": false,
     "start_time": "2020-10-27T15:00:47.056920",
     "status": "completed"
    },
    "tags": []
   },
   "outputs": [
    {
     "name": "stdout",
     "output_type": "stream",
     "text": [
      "<class 'pandas.core.frame.DataFrame'>\n",
      "RangeIndex: 34565 entries, 0 to 34564\n",
      "Data columns (total 9 columns):\n",
      " #   Column         Non-Null Count  Dtype \n",
      "---  ------         --------------  ----- \n",
      " 0   Store          34565 non-null  int64 \n",
      " 1   DayOfWeek      34565 non-null  int64 \n",
      " 2   Date           34565 non-null  object\n",
      " 3   Sales          34565 non-null  int64 \n",
      " 4   Customers      34565 non-null  int64 \n",
      " 5   Open           34565 non-null  int64 \n",
      " 6   Promo          34565 non-null  int64 \n",
      " 7   StateHoliday   34565 non-null  int64 \n",
      " 8   SchoolHoliday  34565 non-null  int64 \n",
      "dtypes: int64(8), object(1)\n",
      "memory usage: 2.4+ MB\n"
     ]
    }
   ],
   "source": [
    "# info\n",
    "df.info()"
   ]
  },
  {
   "cell_type": "code",
   "execution_count": 33,
   "metadata": {
    "execution": {
     "iopub.execute_input": "2020-10-27T15:00:47.343937Z",
     "iopub.status.busy": "2020-10-27T15:00:47.343229Z",
     "iopub.status.idle": "2020-10-27T15:00:47.665899Z",
     "shell.execute_reply": "2020-10-27T15:00:47.664881Z"
    },
    "papermill": {
     "duration": 0.360236,
     "end_time": "2020-10-27T15:00:47.666030",
     "exception": false,
     "start_time": "2020-10-27T15:00:47.305794",
     "status": "completed"
    },
    "tags": []
   },
   "outputs": [
    {
     "data": {
      "text/plain": [
       "Store            0\n",
       "DayOfWeek        0\n",
       "Date             0\n",
       "Sales            0\n",
       "Customers        0\n",
       "Open             0\n",
       "Promo            0\n",
       "StateHoliday     0\n",
       "SchoolHoliday    0\n",
       "dtype: int64"
      ]
     },
     "execution_count": 33,
     "metadata": {},
     "output_type": "execute_result"
    }
   ],
   "source": [
    "# nan values in dataset\n",
    "df.isna().sum()"
   ]
  },
  {
   "cell_type": "code",
   "execution_count": 34,
   "metadata": {
    "execution": {
     "iopub.execute_input": "2020-10-27T15:00:47.759433Z",
     "iopub.status.busy": "2020-10-27T15:00:47.758247Z",
     "iopub.status.idle": "2020-10-27T15:00:47.764060Z",
     "shell.execute_reply": "2020-10-27T15:00:47.764588Z"
    },
    "papermill": {
     "duration": 0.052982,
     "end_time": "2020-10-27T15:00:47.764759",
     "exception": false,
     "start_time": "2020-10-27T15:00:47.711777",
     "status": "completed"
    },
    "tags": []
   },
   "outputs": [],
   "source": [
    "# no missing values"
   ]
  },
  {
   "cell_type": "code",
   "execution_count": 35,
   "metadata": {
    "execution": {
     "iopub.execute_input": "2020-10-27T15:00:47.991315Z",
     "iopub.status.busy": "2020-10-27T15:00:47.902335Z",
     "iopub.status.idle": "2020-10-27T15:00:48.000281Z",
     "shell.execute_reply": "2020-10-27T15:00:47.999611Z"
    },
    "papermill": {
     "duration": 0.201275,
     "end_time": "2020-10-27T15:00:48.000433",
     "exception": false,
     "start_time": "2020-10-27T15:00:47.799158",
     "status": "completed"
    },
    "tags": []
   },
   "outputs": [
    {
     "data": {
      "text/plain": [
       "array([0])"
      ]
     },
     "execution_count": 35,
     "metadata": {},
     "output_type": "execute_result"
    }
   ],
   "source": [
    "#unique values\n",
    "df['StateHoliday'].unique()"
   ]
  },
  {
   "cell_type": "code",
   "execution_count": 36,
   "metadata": {
    "execution": {
     "iopub.execute_input": "2020-10-27T15:00:48.089042Z",
     "iopub.status.busy": "2020-10-27T15:00:48.086656Z",
     "iopub.status.idle": "2020-10-27T15:00:48.092923Z",
     "shell.execute_reply": "2020-10-27T15:00:48.092019Z"
    },
    "papermill": {
     "duration": 0.054723,
     "end_time": "2020-10-27T15:00:48.093051",
     "exception": false,
     "start_time": "2020-10-27T15:00:48.038328",
     "status": "completed"
    },
    "tags": []
   },
   "outputs": [],
   "source": [
    "sh={'0':0, 'a':1, 'b':2, 'c':3,0:0}"
   ]
  },
  {
   "cell_type": "code",
   "execution_count": 37,
   "metadata": {
    "execution": {
     "iopub.execute_input": "2020-10-27T15:00:48.398115Z",
     "iopub.status.busy": "2020-10-27T15:00:48.397443Z",
     "iopub.status.idle": "2020-10-27T15:00:48.421081Z",
     "shell.execute_reply": "2020-10-27T15:00:48.420229Z"
    },
    "papermill": {
     "duration": 0.29215,
     "end_time": "2020-10-27T15:00:48.421217",
     "exception": false,
     "start_time": "2020-10-27T15:00:48.129067",
     "status": "completed"
    },
    "tags": []
   },
   "outputs": [],
   "source": [
    "df['StateHoliday']=df['StateHoliday'].map(sh)"
   ]
  },
  {
   "cell_type": "code",
   "execution_count": 38,
   "metadata": {
    "execution": {
     "iopub.execute_input": "2020-10-27T15:00:48.498351Z",
     "iopub.status.busy": "2020-10-27T15:00:48.494366Z",
     "iopub.status.idle": "2020-10-27T15:00:48.513599Z",
     "shell.execute_reply": "2020-10-27T15:00:48.512883Z"
    },
    "papermill": {
     "duration": 0.056935,
     "end_time": "2020-10-27T15:00:48.513748",
     "exception": false,
     "start_time": "2020-10-27T15:00:48.456813",
     "status": "completed"
    },
    "tags": []
   },
   "outputs": [
    {
     "data": {
      "text/plain": [
       "array([1, 0])"
      ]
     },
     "execution_count": 38,
     "metadata": {},
     "output_type": "execute_result"
    }
   ],
   "source": [
    "df['SchoolHoliday'].unique()"
   ]
  },
  {
   "cell_type": "code",
   "execution_count": 39,
   "metadata": {
    "execution": {
     "iopub.execute_input": "2020-10-27T15:00:48.606541Z",
     "iopub.status.busy": "2020-10-27T15:00:48.605594Z",
     "iopub.status.idle": "2020-10-27T15:00:48.901734Z",
     "shell.execute_reply": "2020-10-27T15:00:48.902768Z"
    },
    "papermill": {
     "duration": 0.347932,
     "end_time": "2020-10-27T15:00:48.903032",
     "exception": false,
     "start_time": "2020-10-27T15:00:48.555100",
     "status": "completed"
    },
    "tags": []
   },
   "outputs": [
    {
     "data": {
      "text/html": [
       "<div>\n",
       "<style scoped>\n",
       "    .dataframe tbody tr th:only-of-type {\n",
       "        vertical-align: middle;\n",
       "    }\n",
       "\n",
       "    .dataframe tbody tr th {\n",
       "        vertical-align: top;\n",
       "    }\n",
       "\n",
       "    .dataframe thead th {\n",
       "        text-align: right;\n",
       "    }\n",
       "</style>\n",
       "<table border=\"1\" class=\"dataframe\">\n",
       "  <thead>\n",
       "    <tr style=\"text-align: right;\">\n",
       "      <th></th>\n",
       "      <th>count</th>\n",
       "      <th>mean</th>\n",
       "      <th>std</th>\n",
       "      <th>min</th>\n",
       "      <th>25%</th>\n",
       "      <th>50%</th>\n",
       "      <th>75%</th>\n",
       "      <th>max</th>\n",
       "    </tr>\n",
       "  </thead>\n",
       "  <tbody>\n",
       "    <tr>\n",
       "      <th>Store</th>\n",
       "      <td>34565.0</td>\n",
       "      <td>558.000000</td>\n",
       "      <td>321.877302</td>\n",
       "      <td>1.0</td>\n",
       "      <td>279.0</td>\n",
       "      <td>558.0</td>\n",
       "      <td>837.0</td>\n",
       "      <td>1115.0</td>\n",
       "    </tr>\n",
       "    <tr>\n",
       "      <th>DayOfWeek</th>\n",
       "      <td>34565.0</td>\n",
       "      <td>4.000000</td>\n",
       "      <td>1.917688</td>\n",
       "      <td>1.0</td>\n",
       "      <td>2.0</td>\n",
       "      <td>4.0</td>\n",
       "      <td>6.0</td>\n",
       "      <td>7.0</td>\n",
       "    </tr>\n",
       "    <tr>\n",
       "      <th>Sales</th>\n",
       "      <td>34565.0</td>\n",
       "      <td>6142.705511</td>\n",
       "      <td>3606.356960</td>\n",
       "      <td>0.0</td>\n",
       "      <td>4325.0</td>\n",
       "      <td>6085.0</td>\n",
       "      <td>8063.0</td>\n",
       "      <td>32547.0</td>\n",
       "    </tr>\n",
       "    <tr>\n",
       "      <th>Customers</th>\n",
       "      <td>34565.0</td>\n",
       "      <td>643.827224</td>\n",
       "      <td>435.207851</td>\n",
       "      <td>0.0</td>\n",
       "      <td>445.0</td>\n",
       "      <td>610.0</td>\n",
       "      <td>812.0</td>\n",
       "      <td>4783.0</td>\n",
       "    </tr>\n",
       "    <tr>\n",
       "      <th>Open</th>\n",
       "      <td>34565.0</td>\n",
       "      <td>0.873369</td>\n",
       "      <td>0.332564</td>\n",
       "      <td>0.0</td>\n",
       "      <td>1.0</td>\n",
       "      <td>1.0</td>\n",
       "      <td>1.0</td>\n",
       "      <td>1.0</td>\n",
       "    </tr>\n",
       "    <tr>\n",
       "      <th>Promo</th>\n",
       "      <td>34565.0</td>\n",
       "      <td>0.419355</td>\n",
       "      <td>0.493461</td>\n",
       "      <td>0.0</td>\n",
       "      <td>0.0</td>\n",
       "      <td>0.0</td>\n",
       "      <td>1.0</td>\n",
       "      <td>1.0</td>\n",
       "    </tr>\n",
       "    <tr>\n",
       "      <th>StateHoliday</th>\n",
       "      <td>34565.0</td>\n",
       "      <td>0.000000</td>\n",
       "      <td>0.000000</td>\n",
       "      <td>0.0</td>\n",
       "      <td>0.0</td>\n",
       "      <td>0.0</td>\n",
       "      <td>0.0</td>\n",
       "      <td>0.0</td>\n",
       "    </tr>\n",
       "    <tr>\n",
       "      <th>SchoolHoliday</th>\n",
       "      <td>34565.0</td>\n",
       "      <td>0.369651</td>\n",
       "      <td>0.482717</td>\n",
       "      <td>0.0</td>\n",
       "      <td>0.0</td>\n",
       "      <td>0.0</td>\n",
       "      <td>1.0</td>\n",
       "      <td>1.0</td>\n",
       "    </tr>\n",
       "  </tbody>\n",
       "</table>\n",
       "</div>"
      ],
      "text/plain": [
       "                 count         mean          std  min     25%     50%     75%  \\\n",
       "Store          34565.0   558.000000   321.877302  1.0   279.0   558.0   837.0   \n",
       "DayOfWeek      34565.0     4.000000     1.917688  1.0     2.0     4.0     6.0   \n",
       "Sales          34565.0  6142.705511  3606.356960  0.0  4325.0  6085.0  8063.0   \n",
       "Customers      34565.0   643.827224   435.207851  0.0   445.0   610.0   812.0   \n",
       "Open           34565.0     0.873369     0.332564  0.0     1.0     1.0     1.0   \n",
       "Promo          34565.0     0.419355     0.493461  0.0     0.0     0.0     1.0   \n",
       "StateHoliday   34565.0     0.000000     0.000000  0.0     0.0     0.0     0.0   \n",
       "SchoolHoliday  34565.0     0.369651     0.482717  0.0     0.0     0.0     1.0   \n",
       "\n",
       "                   max  \n",
       "Store           1115.0  \n",
       "DayOfWeek          7.0  \n",
       "Sales          32547.0  \n",
       "Customers       4783.0  \n",
       "Open               1.0  \n",
       "Promo              1.0  \n",
       "StateHoliday       0.0  \n",
       "SchoolHoliday      1.0  "
      ]
     },
     "execution_count": 39,
     "metadata": {},
     "output_type": "execute_result"
    }
   ],
   "source": [
    "# statistical info\n",
    "df.describe().T"
   ]
  },
  {
   "cell_type": "code",
   "execution_count": 40,
   "metadata": {
    "execution": {
     "iopub.execute_input": "2020-10-27T15:00:48.990097Z",
     "iopub.status.busy": "2020-10-27T15:00:48.987823Z",
     "iopub.status.idle": "2020-10-27T15:00:49.000316Z",
     "shell.execute_reply": "2020-10-27T15:00:48.998378Z"
    },
    "papermill": {
     "duration": 0.067343,
     "end_time": "2020-10-27T15:00:49.000547",
     "exception": false,
     "start_time": "2020-10-27T15:00:48.933204",
     "status": "completed"
    },
    "tags": []
   },
   "outputs": [
    {
     "data": {
      "text/html": [
       "<div>\n",
       "<style scoped>\n",
       "    .dataframe tbody tr th:only-of-type {\n",
       "        vertical-align: middle;\n",
       "    }\n",
       "\n",
       "    .dataframe tbody tr th {\n",
       "        vertical-align: top;\n",
       "    }\n",
       "\n",
       "    .dataframe thead th {\n",
       "        text-align: right;\n",
       "    }\n",
       "</style>\n",
       "<table border=\"1\" class=\"dataframe\">\n",
       "  <thead>\n",
       "    <tr style=\"text-align: right;\">\n",
       "      <th></th>\n",
       "      <th>Store</th>\n",
       "      <th>DayOfWeek</th>\n",
       "      <th>Date</th>\n",
       "      <th>Sales</th>\n",
       "      <th>Customers</th>\n",
       "      <th>Open</th>\n",
       "      <th>Promo</th>\n",
       "      <th>StateHoliday</th>\n",
       "      <th>SchoolHoliday</th>\n",
       "    </tr>\n",
       "  </thead>\n",
       "  <tbody>\n",
       "    <tr>\n",
       "      <th>0</th>\n",
       "      <td>1</td>\n",
       "      <td>5</td>\n",
       "      <td>2015-07-31</td>\n",
       "      <td>5263</td>\n",
       "      <td>555</td>\n",
       "      <td>1</td>\n",
       "      <td>1</td>\n",
       "      <td>0</td>\n",
       "      <td>1</td>\n",
       "    </tr>\n",
       "    <tr>\n",
       "      <th>1</th>\n",
       "      <td>2</td>\n",
       "      <td>5</td>\n",
       "      <td>2015-07-31</td>\n",
       "      <td>6064</td>\n",
       "      <td>625</td>\n",
       "      <td>1</td>\n",
       "      <td>1</td>\n",
       "      <td>0</td>\n",
       "      <td>1</td>\n",
       "    </tr>\n",
       "    <tr>\n",
       "      <th>2</th>\n",
       "      <td>3</td>\n",
       "      <td>5</td>\n",
       "      <td>2015-07-31</td>\n",
       "      <td>8314</td>\n",
       "      <td>821</td>\n",
       "      <td>1</td>\n",
       "      <td>1</td>\n",
       "      <td>0</td>\n",
       "      <td>1</td>\n",
       "    </tr>\n",
       "    <tr>\n",
       "      <th>3</th>\n",
       "      <td>4</td>\n",
       "      <td>5</td>\n",
       "      <td>2015-07-31</td>\n",
       "      <td>13995</td>\n",
       "      <td>1498</td>\n",
       "      <td>1</td>\n",
       "      <td>1</td>\n",
       "      <td>0</td>\n",
       "      <td>1</td>\n",
       "    </tr>\n",
       "    <tr>\n",
       "      <th>4</th>\n",
       "      <td>5</td>\n",
       "      <td>5</td>\n",
       "      <td>2015-07-31</td>\n",
       "      <td>4822</td>\n",
       "      <td>559</td>\n",
       "      <td>1</td>\n",
       "      <td>1</td>\n",
       "      <td>0</td>\n",
       "      <td>1</td>\n",
       "    </tr>\n",
       "  </tbody>\n",
       "</table>\n",
       "</div>"
      ],
      "text/plain": [
       "   Store  DayOfWeek        Date  Sales  Customers  Open  Promo  StateHoliday  \\\n",
       "0      1          5  2015-07-31   5263        555     1      1             0   \n",
       "1      2          5  2015-07-31   6064        625     1      1             0   \n",
       "2      3          5  2015-07-31   8314        821     1      1             0   \n",
       "3      4          5  2015-07-31  13995       1498     1      1             0   \n",
       "4      5          5  2015-07-31   4822        559     1      1             0   \n",
       "\n",
       "   SchoolHoliday  \n",
       "0              1  \n",
       "1              1  \n",
       "2              1  \n",
       "3              1  \n",
       "4              1  "
      ]
     },
     "execution_count": 40,
     "metadata": {},
     "output_type": "execute_result"
    }
   ],
   "source": [
    "df.head()"
   ]
  },
  {
   "cell_type": "code",
   "execution_count": 41,
   "metadata": {
    "execution": {
     "iopub.execute_input": "2020-10-27T15:00:49.120199Z",
     "iopub.status.busy": "2020-10-27T15:00:49.119331Z",
     "iopub.status.idle": "2020-10-27T15:00:50.216324Z",
     "shell.execute_reply": "2020-10-27T15:00:50.215572Z"
    },
    "papermill": {
     "duration": 1.156544,
     "end_time": "2020-10-27T15:00:50.216494",
     "exception": false,
     "start_time": "2020-10-27T15:00:49.059950",
     "status": "completed"
    },
    "tags": []
   },
   "outputs": [
    {
     "name": "stderr",
     "output_type": "stream",
     "text": [
      "/usr/local/lib/python3.9/site-packages/seaborn/distributions.py:2619: FutureWarning: `distplot` is a deprecated function and will be removed in a future version. Please adapt your code to use either `displot` (a figure-level function with similar flexibility) or `histplot` (an axes-level function for histograms).\n",
      "  warnings.warn(msg, FutureWarning)\n"
     ]
    },
    {
     "data": {
      "text/plain": [
       "<AxesSubplot:xlabel='Sales', ylabel='Density'>"
      ]
     },
     "execution_count": 41,
     "metadata": {},
     "output_type": "execute_result"
    },
    {
     "data": {
      "image/png": "[encoded data removed]",
      "text/plain": [
       "<Figure size 432x288 with 1 Axes>"
      ]
     },
     "metadata": {
      "needs_background": "light"
     },
     "output_type": "display_data"
    }
   ],
   "source": [
    "# distribution plot\n",
    "sns.distplot(df['Sales'])"
   ]
  },
  {
   "cell_type": "code",
   "execution_count": 42,
   "metadata": {
    "execution": {
     "iopub.execute_input": "2020-10-27T15:00:50.385699Z",
     "iopub.status.busy": "2020-10-27T15:00:50.381113Z",
     "iopub.status.idle": "2020-10-27T15:00:51.228527Z",
     "shell.execute_reply": "2020-10-27T15:00:51.227753Z"
    },
    "papermill": {
     "duration": 0.9379,
     "end_time": "2020-10-27T15:00:51.228657",
     "exception": false,
     "start_time": "2020-10-27T15:00:50.290757",
     "status": "completed"
    },
    "tags": []
   },
   "outputs": [
    {
     "name": "stderr",
     "output_type": "stream",
     "text": [
      "/usr/local/lib/python3.9/site-packages/seaborn/distributions.py:2619: FutureWarning: `distplot` is a deprecated function and will be removed in a future version. Please adapt your code to use either `displot` (a figure-level function with similar flexibility) or `histplot` (an axes-level function for histograms).\n",
      "  warnings.warn(msg, FutureWarning)\n"
     ]
    },
    {
     "data": {
      "text/plain": [
       "<AxesSubplot:xlabel='Customers', ylabel='Density'>"
      ]
     },
     "execution_count": 42,
     "metadata": {},
     "output_type": "execute_result"
    },
    {
     "data": {
      "image/png": "[encoded data removed]",
      "text/plain": [
       "<Figure size 432x288 with 1 Axes>"
      ]
     },
     "metadata": {
      "needs_background": "light"
     },
     "output_type": "display_data"
    }
   ],
   "source": [
    "sns.distplot(df['Customers'])"
   ]
  },
  {
   "cell_type": "code",
   "execution_count": 43,
   "metadata": {
    "execution": {
     "iopub.execute_input": "2020-10-27T15:00:51.347698Z",
     "iopub.status.busy": "2020-10-27T15:00:51.344645Z",
     "iopub.status.idle": "2020-10-27T15:00:51.650130Z",
     "shell.execute_reply": "2020-10-27T15:00:51.649570Z"
    },
    "papermill": {
     "duration": 0.380255,
     "end_time": "2020-10-27T15:00:51.650258",
     "exception": false,
     "start_time": "2020-10-27T15:00:51.270003",
     "status": "completed"
    },
    "tags": []
   },
   "outputs": [
    {
     "name": "stderr",
     "output_type": "stream",
     "text": [
      "/usr/local/lib/python3.9/site-packages/seaborn/_decorators.py:36: FutureWarning: Pass the following variable as a keyword arg: x. From version 0.12, the only valid positional argument will be `data`, and passing other arguments without an explicit keyword will result in an error or misinterpretation.\n",
      "  warnings.warn(\n"
     ]
    },
    {
     "data": {
      "text/plain": [
       "<AxesSubplot:xlabel='Sales'>"
      ]
     },
     "execution_count": 43,
     "metadata": {},
     "output_type": "execute_result"
    },
    {
     "data": {
      "image/png": "[encoded data removed]",
      "text/plain": [
       "<Figure size 432x288 with 1 Axes>"
      ]
     },
     "metadata": {
      "needs_background": "light"
     },
     "output_type": "display_data"
    }
   ],
   "source": [
    "# boxplots\n",
    "sns.boxplot(df['Sales'])"
   ]
  },
  {
   "cell_type": "code",
   "execution_count": 44,
   "metadata": {
    "execution": {
     "iopub.execute_input": "2020-10-27T15:00:51.752626Z",
     "iopub.status.busy": "2020-10-27T15:00:51.751699Z",
     "iopub.status.idle": "2020-10-27T15:00:52.397750Z",
     "shell.execute_reply": "2020-10-27T15:00:52.397121Z"
    },
    "papermill": {
     "duration": 0.71365,
     "end_time": "2020-10-27T15:00:52.397886",
     "exception": false,
     "start_time": "2020-10-27T15:00:51.684236",
     "status": "completed"
    },
    "tags": []
   },
   "outputs": [],
   "source": [
    "#feature engineering\n",
    "df['day']=pd.to_datetime(df['Date'], format='%Y-%m-%d').dt.day\n",
    "df['month']=pd.to_datetime(df['Date'], format='%Y-%m-%d').dt.month\n",
    "df['year']=pd.to_datetime(df['Date'], format='%Y-%m-%d').dt.year"
   ]
  },
  {
   "cell_type": "code",
   "execution_count": 45,
   "metadata": {
    "execution": {
     "iopub.execute_input": "2020-10-27T15:00:52.499826Z",
     "iopub.status.busy": "2020-10-27T15:00:52.498275Z",
     "iopub.status.idle": "2020-10-27T15:00:52.506836Z",
     "shell.execute_reply": "2020-10-27T15:00:52.505013Z"
    },
    "papermill": {
     "duration": 0.071181,
     "end_time": "2020-10-27T15:00:52.507148",
     "exception": false,
     "start_time": "2020-10-27T15:00:52.435967",
     "status": "completed"
    },
    "tags": []
   },
   "outputs": [
    {
     "data": {
      "text/html": [
       "<div>\n",
       "<style scoped>\n",
       "    .dataframe tbody tr th:only-of-type {\n",
       "        vertical-align: middle;\n",
       "    }\n",
       "\n",
       "    .dataframe tbody tr th {\n",
       "        vertical-align: top;\n",
       "    }\n",
       "\n",
       "    .dataframe thead th {\n",
       "        text-align: right;\n",
       "    }\n",
       "</style>\n",
       "<table border=\"1\" class=\"dataframe\">\n",
       "  <thead>\n",
       "    <tr style=\"text-align: right;\">\n",
       "      <th></th>\n",
       "      <th>Store</th>\n",
       "      <th>DayOfWeek</th>\n",
       "      <th>Date</th>\n",
       "      <th>Sales</th>\n",
       "      <th>Customers</th>\n",
       "      <th>Open</th>\n",
       "      <th>Promo</th>\n",
       "      <th>StateHoliday</th>\n",
       "      <th>SchoolHoliday</th>\n",
       "      <th>day</th>\n",
       "      <th>month</th>\n",
       "      <th>year</th>\n",
       "    </tr>\n",
       "  </thead>\n",
       "  <tbody>\n",
       "    <tr>\n",
       "      <th>0</th>\n",
       "      <td>1</td>\n",
       "      <td>5</td>\n",
       "      <td>2015-07-31</td>\n",
       "      <td>5263</td>\n",
       "      <td>555</td>\n",
       "      <td>1</td>\n",
       "      <td>1</td>\n",
       "      <td>0</td>\n",
       "      <td>1</td>\n",
       "      <td>31</td>\n",
       "      <td>7</td>\n",
       "      <td>2015</td>\n",
       "    </tr>\n",
       "    <tr>\n",
       "      <th>1</th>\n",
       "      <td>2</td>\n",
       "      <td>5</td>\n",
       "      <td>2015-07-31</td>\n",
       "      <td>6064</td>\n",
       "      <td>625</td>\n",
       "      <td>1</td>\n",
       "      <td>1</td>\n",
       "      <td>0</td>\n",
       "      <td>1</td>\n",
       "      <td>31</td>\n",
       "      <td>7</td>\n",
       "      <td>2015</td>\n",
       "    </tr>\n",
       "    <tr>\n",
       "      <th>2</th>\n",
       "      <td>3</td>\n",
       "      <td>5</td>\n",
       "      <td>2015-07-31</td>\n",
       "      <td>8314</td>\n",
       "      <td>821</td>\n",
       "      <td>1</td>\n",
       "      <td>1</td>\n",
       "      <td>0</td>\n",
       "      <td>1</td>\n",
       "      <td>31</td>\n",
       "      <td>7</td>\n",
       "      <td>2015</td>\n",
       "    </tr>\n",
       "    <tr>\n",
       "      <th>3</th>\n",
       "      <td>4</td>\n",
       "      <td>5</td>\n",
       "      <td>2015-07-31</td>\n",
       "      <td>13995</td>\n",
       "      <td>1498</td>\n",
       "      <td>1</td>\n",
       "      <td>1</td>\n",
       "      <td>0</td>\n",
       "      <td>1</td>\n",
       "      <td>31</td>\n",
       "      <td>7</td>\n",
       "      <td>2015</td>\n",
       "    </tr>\n",
       "    <tr>\n",
       "      <th>4</th>\n",
       "      <td>5</td>\n",
       "      <td>5</td>\n",
       "      <td>2015-07-31</td>\n",
       "      <td>4822</td>\n",
       "      <td>559</td>\n",
       "      <td>1</td>\n",
       "      <td>1</td>\n",
       "      <td>0</td>\n",
       "      <td>1</td>\n",
       "      <td>31</td>\n",
       "      <td>7</td>\n",
       "      <td>2015</td>\n",
       "    </tr>\n",
       "  </tbody>\n",
       "</table>\n",
       "</div>"
      ],
      "text/plain": [
       "   Store  DayOfWeek        Date  Sales  Customers  Open  Promo  StateHoliday  \\\n",
       "0      1          5  2015-07-31   5263        555     1      1             0   \n",
       "1      2          5  2015-07-31   6064        625     1      1             0   \n",
       "2      3          5  2015-07-31   8314        821     1      1             0   \n",
       "3      4          5  2015-07-31  13995       1498     1      1             0   \n",
       "4      5          5  2015-07-31   4822        559     1      1             0   \n",
       "\n",
       "   SchoolHoliday  day  month  year  \n",
       "0              1   31      7  2015  \n",
       "1              1   31      7  2015  \n",
       "2              1   31      7  2015  \n",
       "3              1   31      7  2015  \n",
       "4              1   31      7  2015  "
      ]
     },
     "execution_count": 45,
     "metadata": {},
     "output_type": "execute_result"
    }
   ],
   "source": [
    "df.head()"
   ]
  },
  {
   "cell_type": "code",
   "execution_count": 46,
   "metadata": {
    "execution": {
     "iopub.execute_input": "2020-10-27T15:00:52.641690Z",
     "iopub.status.busy": "2020-10-27T15:00:52.640960Z",
     "iopub.status.idle": "2020-10-27T15:00:52.649543Z",
     "shell.execute_reply": "2020-10-27T15:00:52.648664Z"
    },
    "papermill": {
     "duration": 0.083963,
     "end_time": "2020-10-27T15:00:52.649697",
     "exception": false,
     "start_time": "2020-10-27T15:00:52.565734",
     "status": "completed"
    },
    "tags": []
   },
   "outputs": [
    {
     "data": {
      "text/html": [
       "<div>\n",
       "<style scoped>\n",
       "    .dataframe tbody tr th:only-of-type {\n",
       "        vertical-align: middle;\n",
       "    }\n",
       "\n",
       "    .dataframe tbody tr th {\n",
       "        vertical-align: top;\n",
       "    }\n",
       "\n",
       "    .dataframe thead th {\n",
       "        text-align: right;\n",
       "    }\n",
       "</style>\n",
       "<table border=\"1\" class=\"dataframe\">\n",
       "  <thead>\n",
       "    <tr style=\"text-align: right;\">\n",
       "      <th></th>\n",
       "      <th>Store</th>\n",
       "      <th>DayOfWeek</th>\n",
       "      <th>Date</th>\n",
       "      <th>Sales</th>\n",
       "      <th>Customers</th>\n",
       "      <th>Open</th>\n",
       "      <th>Promo</th>\n",
       "      <th>StateHoliday</th>\n",
       "      <th>SchoolHoliday</th>\n",
       "      <th>day</th>\n",
       "      <th>month</th>\n",
       "      <th>year</th>\n",
       "    </tr>\n",
       "  </thead>\n",
       "  <tbody>\n",
       "    <tr>\n",
       "      <th>34560</th>\n",
       "      <td>1111</td>\n",
       "      <td>3</td>\n",
       "      <td>2015-07-01</td>\n",
       "      <td>3701</td>\n",
       "      <td>351</td>\n",
       "      <td>1</td>\n",
       "      <td>1</td>\n",
       "      <td>0</td>\n",
       "      <td>1</td>\n",
       "      <td>1</td>\n",
       "      <td>7</td>\n",
       "      <td>2015</td>\n",
       "    </tr>\n",
       "    <tr>\n",
       "      <th>34561</th>\n",
       "      <td>1112</td>\n",
       "      <td>3</td>\n",
       "      <td>2015-07-01</td>\n",
       "      <td>10620</td>\n",
       "      <td>716</td>\n",
       "      <td>1</td>\n",
       "      <td>1</td>\n",
       "      <td>0</td>\n",
       "      <td>1</td>\n",
       "      <td>1</td>\n",
       "      <td>7</td>\n",
       "      <td>2015</td>\n",
       "    </tr>\n",
       "    <tr>\n",
       "      <th>34562</th>\n",
       "      <td>1113</td>\n",
       "      <td>3</td>\n",
       "      <td>2015-07-01</td>\n",
       "      <td>8222</td>\n",
       "      <td>770</td>\n",
       "      <td>1</td>\n",
       "      <td>1</td>\n",
       "      <td>0</td>\n",
       "      <td>0</td>\n",
       "      <td>1</td>\n",
       "      <td>7</td>\n",
       "      <td>2015</td>\n",
       "    </tr>\n",
       "    <tr>\n",
       "      <th>34563</th>\n",
       "      <td>1114</td>\n",
       "      <td>3</td>\n",
       "      <td>2015-07-01</td>\n",
       "      <td>27071</td>\n",
       "      <td>3788</td>\n",
       "      <td>1</td>\n",
       "      <td>1</td>\n",
       "      <td>0</td>\n",
       "      <td>0</td>\n",
       "      <td>1</td>\n",
       "      <td>7</td>\n",
       "      <td>2015</td>\n",
       "    </tr>\n",
       "    <tr>\n",
       "      <th>34564</th>\n",
       "      <td>1115</td>\n",
       "      <td>3</td>\n",
       "      <td>2015-07-01</td>\n",
       "      <td>7701</td>\n",
       "      <td>447</td>\n",
       "      <td>1</td>\n",
       "      <td>1</td>\n",
       "      <td>0</td>\n",
       "      <td>0</td>\n",
       "      <td>1</td>\n",
       "      <td>7</td>\n",
       "      <td>2015</td>\n",
       "    </tr>\n",
       "  </tbody>\n",
       "</table>\n",
       "</div>"
      ],
      "text/plain": [
       "       Store  DayOfWeek        Date  Sales  Customers  Open  Promo  \\\n",
       "34560   1111          3  2015-07-01   3701        351     1      1   \n",
       "34561   1112          3  2015-07-01  10620        716     1      1   \n",
       "34562   1113          3  2015-07-01   8222        770     1      1   \n",
       "34563   1114          3  2015-07-01  27071       3788     1      1   \n",
       "34564   1115          3  2015-07-01   7701        447     1      1   \n",
       "\n",
       "       StateHoliday  SchoolHoliday  day  month  year  \n",
       "34560             0              1    1      7  2015  \n",
       "34561             0              1    1      7  2015  \n",
       "34562             0              0    1      7  2015  \n",
       "34563             0              0    1      7  2015  \n",
       "34564             0              0    1      7  2015  "
      ]
     },
     "execution_count": 46,
     "metadata": {},
     "output_type": "execute_result"
    }
   ],
   "source": [
    "df.tail()"
   ]
  },
  {
   "cell_type": "code",
   "execution_count": 47,
   "metadata": {
    "execution": {
     "iopub.execute_input": "2020-10-27T15:00:52.775561Z",
     "iopub.status.busy": "2020-10-27T15:00:52.774850Z",
     "iopub.status.idle": "2020-10-27T15:00:52.864863Z",
     "shell.execute_reply": "2020-10-27T15:00:52.864025Z"
    },
    "papermill": {
     "duration": 0.157115,
     "end_time": "2020-10-27T15:00:52.864987",
     "exception": false,
     "start_time": "2020-10-27T15:00:52.707872",
     "status": "completed"
    },
    "tags": []
   },
   "outputs": [],
   "source": [
    "df.drop('Date', axis=1, inplace=True)"
   ]
  },
  {
   "cell_type": "code",
   "execution_count": 48,
   "metadata": {
    "execution": {
     "iopub.execute_input": "2020-10-27T15:00:52.953781Z",
     "iopub.status.busy": "2020-10-27T15:00:52.952570Z",
     "iopub.status.idle": "2020-10-27T15:00:52.960759Z",
     "shell.execute_reply": "2020-10-27T15:00:52.959594Z"
    },
    "papermill": {
     "duration": 0.059419,
     "end_time": "2020-10-27T15:00:52.960982",
     "exception": false,
     "start_time": "2020-10-27T15:00:52.901563",
     "status": "completed"
    },
    "tags": []
   },
   "outputs": [
    {
     "data": {
      "text/html": [
       "<div>\n",
       "<style scoped>\n",
       "    .dataframe tbody tr th:only-of-type {\n",
       "        vertical-align: middle;\n",
       "    }\n",
       "\n",
       "    .dataframe tbody tr th {\n",
       "        vertical-align: top;\n",
       "    }\n",
       "\n",
       "    .dataframe thead th {\n",
       "        text-align: right;\n",
       "    }\n",
       "</style>\n",
       "<table border=\"1\" class=\"dataframe\">\n",
       "  <thead>\n",
       "    <tr style=\"text-align: right;\">\n",
       "      <th></th>\n",
       "      <th>Store</th>\n",
       "      <th>DayOfWeek</th>\n",
       "      <th>Sales</th>\n",
       "      <th>Customers</th>\n",
       "      <th>Open</th>\n",
       "      <th>Promo</th>\n",
       "      <th>StateHoliday</th>\n",
       "      <th>SchoolHoliday</th>\n",
       "      <th>day</th>\n",
       "      <th>month</th>\n",
       "      <th>year</th>\n",
       "    </tr>\n",
       "  </thead>\n",
       "  <tbody>\n",
       "    <tr>\n",
       "      <th>0</th>\n",
       "      <td>1</td>\n",
       "      <td>5</td>\n",
       "      <td>5263</td>\n",
       "      <td>555</td>\n",
       "      <td>1</td>\n",
       "      <td>1</td>\n",
       "      <td>0</td>\n",
       "      <td>1</td>\n",
       "      <td>31</td>\n",
       "      <td>7</td>\n",
       "      <td>2015</td>\n",
       "    </tr>\n",
       "    <tr>\n",
       "      <th>1</th>\n",
       "      <td>2</td>\n",
       "      <td>5</td>\n",
       "      <td>6064</td>\n",
       "      <td>625</td>\n",
       "      <td>1</td>\n",
       "      <td>1</td>\n",
       "      <td>0</td>\n",
       "      <td>1</td>\n",
       "      <td>31</td>\n",
       "      <td>7</td>\n",
       "      <td>2015</td>\n",
       "    </tr>\n",
       "    <tr>\n",
       "      <th>2</th>\n",
       "      <td>3</td>\n",
       "      <td>5</td>\n",
       "      <td>8314</td>\n",
       "      <td>821</td>\n",
       "      <td>1</td>\n",
       "      <td>1</td>\n",
       "      <td>0</td>\n",
       "      <td>1</td>\n",
       "      <td>31</td>\n",
       "      <td>7</td>\n",
       "      <td>2015</td>\n",
       "    </tr>\n",
       "    <tr>\n",
       "      <th>3</th>\n",
       "      <td>4</td>\n",
       "      <td>5</td>\n",
       "      <td>13995</td>\n",
       "      <td>1498</td>\n",
       "      <td>1</td>\n",
       "      <td>1</td>\n",
       "      <td>0</td>\n",
       "      <td>1</td>\n",
       "      <td>31</td>\n",
       "      <td>7</td>\n",
       "      <td>2015</td>\n",
       "    </tr>\n",
       "    <tr>\n",
       "      <th>4</th>\n",
       "      <td>5</td>\n",
       "      <td>5</td>\n",
       "      <td>4822</td>\n",
       "      <td>559</td>\n",
       "      <td>1</td>\n",
       "      <td>1</td>\n",
       "      <td>0</td>\n",
       "      <td>1</td>\n",
       "      <td>31</td>\n",
       "      <td>7</td>\n",
       "      <td>2015</td>\n",
       "    </tr>\n",
       "  </tbody>\n",
       "</table>\n",
       "</div>"
      ],
      "text/plain": [
       "   Store  DayOfWeek  Sales  Customers  Open  Promo  StateHoliday  \\\n",
       "0      1          5   5263        555     1      1             0   \n",
       "1      2          5   6064        625     1      1             0   \n",
       "2      3          5   8314        821     1      1             0   \n",
       "3      4          5  13995       1498     1      1             0   \n",
       "4      5          5   4822        559     1      1             0   \n",
       "\n",
       "   SchoolHoliday  day  month  year  \n",
       "0              1   31      7  2015  \n",
       "1              1   31      7  2015  \n",
       "2              1   31      7  2015  \n",
       "3              1   31      7  2015  \n",
       "4              1   31      7  2015  "
      ]
     },
     "execution_count": 48,
     "metadata": {},
     "output_type": "execute_result"
    }
   ],
   "source": [
    "df.head()"
   ]
  },
  {
   "cell_type": "code",
   "execution_count": 49,
   "metadata": {
    "execution": {
     "iopub.execute_input": "2020-10-27T15:00:53.055632Z",
     "iopub.status.busy": "2020-10-27T15:00:53.054672Z",
     "iopub.status.idle": "2020-10-27T15:00:53.069016Z",
     "shell.execute_reply": "2020-10-27T15:00:53.068079Z"
    },
    "papermill": {
     "duration": 0.064419,
     "end_time": "2020-10-27T15:00:53.069161",
     "exception": false,
     "start_time": "2020-10-27T15:00:53.004742",
     "status": "completed"
    },
    "tags": []
   },
   "outputs": [
    {
     "data": {
      "text/plain": [
       "array([0])"
      ]
     },
     "execution_count": 49,
     "metadata": {},
     "output_type": "execute_result"
    }
   ],
   "source": [
    "df['StateHoliday'].unique()"
   ]
  },
  {
   "cell_type": "code",
   "execution_count": 50,
   "metadata": {
    "execution": {
     "iopub.execute_input": "2020-10-27T15:00:53.193887Z",
     "iopub.status.busy": "2020-10-27T15:00:53.192897Z",
     "iopub.status.idle": "2020-10-27T15:00:53.201273Z",
     "shell.execute_reply": "2020-10-27T15:00:53.199910Z"
    },
    "papermill": {
     "duration": 0.073006,
     "end_time": "2020-10-27T15:00:53.201513",
     "exception": false,
     "start_time": "2020-10-27T15:00:53.128507",
     "status": "completed"
    },
    "tags": []
   },
   "outputs": [],
   "source": [
    "y=df['Sales']\n",
    "X=df.drop('Sales', axis=1)"
   ]
  },
  {
   "cell_type": "markdown",
   "metadata": {
    "papermill": {
     "duration": 0.042236,
     "end_time": "2020-10-27T15:00:53.284317",
     "exception": false,
     "start_time": "2020-10-27T15:00:53.242081",
     "status": "completed"
    },
    "tags": []
   },
   "source": [
    "# Model Building"
   ]
  },
  {
   "cell_type": "code",
   "execution_count": 51,
   "metadata": {
    "execution": {
     "iopub.execute_input": "2020-10-27T15:00:53.376796Z",
     "iopub.status.busy": "2020-10-27T15:00:53.374808Z",
     "iopub.status.idle": "2020-10-27T15:00:53.910520Z",
     "shell.execute_reply": "2020-10-27T15:00:53.909626Z"
    },
    "papermill": {
     "duration": 0.584318,
     "end_time": "2020-10-27T15:00:53.910659",
     "exception": false,
     "start_time": "2020-10-27T15:00:53.326341",
     "status": "completed"
    },
    "tags": []
   },
   "outputs": [],
   "source": [
    "from sklearn.model_selection import cross_val_score, train_test_split\n",
    "X_train,X_test,y_train,y_test=train_test_split(X,y,test_size=0.2, random_state=42)"
   ]
  },
  {
   "cell_type": "code",
   "execution_count": 52,
   "metadata": {
    "execution": {
     "iopub.execute_input": "2020-10-27T15:00:54.043981Z",
     "iopub.status.busy": "2020-10-27T15:00:54.042768Z",
     "iopub.status.idle": "2020-10-27T15:00:55.682681Z",
     "shell.execute_reply": "2020-10-27T15:00:55.680304Z"
    },
    "papermill": {
     "duration": 1.712858,
     "end_time": "2020-10-27T15:00:55.683789",
     "exception": false,
     "start_time": "2020-10-27T15:00:53.970931",
     "status": "completed"
    },
    "tags": []
   },
   "outputs": [
    {
     "name": "stdout",
     "output_type": "stream",
     "text": [
      "[0.8272264  0.74292577 0.79467188 0.8325215  0.82853658]\n"
     ]
    }
   ],
   "source": [
    "# linear regression\n",
    "from sklearn.linear_model import LinearRegression\n",
    "lr=LinearRegression()\n",
    "lr.fit(X_train,y_train)\n",
    "pred_lr=lr.predict(X_test)\n",
    "score_lr=cross_val_score(lr,X,y,cv=5)\n",
    "print(score_lr)"
   ]
  },
  {
   "cell_type": "code",
   "execution_count": 53,
   "metadata": {
    "execution": {
     "iopub.execute_input": "2020-10-27T15:00:55.776881Z",
     "iopub.status.busy": "2020-10-27T15:00:55.776014Z",
     "iopub.status.idle": "2020-10-27T15:00:55.782589Z",
     "shell.execute_reply": "2020-10-27T15:00:55.783128Z"
    },
    "papermill": {
     "duration": 0.0564,
     "end_time": "2020-10-27T15:00:55.783303",
     "exception": false,
     "start_time": "2020-10-27T15:00:55.726903",
     "status": "completed"
    },
    "tags": []
   },
   "outputs": [
    {
     "data": {
      "text/plain": [
       "0.8051764243690333"
      ]
     },
     "execution_count": 53,
     "metadata": {},
     "output_type": "execute_result"
    }
   ],
   "source": [
    "score_lr.mean()"
   ]
  },
  {
   "cell_type": "code",
   "execution_count": 54,
   "metadata": {
    "execution": {
     "iopub.execute_input": "2020-10-27T15:00:55.881732Z",
     "iopub.status.busy": "2020-10-27T15:00:55.880495Z",
     "iopub.status.idle": "2020-10-27T15:00:55.893418Z",
     "shell.execute_reply": "2020-10-27T15:00:55.892529Z"
    },
    "papermill": {
     "duration": 0.063331,
     "end_time": "2020-10-27T15:00:55.893546",
     "exception": false,
     "start_time": "2020-10-27T15:00:55.830215",
     "status": "completed"
    },
    "tags": []
   },
   "outputs": [
    {
     "name": "stdout",
     "output_type": "stream",
     "text": [
      "1020.9858020361147\n",
      "1020.9858020361147\n"
     ]
    }
   ],
   "source": [
    "from sklearn.metrics import mean_absolute_error, mean_squared_error\n",
    "mae_lr=mean_absolute_error(y_test,pred_lr)\n",
    "print(mae_lr)\n",
    "mse_lr=mean_squared_error(y_test,pred_lr)\n",
    "print(mae_lr)"
   ]
  },
  {
   "cell_type": "code",
   "execution_count": 55,
   "metadata": {
    "execution": {
     "iopub.execute_input": "2020-10-27T15:00:55.983758Z",
     "iopub.status.busy": "2020-10-27T15:00:55.983004Z",
     "iopub.status.idle": "2020-10-27T15:01:42.837087Z",
     "shell.execute_reply": "2020-10-27T15:01:42.837681Z"
    },
    "papermill": {
     "duration": 46.903945,
     "end_time": "2020-10-27T15:01:42.837827",
     "exception": false,
     "start_time": "2020-10-27T15:00:55.933882",
     "status": "completed"
    },
    "tags": []
   },
   "outputs": [
    {
     "name": "stdout",
     "output_type": "stream",
     "text": [
      "[0.79298482 0.72923396 0.78229266 0.81046471 0.8135094 ]\n"
     ]
    }
   ],
   "source": [
    "from sklearn.tree import DecisionTreeRegressor\n",
    "dt=DecisionTreeRegressor()\n",
    "dt.fit(X_train,y_train)\n",
    "pred_dt=dt.predict(X_test)\n",
    "score_dt=cross_val_score(dt,X,y,cv=5)\n",
    "print(score_dt)"
   ]
  },
  {
   "cell_type": "code",
   "execution_count": 56,
   "metadata": {
    "execution": {
     "iopub.execute_input": "2020-10-27T15:01:42.924927Z",
     "iopub.status.busy": "2020-10-27T15:01:42.924078Z",
     "iopub.status.idle": "2020-10-27T15:01:42.930983Z",
     "shell.execute_reply": "2020-10-27T15:01:42.930085Z"
    },
    "papermill": {
     "duration": 0.053345,
     "end_time": "2020-10-27T15:01:42.931139",
     "exception": false,
     "start_time": "2020-10-27T15:01:42.877794",
     "status": "completed"
    },
    "tags": []
   },
   "outputs": [
    {
     "data": {
      "text/plain": [
       "0.785697108855009"
      ]
     },
     "execution_count": 56,
     "metadata": {},
     "output_type": "execute_result"
    }
   ],
   "source": [
    "score_dt.mean()"
   ]
  },
  {
   "cell_type": "code",
   "execution_count": 57,
   "metadata": {
    "execution": {
     "iopub.execute_input": "2020-10-27T15:01:43.058702Z",
     "iopub.status.busy": "2020-10-27T15:01:43.057800Z",
     "iopub.status.idle": "2020-10-27T15:01:43.067053Z",
     "shell.execute_reply": "2020-10-27T15:01:43.066226Z"
    },
    "papermill": {
     "duration": 0.076897,
     "end_time": "2020-10-27T15:01:43.067199",
     "exception": false,
     "start_time": "2020-10-27T15:01:42.990302",
     "status": "completed"
    },
    "tags": []
   },
   "outputs": [
    {
     "name": "stdout",
     "output_type": "stream",
     "text": [
      "1031.1549255026762\n",
      "1031.1549255026762\n"
     ]
    }
   ],
   "source": [
    "\n",
    "mae_dt=mean_absolute_error(y_test,pred_dt)\n",
    "print(mae_dt)\n",
    "mse_dt=mean_squared_error(y_test,pred_dt)\n",
    "print(mae_dt)"
   ]
  },
  {
   "cell_type": "code",
   "execution_count": 71,
   "metadata": {
    "execution": {
     "iopub.execute_input": "2020-10-27T15:01:43.197226Z",
     "iopub.status.busy": "2020-10-27T15:01:43.196174Z",
     "iopub.status.idle": "2020-10-27T15:51:10.764146Z",
     "shell.execute_reply": "2020-10-27T15:51:10.765444Z"
    },
    "papermill": {
     "duration": 2967.637371,
     "end_time": "2020-10-27T15:51:10.765694",
     "exception": false,
     "start_time": "2020-10-27T15:01:43.128323",
     "status": "completed"
    },
    "tags": []
   },
   "outputs": [
    {
     "name": "stdout",
     "output_type": "stream",
     "text": [
      "[0.86766729 0.90337174 0.89618014 0.89128587]\n"
     ]
    }
   ],
   "source": [
    "from sklearn.ensemble import RandomForestRegressor\n",
    "rf=RandomForestRegressor()\n",
    "rf.fit(X_train,y_train)\n",
    "pred_rf=rf.predict(X_test)\n",
    "score_rf=cross_val_score(rf,X,y,cv=4)\n",
    "print(score_rf)"
   ]
  },
  {
   "cell_type": "code",
   "execution_count": 72,
   "metadata": {
    "execution": {
     "iopub.execute_input": "2020-10-27T15:51:10.909530Z",
     "iopub.status.busy": "2020-10-27T15:51:10.907806Z",
     "iopub.status.idle": "2020-10-27T15:51:10.916227Z",
     "shell.execute_reply": "2020-10-27T15:51:10.915317Z"
    },
    "papermill": {
     "duration": 0.084411,
     "end_time": "2020-10-27T15:51:10.916361",
     "exception": false,
     "start_time": "2020-10-27T15:51:10.831950",
     "status": "completed"
    },
    "tags": []
   },
   "outputs": [
    {
     "data": {
      "text/plain": [
       "0.8896262596783888"
      ]
     },
     "execution_count": 72,
     "metadata": {},
     "output_type": "execute_result"
    }
   ],
   "source": [
    "score_rf.mean()"
   ]
  },
  {
   "cell_type": "code",
   "execution_count": 73,
   "metadata": {
    "execution": {
     "iopub.execute_input": "2020-10-27T15:51:11.014296Z",
     "iopub.status.busy": "2020-10-27T15:51:11.013447Z",
     "iopub.status.idle": "2020-10-27T15:51:11.026972Z",
     "shell.execute_reply": "2020-10-27T15:51:11.025611Z"
    },
    "papermill": {
     "duration": 0.065352,
     "end_time": "2020-10-27T15:51:11.027141",
     "exception": false,
     "start_time": "2020-10-27T15:51:10.961789",
     "status": "completed"
    },
    "tags": []
   },
   "outputs": [
    {
     "name": "stdout",
     "output_type": "stream",
     "text": [
      "816.019401128309\n",
      "816.019401128309\n"
     ]
    }
   ],
   "source": [
    "mae_rf=mean_absolute_error(y_test,pred_rf)\n",
    "print(mae_rf)\n",
    "mse_rf=mean_squared_error(y_test,pred_rf)\n",
    "print(mae_rf)"
   ]
  },
  {
   "cell_type": "code",
   "execution_count": 74,
   "metadata": {
    "execution": {
     "iopub.execute_input": "2020-10-27T15:51:11.170682Z",
     "iopub.status.busy": "2020-10-27T15:51:11.169747Z",
     "iopub.status.idle": "2020-10-27T15:51:11.174513Z",
     "shell.execute_reply": "2020-10-27T15:51:11.173769Z"
    },
    "papermill": {
     "duration": 0.077018,
     "end_time": "2020-10-27T15:51:11.174658",
     "exception": false,
     "start_time": "2020-10-27T15:51:11.097640",
     "status": "completed"
    },
    "tags": []
   },
   "outputs": [],
   "source": [
    "# best model is Random forest regressor with accuracy with greater than 89%"
   ]
  },
  {
   "cell_type": "code",
   "execution_count": null,
   "metadata": {
    "papermill": {
     "duration": 0.068161,
     "end_time": "2020-10-27T15:51:11.313775",
     "exception": false,
     "start_time": "2020-10-27T15:51:11.245614",
     "status": "completed"
    },
    "tags": []
   },
   "outputs": [],
   "source": []
  }
 ],
 "metadata": {
  "kernelspec": {
   "display_name": "Python 3 (ipykernel)",
   "language": "python",
   "name": "python3"
  },
  "language_info": {
   "codemirror_mode": {
    "name": "ipython",
    "version": 3
   },
   "file_extension": ".py",
   "mimetype": "text/x-python",
   "name": "python",
   "nbconvert_exporter": "python",
   "pygments_lexer": "ipython3",
   "version": "3.9.10"
  },
  "papermill": {
   "duration": 3038.236104,
   "end_time": "2020-10-27T15:51:11.693569",
   "environment_variables": {},
   "exception": null,
   "input_path": "__notebook__.ipynb",
   "output_path": "__notebook__.ipynb",
   "parameters": {},
   "start_time": "2020-10-27T15:00:33.457465",
   "version": "2.1.0"
  }
 },
 "nbformat": 4,
 "nbformat_minor": 4
}
