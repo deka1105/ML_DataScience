{
 "cells": [
  {
   "cell_type": "markdown",
   "metadata": {
    "papermill": {
     "duration": 0.055026,
     "end_time": "2020-10-27T15:00:43.205752",
     "exception": false,
     "start_time": "2020-10-27T15:00:43.150726",
     "status": "completed"
    },
    "tags": []
   },
   "source": [
    "# Importing dataset and libraries"
   ]
  },
  {
   "cell_type": "code",
   "execution_count": 1,
   "metadata": {
    "_cell_guid": "79c7e3d0-c299-4dcb-8224-4455121ee9b0",
    "_uuid": "d629ff2d2480ee46fbb7e2d37f6b5fab8052498a",
    "execution": {
     "iopub.execute_input": "2020-10-27T15:00:43.313271Z",
     "iopub.status.busy": "2020-10-27T15:00:43.312291Z",
     "iopub.status.idle": "2020-10-27T15:00:45.460291Z",
     "shell.execute_reply": "2020-10-27T15:00:45.460821Z"
    },
    "papermill": {
     "duration": 2.205702,
     "end_time": "2020-10-27T15:00:45.460983",
     "exception": false,
     "start_time": "2020-10-27T15:00:43.255281",
     "status": "completed"
    },
    "tags": []
   },
   "outputs": [],
   "source": [
    "import pandas as pd\n",
    "import matplotlib.pyplot as plt\n",
    "import seaborn as sns"
   ]
  },
  {
   "cell_type": "code",
   "execution_count": 3,
   "metadata": {
    "execution": {
     "iopub.execute_input": "2020-10-27T15:00:45.528794Z",
     "iopub.status.busy": "2020-10-27T15:00:45.526936Z",
     "iopub.status.idle": "2020-10-27T15:00:46.802883Z",
     "shell.execute_reply": "2020-10-27T15:00:46.799493Z"
    },
    "papermill": {
     "duration": 1.31405,
     "end_time": "2020-10-27T15:00:46.803177",
     "exception": false,
     "start_time": "2020-10-27T15:00:45.489127",
     "status": "completed"
    },
    "tags": []
   },
   "outputs": [
    {
     "name": "stderr",
     "output_type": "stream",
     "text": [
      "/opt/conda/lib/python3.7/site-packages/IPython/core/interactiveshell.py:3063: DtypeWarning: Columns (7) have mixed types.Specify dtype option on import or set low_memory=False.\n",
      "  interactivity=interactivity, compiler=compiler, result=result)\n"
     ]
    },
    {
     "data": {
      "text/html": [
       "<div>\n",
       "<style scoped>\n",
       "    .dataframe tbody tr th:only-of-type {\n",
       "        vertical-align: middle;\n",
       "    }\n",
       "\n",
       "    .dataframe tbody tr th {\n",
       "        vertical-align: top;\n",
       "    }\n",
       "\n",
       "    .dataframe thead th {\n",
       "        text-align: right;\n",
       "    }\n",
       "</style>\n",
       "<table border=\"1\" class=\"dataframe\">\n",
       "  <thead>\n",
       "    <tr style=\"text-align: right;\">\n",
       "      <th></th>\n",
       "      <th>Store</th>\n",
       "      <th>DayOfWeek</th>\n",
       "      <th>Date</th>\n",
       "      <th>Sales</th>\n",
       "      <th>Customers</th>\n",
       "      <th>Open</th>\n",
       "      <th>Promo</th>\n",
       "      <th>StateHoliday</th>\n",
       "      <th>SchoolHoliday</th>\n",
       "    </tr>\n",
       "  </thead>\n",
       "  <tbody>\n",
       "    <tr>\n",
       "      <th>0</th>\n",
       "      <td>1</td>\n",
       "      <td>2</td>\n",
       "      <td>2015-06-30</td>\n",
       "      <td>5735</td>\n",
       "      <td>568</td>\n",
       "      <td>1</td>\n",
       "      <td>1</td>\n",
       "      <td>0</td>\n",
       "      <td>0</td>\n",
       "    </tr>\n",
       "    <tr>\n",
       "      <th>1</th>\n",
       "      <td>2</td>\n",
       "      <td>2</td>\n",
       "      <td>2015-06-30</td>\n",
       "      <td>9863</td>\n",
       "      <td>877</td>\n",
       "      <td>1</td>\n",
       "      <td>1</td>\n",
       "      <td>0</td>\n",
       "      <td>0</td>\n",
       "    </tr>\n",
       "    <tr>\n",
       "      <th>2</th>\n",
       "      <td>3</td>\n",
       "      <td>2</td>\n",
       "      <td>2015-06-30</td>\n",
       "      <td>13261</td>\n",
       "      <td>1072</td>\n",
       "      <td>1</td>\n",
       "      <td>1</td>\n",
       "      <td>0</td>\n",
       "      <td>1</td>\n",
       "    </tr>\n",
       "    <tr>\n",
       "      <th>3</th>\n",
       "      <td>4</td>\n",
       "      <td>2</td>\n",
       "      <td>2015-06-30</td>\n",
       "      <td>13106</td>\n",
       "      <td>1488</td>\n",
       "      <td>1</td>\n",
       "      <td>1</td>\n",
       "      <td>0</td>\n",
       "      <td>0</td>\n",
       "    </tr>\n",
       "    <tr>\n",
       "      <th>4</th>\n",
       "      <td>5</td>\n",
       "      <td>2</td>\n",
       "      <td>2015-06-30</td>\n",
       "      <td>6635</td>\n",
       "      <td>645</td>\n",
       "      <td>1</td>\n",
       "      <td>1</td>\n",
       "      <td>0</td>\n",
       "      <td>0</td>\n",
       "    </tr>\n",
       "  </tbody>\n",
       "</table>\n",
       "</div>"
      ],
      "text/plain": [
       "   Store  DayOfWeek        Date  Sales  Customers  Open  Promo StateHoliday  \\\n",
       "0      1          2  2015-06-30   5735        568     1      1            0   \n",
       "1      2          2  2015-06-30   9863        877     1      1            0   \n",
       "2      3          2  2015-06-30  13261       1072     1      1            0   \n",
       "3      4          2  2015-06-30  13106       1488     1      1            0   \n",
       "4      5          2  2015-06-30   6635        645     1      1            0   \n",
       "\n",
       "   SchoolHoliday  \n",
       "0              0  \n",
       "1              0  \n",
       "2              1  \n",
       "3              0  \n",
       "4              0  "
      ]
     },
     "execution_count": 3,
     "metadata": {},
     "output_type": "execute_result"
    }
   ],
   "source": [
    "df=pd.read_csv('/kaggle/input/retail-dataset/train_data/train_data.csv')\n",
    "df.head()"
   ]
  },
  {
   "cell_type": "markdown",
   "metadata": {
    "papermill": {
     "duration": 0.046629,
     "end_time": "2020-10-27T15:00:46.897246",
     "exception": false,
     "start_time": "2020-10-27T15:00:46.850617",
     "status": "completed"
    },
    "tags": []
   },
   "source": [
    "# EDA and Visualization"
   ]
  },
  {
   "cell_type": "code",
   "execution_count": 4,
   "metadata": {
    "execution": {
     "iopub.execute_input": "2020-10-27T15:00:46.996459Z",
     "iopub.status.busy": "2020-10-27T15:00:46.995021Z",
     "iopub.status.idle": "2020-10-27T15:00:47.004908Z",
     "shell.execute_reply": "2020-10-27T15:00:47.001262Z"
    },
    "papermill": {
     "duration": 0.065004,
     "end_time": "2020-10-27T15:00:47.005520",
     "exception": false,
     "start_time": "2020-10-27T15:00:46.940516",
     "status": "completed"
    },
    "tags": []
   },
   "outputs": [
    {
     "name": "stdout",
     "output_type": "stream",
     "text": [
      "Shape of dataset\n",
      "******************************\n",
      "rows : 982644 \n",
      "columns : 9\n"
     ]
    }
   ],
   "source": [
    "# shape of dataset\n",
    "print('Shape of dataset')\n",
    "print('*'*30)\n",
    "print(f'rows : {df.shape[0]} ')\n",
    "print(f'columns : {df.shape[1]}')"
   ]
  },
  {
   "cell_type": "code",
   "execution_count": 5,
   "metadata": {
    "execution": {
     "iopub.execute_input": "2020-10-27T15:00:47.123549Z",
     "iopub.status.busy": "2020-10-27T15:00:47.122479Z",
     "iopub.status.idle": "2020-10-27T15:00:47.276774Z",
     "shell.execute_reply": "2020-10-27T15:00:47.274673Z"
    },
    "papermill": {
     "duration": 0.220099,
     "end_time": "2020-10-27T15:00:47.277019",
     "exception": false,
     "start_time": "2020-10-27T15:00:47.056920",
     "status": "completed"
    },
    "tags": []
   },
   "outputs": [
    {
     "name": "stdout",
     "output_type": "stream",
     "text": [
      "<class 'pandas.core.frame.DataFrame'>\n",
      "RangeIndex: 982644 entries, 0 to 982643\n",
      "Data columns (total 9 columns):\n",
      " #   Column         Non-Null Count   Dtype \n",
      "---  ------         --------------   ----- \n",
      " 0   Store          982644 non-null  int64 \n",
      " 1   DayOfWeek      982644 non-null  int64 \n",
      " 2   Date           982644 non-null  object\n",
      " 3   Sales          982644 non-null  int64 \n",
      " 4   Customers      982644 non-null  int64 \n",
      " 5   Open           982644 non-null  int64 \n",
      " 6   Promo          982644 non-null  int64 \n",
      " 7   StateHoliday   982644 non-null  object\n",
      " 8   SchoolHoliday  982644 non-null  int64 \n",
      "dtypes: int64(7), object(2)\n",
      "memory usage: 67.5+ MB\n"
     ]
    }
   ],
   "source": [
    "# info\n",
    "df.info()"
   ]
  },
  {
   "cell_type": "code",
   "execution_count": 6,
   "metadata": {
    "execution": {
     "iopub.execute_input": "2020-10-27T15:00:47.343937Z",
     "iopub.status.busy": "2020-10-27T15:00:47.343229Z",
     "iopub.status.idle": "2020-10-27T15:00:47.665899Z",
     "shell.execute_reply": "2020-10-27T15:00:47.664881Z"
    },
    "papermill": {
     "duration": 0.360236,
     "end_time": "2020-10-27T15:00:47.666030",
     "exception": false,
     "start_time": "2020-10-27T15:00:47.305794",
     "status": "completed"
    },
    "tags": []
   },
   "outputs": [
    {
     "data": {
      "text/plain": [
       "Store            0\n",
       "DayOfWeek        0\n",
       "Date             0\n",
       "Sales            0\n",
       "Customers        0\n",
       "Open             0\n",
       "Promo            0\n",
       "StateHoliday     0\n",
       "SchoolHoliday    0\n",
       "dtype: int64"
      ]
     },
     "execution_count": 6,
     "metadata": {},
     "output_type": "execute_result"
    }
   ],
   "source": [
    "# nan values in dataset\n",
    "df.isna().sum()"
   ]
  },
  {
   "cell_type": "code",
   "execution_count": 7,
   "metadata": {
    "execution": {
     "iopub.execute_input": "2020-10-27T15:00:47.759433Z",
     "iopub.status.busy": "2020-10-27T15:00:47.758247Z",
     "iopub.status.idle": "2020-10-27T15:00:47.764060Z",
     "shell.execute_reply": "2020-10-27T15:00:47.764588Z"
    },
    "papermill": {
     "duration": 0.052982,
     "end_time": "2020-10-27T15:00:47.764759",
     "exception": false,
     "start_time": "2020-10-27T15:00:47.711777",
     "status": "completed"
    },
    "tags": []
   },
   "outputs": [],
   "source": [
    "# no missing values"
   ]
  },
  {
   "cell_type": "code",
   "execution_count": 8,
   "metadata": {
    "execution": {
     "iopub.execute_input": "2020-10-27T15:00:47.991315Z",
     "iopub.status.busy": "2020-10-27T15:00:47.902335Z",
     "iopub.status.idle": "2020-10-27T15:00:48.000281Z",
     "shell.execute_reply": "2020-10-27T15:00:47.999611Z"
    },
    "papermill": {
     "duration": 0.201275,
     "end_time": "2020-10-27T15:00:48.000433",
     "exception": false,
     "start_time": "2020-10-27T15:00:47.799158",
     "status": "completed"
    },
    "tags": []
   },
   "outputs": [
    {
     "data": {
      "text/plain": [
       "array(['0', 'a', 'b', 'c', 0], dtype=object)"
      ]
     },
     "execution_count": 8,
     "metadata": {},
     "output_type": "execute_result"
    }
   ],
   "source": [
    "#unique values\n",
    "df['StateHoliday'].unique()"
   ]
  },
  {
   "cell_type": "code",
   "execution_count": 9,
   "metadata": {
    "execution": {
     "iopub.execute_input": "2020-10-27T15:00:48.089042Z",
     "iopub.status.busy": "2020-10-27T15:00:48.086656Z",
     "iopub.status.idle": "2020-10-27T15:00:48.092923Z",
     "shell.execute_reply": "2020-10-27T15:00:48.092019Z"
    },
    "papermill": {
     "duration": 0.054723,
     "end_time": "2020-10-27T15:00:48.093051",
     "exception": false,
     "start_time": "2020-10-27T15:00:48.038328",
     "status": "completed"
    },
    "tags": []
   },
   "outputs": [],
   "source": [
    "sh={'0':0, 'a':1, 'b':2, 'c':3,0:0}"
   ]
  },
  {
   "cell_type": "code",
   "execution_count": 10,
   "metadata": {
    "execution": {
     "iopub.execute_input": "2020-10-27T15:00:48.398115Z",
     "iopub.status.busy": "2020-10-27T15:00:48.397443Z",
     "iopub.status.idle": "2020-10-27T15:00:48.421081Z",
     "shell.execute_reply": "2020-10-27T15:00:48.420229Z"
    },
    "papermill": {
     "duration": 0.29215,
     "end_time": "2020-10-27T15:00:48.421217",
     "exception": false,
     "start_time": "2020-10-27T15:00:48.129067",
     "status": "completed"
    },
    "tags": []
   },
   "outputs": [],
   "source": [
    "df['StateHoliday']=df['StateHoliday'].map(sh)"
   ]
  },
  {
   "cell_type": "code",
   "execution_count": 11,
   "metadata": {
    "execution": {
     "iopub.execute_input": "2020-10-27T15:00:48.498351Z",
     "iopub.status.busy": "2020-10-27T15:00:48.494366Z",
     "iopub.status.idle": "2020-10-27T15:00:48.513599Z",
     "shell.execute_reply": "2020-10-27T15:00:48.512883Z"
    },
    "papermill": {
     "duration": 0.056935,
     "end_time": "2020-10-27T15:00:48.513748",
     "exception": false,
     "start_time": "2020-10-27T15:00:48.456813",
     "status": "completed"
    },
    "tags": []
   },
   "outputs": [
    {
     "data": {
      "text/plain": [
       "array([0, 1])"
      ]
     },
     "execution_count": 11,
     "metadata": {},
     "output_type": "execute_result"
    }
   ],
   "source": [
    "df['SchoolHoliday'].unique()"
   ]
  },
  {
   "cell_type": "code",
   "execution_count": 12,
   "metadata": {
    "execution": {
     "iopub.execute_input": "2020-10-27T15:00:48.606541Z",
     "iopub.status.busy": "2020-10-27T15:00:48.605594Z",
     "iopub.status.idle": "2020-10-27T15:00:48.901734Z",
     "shell.execute_reply": "2020-10-27T15:00:48.902768Z"
    },
    "papermill": {
     "duration": 0.347932,
     "end_time": "2020-10-27T15:00:48.903032",
     "exception": false,
     "start_time": "2020-10-27T15:00:48.555100",
     "status": "completed"
    },
    "tags": []
   },
   "outputs": [
    {
     "data": {
      "text/html": [
       "<div>\n",
       "<style scoped>\n",
       "    .dataframe tbody tr th:only-of-type {\n",
       "        vertical-align: middle;\n",
       "    }\n",
       "\n",
       "    .dataframe tbody tr th {\n",
       "        vertical-align: top;\n",
       "    }\n",
       "\n",
       "    .dataframe thead th {\n",
       "        text-align: right;\n",
       "    }\n",
       "</style>\n",
       "<table border=\"1\" class=\"dataframe\">\n",
       "  <thead>\n",
       "    <tr style=\"text-align: right;\">\n",
       "      <th></th>\n",
       "      <th>count</th>\n",
       "      <th>mean</th>\n",
       "      <th>std</th>\n",
       "      <th>min</th>\n",
       "      <th>25%</th>\n",
       "      <th>50%</th>\n",
       "      <th>75%</th>\n",
       "      <th>max</th>\n",
       "    </tr>\n",
       "  </thead>\n",
       "  <tbody>\n",
       "    <tr>\n",
       "      <th>Store</th>\n",
       "      <td>982644.0</td>\n",
       "      <td>558.444843</td>\n",
       "      <td>321.909907</td>\n",
       "      <td>1.0</td>\n",
       "      <td>280.0</td>\n",
       "      <td>558.0</td>\n",
       "      <td>838.0</td>\n",
       "      <td>1115.0</td>\n",
       "    </tr>\n",
       "    <tr>\n",
       "      <th>DayOfWeek</th>\n",
       "      <td>982644.0</td>\n",
       "      <td>3.998282</td>\n",
       "      <td>2.000138</td>\n",
       "      <td>1.0</td>\n",
       "      <td>2.0</td>\n",
       "      <td>4.0</td>\n",
       "      <td>6.0</td>\n",
       "      <td>7.0</td>\n",
       "    </tr>\n",
       "    <tr>\n",
       "      <th>Sales</th>\n",
       "      <td>982644.0</td>\n",
       "      <td>5760.843202</td>\n",
       "      <td>3857.573443</td>\n",
       "      <td>0.0</td>\n",
       "      <td>3705.0</td>\n",
       "      <td>5731.0</td>\n",
       "      <td>7847.0</td>\n",
       "      <td>41551.0</td>\n",
       "    </tr>\n",
       "    <tr>\n",
       "      <th>Customers</th>\n",
       "      <td>982644.0</td>\n",
       "      <td>632.770227</td>\n",
       "      <td>465.401378</td>\n",
       "      <td>0.0</td>\n",
       "      <td>403.0</td>\n",
       "      <td>609.0</td>\n",
       "      <td>838.0</td>\n",
       "      <td>7388.0</td>\n",
       "    </tr>\n",
       "    <tr>\n",
       "      <th>Open</th>\n",
       "      <td>982644.0</td>\n",
       "      <td>0.828585</td>\n",
       "      <td>0.376871</td>\n",
       "      <td>0.0</td>\n",
       "      <td>1.0</td>\n",
       "      <td>1.0</td>\n",
       "      <td>1.0</td>\n",
       "      <td>1.0</td>\n",
       "    </tr>\n",
       "    <tr>\n",
       "      <th>Promo</th>\n",
       "      <td>982644.0</td>\n",
       "      <td>0.380183</td>\n",
       "      <td>0.485432</td>\n",
       "      <td>0.0</td>\n",
       "      <td>0.0</td>\n",
       "      <td>0.0</td>\n",
       "      <td>1.0</td>\n",
       "      <td>1.0</td>\n",
       "    </tr>\n",
       "    <tr>\n",
       "      <th>StateHoliday</th>\n",
       "      <td>982644.0</td>\n",
       "      <td>0.046751</td>\n",
       "      <td>0.288473</td>\n",
       "      <td>0.0</td>\n",
       "      <td>0.0</td>\n",
       "      <td>0.0</td>\n",
       "      <td>0.0</td>\n",
       "      <td>3.0</td>\n",
       "    </tr>\n",
       "    <tr>\n",
       "      <th>SchoolHoliday</th>\n",
       "      <td>982644.0</td>\n",
       "      <td>0.171928</td>\n",
       "      <td>0.377318</td>\n",
       "      <td>0.0</td>\n",
       "      <td>0.0</td>\n",
       "      <td>0.0</td>\n",
       "      <td>0.0</td>\n",
       "      <td>1.0</td>\n",
       "    </tr>\n",
       "  </tbody>\n",
       "</table>\n",
       "</div>"
      ],
      "text/plain": [
       "                  count         mean          std  min     25%     50%  \\\n",
       "Store          982644.0   558.444843   321.909907  1.0   280.0   558.0   \n",
       "DayOfWeek      982644.0     3.998282     2.000138  1.0     2.0     4.0   \n",
       "Sales          982644.0  5760.843202  3857.573443  0.0  3705.0  5731.0   \n",
       "Customers      982644.0   632.770227   465.401378  0.0   403.0   609.0   \n",
       "Open           982644.0     0.828585     0.376871  0.0     1.0     1.0   \n",
       "Promo          982644.0     0.380183     0.485432  0.0     0.0     0.0   \n",
       "StateHoliday   982644.0     0.046751     0.288473  0.0     0.0     0.0   \n",
       "SchoolHoliday  982644.0     0.171928     0.377318  0.0     0.0     0.0   \n",
       "\n",
       "                  75%      max  \n",
       "Store           838.0   1115.0  \n",
       "DayOfWeek         6.0      7.0  \n",
       "Sales          7847.0  41551.0  \n",
       "Customers       838.0   7388.0  \n",
       "Open              1.0      1.0  \n",
       "Promo             1.0      1.0  \n",
       "StateHoliday      0.0      3.0  \n",
       "SchoolHoliday     0.0      1.0  "
      ]
     },
     "execution_count": 12,
     "metadata": {},
     "output_type": "execute_result"
    }
   ],
   "source": [
    "# statistical info\n",
    "df.describe().T"
   ]
  },
  {
   "cell_type": "code",
   "execution_count": 13,
   "metadata": {
    "execution": {
     "iopub.execute_input": "2020-10-27T15:00:48.990097Z",
     "iopub.status.busy": "2020-10-27T15:00:48.987823Z",
     "iopub.status.idle": "2020-10-27T15:00:49.000316Z",
     "shell.execute_reply": "2020-10-27T15:00:48.998378Z"
    },
    "papermill": {
     "duration": 0.067343,
     "end_time": "2020-10-27T15:00:49.000547",
     "exception": false,
     "start_time": "2020-10-27T15:00:48.933204",
     "status": "completed"
    },
    "tags": []
   },
   "outputs": [
    {
     "data": {
      "text/html": [
       "<div>\n",
       "<style scoped>\n",
       "    .dataframe tbody tr th:only-of-type {\n",
       "        vertical-align: middle;\n",
       "    }\n",
       "\n",
       "    .dataframe tbody tr th {\n",
       "        vertical-align: top;\n",
       "    }\n",
       "\n",
       "    .dataframe thead th {\n",
       "        text-align: right;\n",
       "    }\n",
       "</style>\n",
       "<table border=\"1\" class=\"dataframe\">\n",
       "  <thead>\n",
       "    <tr style=\"text-align: right;\">\n",
       "      <th></th>\n",
       "      <th>Store</th>\n",
       "      <th>DayOfWeek</th>\n",
       "      <th>Date</th>\n",
       "      <th>Sales</th>\n",
       "      <th>Customers</th>\n",
       "      <th>Open</th>\n",
       "      <th>Promo</th>\n",
       "      <th>StateHoliday</th>\n",
       "      <th>SchoolHoliday</th>\n",
       "    </tr>\n",
       "  </thead>\n",
       "  <tbody>\n",
       "    <tr>\n",
       "      <th>0</th>\n",
       "      <td>1</td>\n",
       "      <td>2</td>\n",
       "      <td>2015-06-30</td>\n",
       "      <td>5735</td>\n",
       "      <td>568</td>\n",
       "      <td>1</td>\n",
       "      <td>1</td>\n",
       "      <td>0</td>\n",
       "      <td>0</td>\n",
       "    </tr>\n",
       "    <tr>\n",
       "      <th>1</th>\n",
       "      <td>2</td>\n",
       "      <td>2</td>\n",
       "      <td>2015-06-30</td>\n",
       "      <td>9863</td>\n",
       "      <td>877</td>\n",
       "      <td>1</td>\n",
       "      <td>1</td>\n",
       "      <td>0</td>\n",
       "      <td>0</td>\n",
       "    </tr>\n",
       "    <tr>\n",
       "      <th>2</th>\n",
       "      <td>3</td>\n",
       "      <td>2</td>\n",
       "      <td>2015-06-30</td>\n",
       "      <td>13261</td>\n",
       "      <td>1072</td>\n",
       "      <td>1</td>\n",
       "      <td>1</td>\n",
       "      <td>0</td>\n",
       "      <td>1</td>\n",
       "    </tr>\n",
       "    <tr>\n",
       "      <th>3</th>\n",
       "      <td>4</td>\n",
       "      <td>2</td>\n",
       "      <td>2015-06-30</td>\n",
       "      <td>13106</td>\n",
       "      <td>1488</td>\n",
       "      <td>1</td>\n",
       "      <td>1</td>\n",
       "      <td>0</td>\n",
       "      <td>0</td>\n",
       "    </tr>\n",
       "    <tr>\n",
       "      <th>4</th>\n",
       "      <td>5</td>\n",
       "      <td>2</td>\n",
       "      <td>2015-06-30</td>\n",
       "      <td>6635</td>\n",
       "      <td>645</td>\n",
       "      <td>1</td>\n",
       "      <td>1</td>\n",
       "      <td>0</td>\n",
       "      <td>0</td>\n",
       "    </tr>\n",
       "  </tbody>\n",
       "</table>\n",
       "</div>"
      ],
      "text/plain": [
       "   Store  DayOfWeek        Date  Sales  Customers  Open  Promo  StateHoliday  \\\n",
       "0      1          2  2015-06-30   5735        568     1      1             0   \n",
       "1      2          2  2015-06-30   9863        877     1      1             0   \n",
       "2      3          2  2015-06-30  13261       1072     1      1             0   \n",
       "3      4          2  2015-06-30  13106       1488     1      1             0   \n",
       "4      5          2  2015-06-30   6635        645     1      1             0   \n",
       "\n",
       "   SchoolHoliday  \n",
       "0              0  \n",
       "1              0  \n",
       "2              1  \n",
       "3              0  \n",
       "4              0  "
      ]
     },
     "execution_count": 13,
     "metadata": {},
     "output_type": "execute_result"
    }
   ],
   "source": [
    "df.head()"
   ]
  },
  {
   "cell_type": "code",
   "execution_count": 14,
   "metadata": {
    "execution": {
     "iopub.execute_input": "2020-10-27T15:00:49.120199Z",
     "iopub.status.busy": "2020-10-27T15:00:49.119331Z",
     "iopub.status.idle": "2020-10-27T15:00:50.216324Z",
     "shell.execute_reply": "2020-10-27T15:00:50.215572Z"
    },
    "papermill": {
     "duration": 1.156544,
     "end_time": "2020-10-27T15:00:50.216494",
     "exception": false,
     "start_time": "2020-10-27T15:00:49.059950",
     "status": "completed"
    },
    "tags": []
   },
   "outputs": [
    {
     "data": {
      "text/plain": [
       "<matplotlib.axes._subplots.AxesSubplot at 0x7f449c6c8690>"
      ]
     },
     "execution_count": 14,
     "metadata": {},
     "output_type": "execute_result"
    },
    {
     "data": {
      "image/png": "[encoded data removed]",
      "text/plain": [
       "<Figure size 432x288 with 1 Axes>"
      ]
     },
     "metadata": {
      "needs_background": "light"
     },
     "output_type": "display_data"
    }
   ],
   "source": [
    "# distribution plot\n",
    "sns.distplot(df['Sales'])"
   ]
  },
  {
   "cell_type": "code",
   "execution_count": 15,
   "metadata": {
    "execution": {
     "iopub.execute_input": "2020-10-27T15:00:50.385699Z",
     "iopub.status.busy": "2020-10-27T15:00:50.381113Z",
     "iopub.status.idle": "2020-10-27T15:00:51.228527Z",
     "shell.execute_reply": "2020-10-27T15:00:51.227753Z"
    },
    "papermill": {
     "duration": 0.9379,
     "end_time": "2020-10-27T15:00:51.228657",
     "exception": false,
     "start_time": "2020-10-27T15:00:50.290757",
     "status": "completed"
    },
    "tags": []
   },
   "outputs": [
    {
     "data": {
      "text/plain": [
       "<matplotlib.axes._subplots.AxesSubplot at 0x7f449c487510>"
      ]
     },
     "execution_count": 15,
     "metadata": {},
     "output_type": "execute_result"
    },
    {
     "data": {
      "image/png": "[encoded data removed]",
      "text/plain": [
       "<Figure size 432x288 with 1 Axes>"
      ]
     },
     "metadata": {
      "needs_background": "light"
     },
     "output_type": "display_data"
    }
   ],
   "source": [
    "sns.distplot(df['Customers'])"
   ]
  },
  {
   "cell_type": "code",
   "execution_count": 16,
   "metadata": {
    "execution": {
     "iopub.execute_input": "2020-10-27T15:00:51.347698Z",
     "iopub.status.busy": "2020-10-27T15:00:51.344645Z",
     "iopub.status.idle": "2020-10-27T15:00:51.650130Z",
     "shell.execute_reply": "2020-10-27T15:00:51.649570Z"
    },
    "papermill": {
     "duration": 0.380255,
     "end_time": "2020-10-27T15:00:51.650258",
     "exception": false,
     "start_time": "2020-10-27T15:00:51.270003",
     "status": "completed"
    },
    "tags": []
   },
   "outputs": [
    {
     "data": {
      "text/plain": [
       "<matplotlib.axes._subplots.AxesSubplot at 0x7f449c32d090>"
      ]
     },
     "execution_count": 16,
     "metadata": {},
     "output_type": "execute_result"
    },
    {
     "data": {
      "image/png": "[encoded data removed]",
      "text/plain": [
       "<Figure size 432x288 with 1 Axes>"
      ]
     },
     "metadata": {
      "needs_background": "light"
     },
     "output_type": "display_data"
    }
   ],
   "source": [
    "# boxplots\n",
    "sns.boxplot(df['Sales'])"
   ]
  },
  {
   "cell_type": "code",
   "execution_count": 17,
   "metadata": {
    "execution": {
     "iopub.execute_input": "2020-10-27T15:00:51.752626Z",
     "iopub.status.busy": "2020-10-27T15:00:51.751699Z",
     "iopub.status.idle": "2020-10-27T15:00:52.397750Z",
     "shell.execute_reply": "2020-10-27T15:00:52.397121Z"
    },
    "papermill": {
     "duration": 0.71365,
     "end_time": "2020-10-27T15:00:52.397886",
     "exception": false,
     "start_time": "2020-10-27T15:00:51.684236",
     "status": "completed"
    },
    "tags": []
   },
   "outputs": [],
   "source": [
    "#feature engineering\n",
    "df['day']=pd.to_datetime(df['Date'], format='%Y-%m-%d').dt.day\n",
    "df['month']=pd.to_datetime(df['Date'], format='%Y-%m-%d').dt.month\n",
    "df['year']=pd.to_datetime(df['Date'], format='%Y-%m-%d').dt.year"
   ]
  },
  {
   "cell_type": "code",
   "execution_count": 18,
   "metadata": {
    "execution": {
     "iopub.execute_input": "2020-10-27T15:00:52.499826Z",
     "iopub.status.busy": "2020-10-27T15:00:52.498275Z",
     "iopub.status.idle": "2020-10-27T15:00:52.506836Z",
     "shell.execute_reply": "2020-10-27T15:00:52.505013Z"
    },
    "papermill": {
     "duration": 0.071181,
     "end_time": "2020-10-27T15:00:52.507148",
     "exception": false,
     "start_time": "2020-10-27T15:00:52.435967",
     "status": "completed"
    },
    "tags": []
   },
   "outputs": [
    {
     "data": {
      "text/html": [
       "<div>\n",
       "<style scoped>\n",
       "    .dataframe tbody tr th:only-of-type {\n",
       "        vertical-align: middle;\n",
       "    }\n",
       "\n",
       "    .dataframe tbody tr th {\n",
       "        vertical-align: top;\n",
       "    }\n",
       "\n",
       "    .dataframe thead th {\n",
       "        text-align: right;\n",
       "    }\n",
       "</style>\n",
       "<table border=\"1\" class=\"dataframe\">\n",
       "  <thead>\n",
       "    <tr style=\"text-align: right;\">\n",
       "      <th></th>\n",
       "      <th>Store</th>\n",
       "      <th>DayOfWeek</th>\n",
       "      <th>Date</th>\n",
       "      <th>Sales</th>\n",
       "      <th>Customers</th>\n",
       "      <th>Open</th>\n",
       "      <th>Promo</th>\n",
       "      <th>StateHoliday</th>\n",
       "      <th>SchoolHoliday</th>\n",
       "      <th>day</th>\n",
       "      <th>month</th>\n",
       "      <th>year</th>\n",
       "    </tr>\n",
       "  </thead>\n",
       "  <tbody>\n",
       "    <tr>\n",
       "      <th>0</th>\n",
       "      <td>1</td>\n",
       "      <td>2</td>\n",
       "      <td>2015-06-30</td>\n",
       "      <td>5735</td>\n",
       "      <td>568</td>\n",
       "      <td>1</td>\n",
       "      <td>1</td>\n",
       "      <td>0</td>\n",
       "      <td>0</td>\n",
       "      <td>30</td>\n",
       "      <td>6</td>\n",
       "      <td>2015</td>\n",
       "    </tr>\n",
       "    <tr>\n",
       "      <th>1</th>\n",
       "      <td>2</td>\n",
       "      <td>2</td>\n",
       "      <td>2015-06-30</td>\n",
       "      <td>9863</td>\n",
       "      <td>877</td>\n",
       "      <td>1</td>\n",
       "      <td>1</td>\n",
       "      <td>0</td>\n",
       "      <td>0</td>\n",
       "      <td>30</td>\n",
       "      <td>6</td>\n",
       "      <td>2015</td>\n",
       "    </tr>\n",
       "    <tr>\n",
       "      <th>2</th>\n",
       "      <td>3</td>\n",
       "      <td>2</td>\n",
       "      <td>2015-06-30</td>\n",
       "      <td>13261</td>\n",
       "      <td>1072</td>\n",
       "      <td>1</td>\n",
       "      <td>1</td>\n",
       "      <td>0</td>\n",
       "      <td>1</td>\n",
       "      <td>30</td>\n",
       "      <td>6</td>\n",
       "      <td>2015</td>\n",
       "    </tr>\n",
       "    <tr>\n",
       "      <th>3</th>\n",
       "      <td>4</td>\n",
       "      <td>2</td>\n",
       "      <td>2015-06-30</td>\n",
       "      <td>13106</td>\n",
       "      <td>1488</td>\n",
       "      <td>1</td>\n",
       "      <td>1</td>\n",
       "      <td>0</td>\n",
       "      <td>0</td>\n",
       "      <td>30</td>\n",
       "      <td>6</td>\n",
       "      <td>2015</td>\n",
       "    </tr>\n",
       "    <tr>\n",
       "      <th>4</th>\n",
       "      <td>5</td>\n",
       "      <td>2</td>\n",
       "      <td>2015-06-30</td>\n",
       "      <td>6635</td>\n",
       "      <td>645</td>\n",
       "      <td>1</td>\n",
       "      <td>1</td>\n",
       "      <td>0</td>\n",
       "      <td>0</td>\n",
       "      <td>30</td>\n",
       "      <td>6</td>\n",
       "      <td>2015</td>\n",
       "    </tr>\n",
       "  </tbody>\n",
       "</table>\n",
       "</div>"
      ],
      "text/plain": [
       "   Store  DayOfWeek        Date  Sales  Customers  Open  Promo  StateHoliday  \\\n",
       "0      1          2  2015-06-30   5735        568     1      1             0   \n",
       "1      2          2  2015-06-30   9863        877     1      1             0   \n",
       "2      3          2  2015-06-30  13261       1072     1      1             0   \n",
       "3      4          2  2015-06-30  13106       1488     1      1             0   \n",
       "4      5          2  2015-06-30   6635        645     1      1             0   \n",
       "\n",
       "   SchoolHoliday  day  month  year  \n",
       "0              0   30      6  2015  \n",
       "1              0   30      6  2015  \n",
       "2              1   30      6  2015  \n",
       "3              0   30      6  2015  \n",
       "4              0   30      6  2015  "
      ]
     },
     "execution_count": 18,
     "metadata": {},
     "output_type": "execute_result"
    }
   ],
   "source": [
    "df.head()"
   ]
  },
  {
   "cell_type": "code",
   "execution_count": 19,
   "metadata": {
    "execution": {
     "iopub.execute_input": "2020-10-27T15:00:52.641690Z",
     "iopub.status.busy": "2020-10-27T15:00:52.640960Z",
     "iopub.status.idle": "2020-10-27T15:00:52.649543Z",
     "shell.execute_reply": "2020-10-27T15:00:52.648664Z"
    },
    "papermill": {
     "duration": 0.083963,
     "end_time": "2020-10-27T15:00:52.649697",
     "exception": false,
     "start_time": "2020-10-27T15:00:52.565734",
     "status": "completed"
    },
    "tags": []
   },
   "outputs": [
    {
     "data": {
      "text/html": [
       "<div>\n",
       "<style scoped>\n",
       "    .dataframe tbody tr th:only-of-type {\n",
       "        vertical-align: middle;\n",
       "    }\n",
       "\n",
       "    .dataframe tbody tr th {\n",
       "        vertical-align: top;\n",
       "    }\n",
       "\n",
       "    .dataframe thead th {\n",
       "        text-align: right;\n",
       "    }\n",
       "</style>\n",
       "<table border=\"1\" class=\"dataframe\">\n",
       "  <thead>\n",
       "    <tr style=\"text-align: right;\">\n",
       "      <th></th>\n",
       "      <th>Store</th>\n",
       "      <th>DayOfWeek</th>\n",
       "      <th>Date</th>\n",
       "      <th>Sales</th>\n",
       "      <th>Customers</th>\n",
       "      <th>Open</th>\n",
       "      <th>Promo</th>\n",
       "      <th>StateHoliday</th>\n",
       "      <th>SchoolHoliday</th>\n",
       "      <th>day</th>\n",
       "      <th>month</th>\n",
       "      <th>year</th>\n",
       "    </tr>\n",
       "  </thead>\n",
       "  <tbody>\n",
       "    <tr>\n",
       "      <th>982639</th>\n",
       "      <td>1111</td>\n",
       "      <td>2</td>\n",
       "      <td>2013-01-01</td>\n",
       "      <td>0</td>\n",
       "      <td>0</td>\n",
       "      <td>0</td>\n",
       "      <td>0</td>\n",
       "      <td>1</td>\n",
       "      <td>1</td>\n",
       "      <td>1</td>\n",
       "      <td>1</td>\n",
       "      <td>2013</td>\n",
       "    </tr>\n",
       "    <tr>\n",
       "      <th>982640</th>\n",
       "      <td>1112</td>\n",
       "      <td>2</td>\n",
       "      <td>2013-01-01</td>\n",
       "      <td>0</td>\n",
       "      <td>0</td>\n",
       "      <td>0</td>\n",
       "      <td>0</td>\n",
       "      <td>1</td>\n",
       "      <td>1</td>\n",
       "      <td>1</td>\n",
       "      <td>1</td>\n",
       "      <td>2013</td>\n",
       "    </tr>\n",
       "    <tr>\n",
       "      <th>982641</th>\n",
       "      <td>1113</td>\n",
       "      <td>2</td>\n",
       "      <td>2013-01-01</td>\n",
       "      <td>0</td>\n",
       "      <td>0</td>\n",
       "      <td>0</td>\n",
       "      <td>0</td>\n",
       "      <td>1</td>\n",
       "      <td>1</td>\n",
       "      <td>1</td>\n",
       "      <td>1</td>\n",
       "      <td>2013</td>\n",
       "    </tr>\n",
       "    <tr>\n",
       "      <th>982642</th>\n",
       "      <td>1114</td>\n",
       "      <td>2</td>\n",
       "      <td>2013-01-01</td>\n",
       "      <td>0</td>\n",
       "      <td>0</td>\n",
       "      <td>0</td>\n",
       "      <td>0</td>\n",
       "      <td>1</td>\n",
       "      <td>1</td>\n",
       "      <td>1</td>\n",
       "      <td>1</td>\n",
       "      <td>2013</td>\n",
       "    </tr>\n",
       "    <tr>\n",
       "      <th>982643</th>\n",
       "      <td>1115</td>\n",
       "      <td>2</td>\n",
       "      <td>2013-01-01</td>\n",
       "      <td>0</td>\n",
       "      <td>0</td>\n",
       "      <td>0</td>\n",
       "      <td>0</td>\n",
       "      <td>1</td>\n",
       "      <td>1</td>\n",
       "      <td>1</td>\n",
       "      <td>1</td>\n",
       "      <td>2013</td>\n",
       "    </tr>\n",
       "  </tbody>\n",
       "</table>\n",
       "</div>"
      ],
      "text/plain": [
       "        Store  DayOfWeek        Date  Sales  Customers  Open  Promo  \\\n",
       "982639   1111          2  2013-01-01      0          0     0      0   \n",
       "982640   1112          2  2013-01-01      0          0     0      0   \n",
       "982641   1113          2  2013-01-01      0          0     0      0   \n",
       "982642   1114          2  2013-01-01      0          0     0      0   \n",
       "982643   1115          2  2013-01-01      0          0     0      0   \n",
       "\n",
       "        StateHoliday  SchoolHoliday  day  month  year  \n",
       "982639             1              1    1      1  2013  \n",
       "982640             1              1    1      1  2013  \n",
       "982641             1              1    1      1  2013  \n",
       "982642             1              1    1      1  2013  \n",
       "982643             1              1    1      1  2013  "
      ]
     },
     "execution_count": 19,
     "metadata": {},
     "output_type": "execute_result"
    }
   ],
   "source": [
    "df.tail()"
   ]
  },
  {
   "cell_type": "code",
   "execution_count": 20,
   "metadata": {
    "execution": {
     "iopub.execute_input": "2020-10-27T15:00:52.775561Z",
     "iopub.status.busy": "2020-10-27T15:00:52.774850Z",
     "iopub.status.idle": "2020-10-27T15:00:52.864863Z",
     "shell.execute_reply": "2020-10-27T15:00:52.864025Z"
    },
    "papermill": {
     "duration": 0.157115,
     "end_time": "2020-10-27T15:00:52.864987",
     "exception": false,
     "start_time": "2020-10-27T15:00:52.707872",
     "status": "completed"
    },
    "tags": []
   },
   "outputs": [],
   "source": [
    "df.drop('Date', axis=1, inplace=True)"
   ]
  },
  {
   "cell_type": "code",
   "execution_count": 21,
   "metadata": {
    "execution": {
     "iopub.execute_input": "2020-10-27T15:00:52.953781Z",
     "iopub.status.busy": "2020-10-27T15:00:52.952570Z",
     "iopub.status.idle": "2020-10-27T15:00:52.960759Z",
     "shell.execute_reply": "2020-10-27T15:00:52.959594Z"
    },
    "papermill": {
     "duration": 0.059419,
     "end_time": "2020-10-27T15:00:52.960982",
     "exception": false,
     "start_time": "2020-10-27T15:00:52.901563",
     "status": "completed"
    },
    "tags": []
   },
   "outputs": [
    {
     "data": {
      "text/html": [
       "<div>\n",
       "<style scoped>\n",
       "    .dataframe tbody tr th:only-of-type {\n",
       "        vertical-align: middle;\n",
       "    }\n",
       "\n",
       "    .dataframe tbody tr th {\n",
       "        vertical-align: top;\n",
       "    }\n",
       "\n",
       "    .dataframe thead th {\n",
       "        text-align: right;\n",
       "    }\n",
       "</style>\n",
       "<table border=\"1\" class=\"dataframe\">\n",
       "  <thead>\n",
       "    <tr style=\"text-align: right;\">\n",
       "      <th></th>\n",
       "      <th>Store</th>\n",
       "      <th>DayOfWeek</th>\n",
       "      <th>Sales</th>\n",
       "      <th>Customers</th>\n",
       "      <th>Open</th>\n",
       "      <th>Promo</th>\n",
       "      <th>StateHoliday</th>\n",
       "      <th>SchoolHoliday</th>\n",
       "      <th>day</th>\n",
       "      <th>month</th>\n",
       "      <th>year</th>\n",
       "    </tr>\n",
       "  </thead>\n",
       "  <tbody>\n",
       "    <tr>\n",
       "      <th>0</th>\n",
       "      <td>1</td>\n",
       "      <td>2</td>\n",
       "      <td>5735</td>\n",
       "      <td>568</td>\n",
       "      <td>1</td>\n",
       "      <td>1</td>\n",
       "      <td>0</td>\n",
       "      <td>0</td>\n",
       "      <td>30</td>\n",
       "      <td>6</td>\n",
       "      <td>2015</td>\n",
       "    </tr>\n",
       "    <tr>\n",
       "      <th>1</th>\n",
       "      <td>2</td>\n",
       "      <td>2</td>\n",
       "      <td>9863</td>\n",
       "      <td>877</td>\n",
       "      <td>1</td>\n",
       "      <td>1</td>\n",
       "      <td>0</td>\n",
       "      <td>0</td>\n",
       "      <td>30</td>\n",
       "      <td>6</td>\n",
       "      <td>2015</td>\n",
       "    </tr>\n",
       "    <tr>\n",
       "      <th>2</th>\n",
       "      <td>3</td>\n",
       "      <td>2</td>\n",
       "      <td>13261</td>\n",
       "      <td>1072</td>\n",
       "      <td>1</td>\n",
       "      <td>1</td>\n",
       "      <td>0</td>\n",
       "      <td>1</td>\n",
       "      <td>30</td>\n",
       "      <td>6</td>\n",
       "      <td>2015</td>\n",
       "    </tr>\n",
       "    <tr>\n",
       "      <th>3</th>\n",
       "      <td>4</td>\n",
       "      <td>2</td>\n",
       "      <td>13106</td>\n",
       "      <td>1488</td>\n",
       "      <td>1</td>\n",
       "      <td>1</td>\n",
       "      <td>0</td>\n",
       "      <td>0</td>\n",
       "      <td>30</td>\n",
       "      <td>6</td>\n",
       "      <td>2015</td>\n",
       "    </tr>\n",
       "    <tr>\n",
       "      <th>4</th>\n",
       "      <td>5</td>\n",
       "      <td>2</td>\n",
       "      <td>6635</td>\n",
       "      <td>645</td>\n",
       "      <td>1</td>\n",
       "      <td>1</td>\n",
       "      <td>0</td>\n",
       "      <td>0</td>\n",
       "      <td>30</td>\n",
       "      <td>6</td>\n",
       "      <td>2015</td>\n",
       "    </tr>\n",
       "  </tbody>\n",
       "</table>\n",
       "</div>"
      ],
      "text/plain": [
       "   Store  DayOfWeek  Sales  Customers  Open  Promo  StateHoliday  \\\n",
       "0      1          2   5735        568     1      1             0   \n",
       "1      2          2   9863        877     1      1             0   \n",
       "2      3          2  13261       1072     1      1             0   \n",
       "3      4          2  13106       1488     1      1             0   \n",
       "4      5          2   6635        645     1      1             0   \n",
       "\n",
       "   SchoolHoliday  day  month  year  \n",
       "0              0   30      6  2015  \n",
       "1              0   30      6  2015  \n",
       "2              1   30      6  2015  \n",
       "3              0   30      6  2015  \n",
       "4              0   30      6  2015  "
      ]
     },
     "execution_count": 21,
     "metadata": {},
     "output_type": "execute_result"
    }
   ],
   "source": [
    "df.head()"
   ]
  },
  {
   "cell_type": "code",
   "execution_count": 22,
   "metadata": {
    "execution": {
     "iopub.execute_input": "2020-10-27T15:00:53.055632Z",
     "iopub.status.busy": "2020-10-27T15:00:53.054672Z",
     "iopub.status.idle": "2020-10-27T15:00:53.069016Z",
     "shell.execute_reply": "2020-10-27T15:00:53.068079Z"
    },
    "papermill": {
     "duration": 0.064419,
     "end_time": "2020-10-27T15:00:53.069161",
     "exception": false,
     "start_time": "2020-10-27T15:00:53.004742",
     "status": "completed"
    },
    "tags": []
   },
   "outputs": [
    {
     "data": {
      "text/plain": [
       "array([0, 1, 2, 3])"
      ]
     },
     "execution_count": 22,
     "metadata": {},
     "output_type": "execute_result"
    }
   ],
   "source": [
    "df['StateHoliday'].unique()"
   ]
  },
  {
   "cell_type": "code",
   "execution_count": 23,
   "metadata": {
    "execution": {
     "iopub.execute_input": "2020-10-27T15:00:53.193887Z",
     "iopub.status.busy": "2020-10-27T15:00:53.192897Z",
     "iopub.status.idle": "2020-10-27T15:00:53.201273Z",
     "shell.execute_reply": "2020-10-27T15:00:53.199910Z"
    },
    "papermill": {
     "duration": 0.073006,
     "end_time": "2020-10-27T15:00:53.201513",
     "exception": false,
     "start_time": "2020-10-27T15:00:53.128507",
     "status": "completed"
    },
    "tags": []
   },
   "outputs": [],
   "source": [
    "y=df['Sales']\n",
    "X=df.drop('Sales', axis=1)"
   ]
  },
  {
   "cell_type": "markdown",
   "metadata": {
    "papermill": {
     "duration": 0.042236,
     "end_time": "2020-10-27T15:00:53.284317",
     "exception": false,
     "start_time": "2020-10-27T15:00:53.242081",
     "status": "completed"
    },
    "tags": []
   },
   "source": [
    "# Model Building"
   ]
  },
  {
   "cell_type": "code",
   "execution_count": 24,
   "metadata": {
    "execution": {
     "iopub.execute_input": "2020-10-27T15:00:53.376796Z",
     "iopub.status.busy": "2020-10-27T15:00:53.374808Z",
     "iopub.status.idle": "2020-10-27T15:00:53.910520Z",
     "shell.execute_reply": "2020-10-27T15:00:53.909626Z"
    },
    "papermill": {
     "duration": 0.584318,
     "end_time": "2020-10-27T15:00:53.910659",
     "exception": false,
     "start_time": "2020-10-27T15:00:53.326341",
     "status": "completed"
    },
    "tags": []
   },
   "outputs": [],
   "source": [
    "from sklearn.model_selection import cross_val_score, train_test_split\n",
    "X_train,X_test,y_train,y_test=train_test_split(X,y,test_size=0.2, random_state=42)"
   ]
  },
  {
   "cell_type": "code",
   "execution_count": 25,
   "metadata": {
    "execution": {
     "iopub.execute_input": "2020-10-27T15:00:54.043981Z",
     "iopub.status.busy": "2020-10-27T15:00:54.042768Z",
     "iopub.status.idle": "2020-10-27T15:00:55.682681Z",
     "shell.execute_reply": "2020-10-27T15:00:55.680304Z"
    },
    "papermill": {
     "duration": 1.712858,
     "end_time": "2020-10-27T15:00:55.683789",
     "exception": false,
     "start_time": "2020-10-27T15:00:53.970931",
     "status": "completed"
    },
    "tags": []
   },
   "outputs": [
    {
     "name": "stdout",
     "output_type": "stream",
     "text": [
      "[0.84717193 0.85335481 0.86065079 0.84283013 0.86439539]\n"
     ]
    }
   ],
   "source": [
    "# linear regression\n",
    "from sklearn.linear_model import LinearRegression\n",
    "lr=LinearRegression()\n",
    "lr.fit(X_train,y_train)\n",
    "pred_lr=lr.predict(X_test)\n",
    "score_lr=cross_val_score(lr,X,y,cv=5)\n",
    "print(score_lr)"
   ]
  },
  {
   "cell_type": "code",
   "execution_count": 26,
   "metadata": {
    "execution": {
     "iopub.execute_input": "2020-10-27T15:00:55.776881Z",
     "iopub.status.busy": "2020-10-27T15:00:55.776014Z",
     "iopub.status.idle": "2020-10-27T15:00:55.782589Z",
     "shell.execute_reply": "2020-10-27T15:00:55.783128Z"
    },
    "papermill": {
     "duration": 0.0564,
     "end_time": "2020-10-27T15:00:55.783303",
     "exception": false,
     "start_time": "2020-10-27T15:00:55.726903",
     "status": "completed"
    },
    "tags": []
   },
   "outputs": [
    {
     "data": {
      "text/plain": [
       "0.8536806084880121"
      ]
     },
     "execution_count": 26,
     "metadata": {},
     "output_type": "execute_result"
    }
   ],
   "source": [
    "score_lr.mean()"
   ]
  },
  {
   "cell_type": "code",
   "execution_count": 27,
   "metadata": {
    "execution": {
     "iopub.execute_input": "2020-10-27T15:00:55.881732Z",
     "iopub.status.busy": "2020-10-27T15:00:55.880495Z",
     "iopub.status.idle": "2020-10-27T15:00:55.893418Z",
     "shell.execute_reply": "2020-10-27T15:00:55.892529Z"
    },
    "papermill": {
     "duration": 0.063331,
     "end_time": "2020-10-27T15:00:55.893546",
     "exception": false,
     "start_time": "2020-10-27T15:00:55.830215",
     "status": "completed"
    },
    "tags": []
   },
   "outputs": [
    {
     "name": "stdout",
     "output_type": "stream",
     "text": [
      "981.2319880477032\n",
      "981.2319880477032\n"
     ]
    }
   ],
   "source": [
    "from sklearn.metrics import mean_absolute_error, mean_squared_error\n",
    "mae_lr=mean_absolute_error(y_test,pred_lr)\n",
    "print(mae_lr)\n",
    "mse_lr=mean_squared_error(y_test,pred_lr)\n",
    "print(mae_lr)"
   ]
  },
  {
   "cell_type": "code",
   "execution_count": 28,
   "metadata": {
    "execution": {
     "iopub.execute_input": "2020-10-27T15:00:55.983758Z",
     "iopub.status.busy": "2020-10-27T15:00:55.983004Z",
     "iopub.status.idle": "2020-10-27T15:01:42.837087Z",
     "shell.execute_reply": "2020-10-27T15:01:42.837681Z"
    },
    "papermill": {
     "duration": 46.903945,
     "end_time": "2020-10-27T15:01:42.837827",
     "exception": false,
     "start_time": "2020-10-27T15:00:55.933882",
     "status": "completed"
    },
    "tags": []
   },
   "outputs": [
    {
     "name": "stdout",
     "output_type": "stream",
     "text": [
      "[0.91400355 0.89404997 0.92175271 0.89803819 0.92526836]\n"
     ]
    }
   ],
   "source": [
    "from sklearn.tree import DecisionTreeRegressor\n",
    "dt=DecisionTreeRegressor()\n",
    "dt.fit(X_train,y_train)\n",
    "pred_dt=dt.predict(X_test)\n",
    "score_dt=cross_val_score(dt,X,y,cv=5)\n",
    "print(score_dt)"
   ]
  },
  {
   "cell_type": "code",
   "execution_count": 29,
   "metadata": {
    "execution": {
     "iopub.execute_input": "2020-10-27T15:01:42.924927Z",
     "iopub.status.busy": "2020-10-27T15:01:42.924078Z",
     "iopub.status.idle": "2020-10-27T15:01:42.930983Z",
     "shell.execute_reply": "2020-10-27T15:01:42.930085Z"
    },
    "papermill": {
     "duration": 0.053345,
     "end_time": "2020-10-27T15:01:42.931139",
     "exception": false,
     "start_time": "2020-10-27T15:01:42.877794",
     "status": "completed"
    },
    "tags": []
   },
   "outputs": [
    {
     "data": {
      "text/plain": [
       "0.9106225563071384"
      ]
     },
     "execution_count": 29,
     "metadata": {},
     "output_type": "execute_result"
    }
   ],
   "source": [
    "score_dt.mean()"
   ]
  },
  {
   "cell_type": "code",
   "execution_count": 30,
   "metadata": {
    "execution": {
     "iopub.execute_input": "2020-10-27T15:01:43.058702Z",
     "iopub.status.busy": "2020-10-27T15:01:43.057800Z",
     "iopub.status.idle": "2020-10-27T15:01:43.067053Z",
     "shell.execute_reply": "2020-10-27T15:01:43.066226Z"
    },
    "papermill": {
     "duration": 0.076897,
     "end_time": "2020-10-27T15:01:43.067199",
     "exception": false,
     "start_time": "2020-10-27T15:01:42.990302",
     "status": "completed"
    },
    "tags": []
   },
   "outputs": [
    {
     "name": "stdout",
     "output_type": "stream",
     "text": [
      "588.6476041703769\n",
      "588.6476041703769\n"
     ]
    }
   ],
   "source": [
    "\n",
    "mae_dt=mean_absolute_error(y_test,pred_dt)\n",
    "print(mae_dt)\n",
    "mse_dt=mean_squared_error(y_test,pred_dt)\n",
    "print(mae_dt)"
   ]
  },
  {
   "cell_type": "code",
   "execution_count": 31,
   "metadata": {
    "execution": {
     "iopub.execute_input": "2020-10-27T15:01:43.197226Z",
     "iopub.status.busy": "2020-10-27T15:01:43.196174Z",
     "iopub.status.idle": "2020-10-27T15:51:10.764146Z",
     "shell.execute_reply": "2020-10-27T15:51:10.765444Z"
    },
    "papermill": {
     "duration": 2967.637371,
     "end_time": "2020-10-27T15:51:10.765694",
     "exception": false,
     "start_time": "2020-10-27T15:01:43.128323",
     "status": "completed"
    },
    "tags": []
   },
   "outputs": [
    {
     "name": "stdout",
     "output_type": "stream",
     "text": [
      "[0.95363703 0.94746514 0.96159884 0.94568816 0.96249152]\n"
     ]
    }
   ],
   "source": [
    "from sklearn.ensemble import RandomForestRegressor\n",
    "rf=RandomForestRegressor()\n",
    "rf.fit(X_train,y_train)\n",
    "pred_rf=rf.predict(X_test)\n",
    "score_rf=cross_val_score(rf,X,y,cv=5)\n",
    "print(score_rf)"
   ]
  },
  {
   "cell_type": "code",
   "execution_count": 32,
   "metadata": {
    "execution": {
     "iopub.execute_input": "2020-10-27T15:51:10.909530Z",
     "iopub.status.busy": "2020-10-27T15:51:10.907806Z",
     "iopub.status.idle": "2020-10-27T15:51:10.916227Z",
     "shell.execute_reply": "2020-10-27T15:51:10.915317Z"
    },
    "papermill": {
     "duration": 0.084411,
     "end_time": "2020-10-27T15:51:10.916361",
     "exception": false,
     "start_time": "2020-10-27T15:51:10.831950",
     "status": "completed"
    },
    "tags": []
   },
   "outputs": [
    {
     "data": {
      "text/plain": [
       "0.9541761373176278"
      ]
     },
     "execution_count": 32,
     "metadata": {},
     "output_type": "execute_result"
    }
   ],
   "source": [
    "score_rf.mean()"
   ]
  },
  {
   "cell_type": "code",
   "execution_count": 33,
   "metadata": {
    "execution": {
     "iopub.execute_input": "2020-10-27T15:51:11.014296Z",
     "iopub.status.busy": "2020-10-27T15:51:11.013447Z",
     "iopub.status.idle": "2020-10-27T15:51:11.026972Z",
     "shell.execute_reply": "2020-10-27T15:51:11.025611Z"
    },
    "papermill": {
     "duration": 0.065352,
     "end_time": "2020-10-27T15:51:11.027141",
     "exception": false,
     "start_time": "2020-10-27T15:51:10.961789",
     "status": "completed"
    },
    "tags": []
   },
   "outputs": [
    {
     "name": "stdout",
     "output_type": "stream",
     "text": [
      "459.0494375384802\n",
      "459.0494375384802\n"
     ]
    }
   ],
   "source": [
    "mae_rf=mean_absolute_error(y_test,pred_rf)\n",
    "print(mae_rf)\n",
    "mse_rf=mean_squared_error(y_test,pred_rf)\n",
    "print(mae_rf)"
   ]
  },
  {
   "cell_type": "code",
   "execution_count": 34,
   "metadata": {
    "execution": {
     "iopub.execute_input": "2020-10-27T15:51:11.170682Z",
     "iopub.status.busy": "2020-10-27T15:51:11.169747Z",
     "iopub.status.idle": "2020-10-27T15:51:11.174513Z",
     "shell.execute_reply": "2020-10-27T15:51:11.173769Z"
    },
    "papermill": {
     "duration": 0.077018,
     "end_time": "2020-10-27T15:51:11.174658",
     "exception": false,
     "start_time": "2020-10-27T15:51:11.097640",
     "status": "completed"
    },
    "tags": []
   },
   "outputs": [],
   "source": [
    "# best model is Random forest regressor with accuracy with greater than 95%"
   ]
  },
  {
   "cell_type": "code",
   "execution_count": null,
   "metadata": {
    "papermill": {
     "duration": 0.068161,
     "end_time": "2020-10-27T15:51:11.313775",
     "exception": false,
     "start_time": "2020-10-27T15:51:11.245614",
     "status": "completed"
    },
    "tags": []
   },
   "outputs": [],
   "source": []
  }
 ],
 "metadata": {
  "kernelspec": {
   "display_name": "Python 3 (ipykernel)",
   "language": "python",
   "name": "python3"
  },
  "language_info": {
   "codemirror_mode": {
    "name": "ipython",
    "version": 3
   },
   "file_extension": ".py",
   "mimetype": "text/x-python",
   "name": "python",
   "nbconvert_exporter": "python",
   "pygments_lexer": "ipython3",
   "version": "3.9.10"
  },
  "papermill": {
   "duration": 3038.236104,
   "end_time": "2020-10-27T15:51:11.693569",
   "environment_variables": {},
   "exception": null,
   "input_path": "__notebook__.ipynb",
   "output_path": "__notebook__.ipynb",
   "parameters": {},
   "start_time": "2020-10-27T15:00:33.457465",
   "version": "2.1.0"
  }
 },
 "nbformat": 4,
 "nbformat_minor": 4
}
