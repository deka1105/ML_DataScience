{
 "cells": [
  {
   "cell_type": "code",
   "execution_count": 1,
   "metadata": {
    "execution": {
     "iopub.execute_input": "2021-05-25T08:20:22.95544Z",
     "iopub.status.busy": "2021-05-25T08:20:22.954811Z",
     "iopub.status.idle": "2021-05-25T08:20:23.890139Z",
     "shell.execute_reply": "2021-05-25T08:20:23.889237Z",
     "shell.execute_reply.started": "2021-05-25T08:20:22.955325Z"
    },
    "executionInfo": {
     "elapsed": 202,
     "status": "ok",
     "timestamp": 1621930668206,
     "user": {
      "displayName": "Serhan ayberk Kılıç",
      "photoUrl": "https://lh3.googleusercontent.com/-O7F2r2MECSI/AAAAAAAAAAI/AAAAAAAABok/dYfrYVrlFTk/s64/photo.jpg",
      "userId": "08804915627409896404"
     },
     "user_tz": -180
    },
    "id": "oIsB3k6w-3IZ"
   },
   "outputs": [],
   "source": [
    "import pandas as pd\n",
    "import numpy as np\n",
    "import seaborn as sns\n",
    "import matplotlib.pyplot as plt\n",
    "import warnings\n",
    "warnings.filterwarnings('ignore')"
   ]
  },
  {
   "cell_type": "markdown",
   "metadata": {
    "id": "I_peFZJ6O2PD"
   },
   "source": [
    "## Data Upload"
   ]
  },
  {
   "cell_type": "code",
   "execution_count": 4,
   "metadata": {
    "execution": {
     "iopub.execute_input": "2021-05-25T08:20:23.892595Z",
     "iopub.status.busy": "2021-05-25T08:20:23.891993Z",
     "iopub.status.idle": "2021-05-25T08:20:23.946248Z",
     "shell.execute_reply": "2021-05-25T08:20:23.945442Z",
     "shell.execute_reply.started": "2021-05-25T08:20:23.892551Z"
    },
    "executionInfo": {
     "elapsed": 429,
     "status": "ok",
     "timestamp": 1621930668940,
     "user": {
      "displayName": "Serhan ayberk Kılıç",
      "photoUrl": "https://lh3.googleusercontent.com/-O7F2r2MECSI/AAAAAAAAAAI/AAAAAAAABok/dYfrYVrlFTk/s64/photo.jpg",
      "userId": "08804915627409896404"
     },
     "user_tz": -180
    },
    "id": "2E9MdUxE_mOf"
   },
   "outputs": [],
   "source": [
    "Data=pd.read_csv('lendingClub/loan_data.csv')"
   ]
  },
  {
   "cell_type": "code",
   "execution_count": 5,
   "metadata": {
    "execution": {
     "iopub.execute_input": "2021-05-25T08:20:23.948133Z",
     "iopub.status.busy": "2021-05-25T08:20:23.947506Z",
     "iopub.status.idle": "2021-05-25T08:20:23.985506Z",
     "shell.execute_reply": "2021-05-25T08:20:23.984465Z",
     "shell.execute_reply.started": "2021-05-25T08:20:23.948088Z"
    },
    "executionInfo": {
     "elapsed": 10,
     "status": "ok",
     "timestamp": 1621930668941,
     "user": {
      "displayName": "Serhan ayberk Kılıç",
      "photoUrl": "https://lh3.googleusercontent.com/-O7F2r2MECSI/AAAAAAAAAAI/AAAAAAAABok/dYfrYVrlFTk/s64/photo.jpg",
      "userId": "08804915627409896404"
     },
     "user_tz": -180
    },
    "id": "RXzRmlI8_xPc",
    "outputId": "5c4ecaff-5576-4327-ad17-f4db1257dbfd"
   },
   "outputs": [
    {
     "data": {
      "text/html": [
       "<div>\n",
       "<style scoped>\n",
       "    .dataframe tbody tr th:only-of-type {\n",
       "        vertical-align: middle;\n",
       "    }\n",
       "\n",
       "    .dataframe tbody tr th {\n",
       "        vertical-align: top;\n",
       "    }\n",
       "\n",
       "    .dataframe thead th {\n",
       "        text-align: right;\n",
       "    }\n",
       "</style>\n",
       "<table border=\"1\" class=\"dataframe\">\n",
       "  <thead>\n",
       "    <tr style=\"text-align: right;\">\n",
       "      <th></th>\n",
       "      <th>credit.policy</th>\n",
       "      <th>purpose</th>\n",
       "      <th>int.rate</th>\n",
       "      <th>installment</th>\n",
       "      <th>log.annual.inc</th>\n",
       "      <th>dti</th>\n",
       "      <th>fico</th>\n",
       "      <th>days.with.cr.line</th>\n",
       "      <th>revol.bal</th>\n",
       "      <th>revol.util</th>\n",
       "      <th>inq.last.6mths</th>\n",
       "      <th>delinq.2yrs</th>\n",
       "      <th>pub.rec</th>\n",
       "      <th>not.fully.paid</th>\n",
       "    </tr>\n",
       "  </thead>\n",
       "  <tbody>\n",
       "    <tr>\n",
       "      <th>0</th>\n",
       "      <td>1</td>\n",
       "      <td>debt_consolidation</td>\n",
       "      <td>0.1189</td>\n",
       "      <td>829.10</td>\n",
       "      <td>11.350407</td>\n",
       "      <td>19.48</td>\n",
       "      <td>737</td>\n",
       "      <td>5639.958333</td>\n",
       "      <td>28854</td>\n",
       "      <td>52.1</td>\n",
       "      <td>0</td>\n",
       "      <td>0</td>\n",
       "      <td>0</td>\n",
       "      <td>0</td>\n",
       "    </tr>\n",
       "    <tr>\n",
       "      <th>1</th>\n",
       "      <td>1</td>\n",
       "      <td>credit_card</td>\n",
       "      <td>0.1071</td>\n",
       "      <td>228.22</td>\n",
       "      <td>11.082143</td>\n",
       "      <td>14.29</td>\n",
       "      <td>707</td>\n",
       "      <td>2760.000000</td>\n",
       "      <td>33623</td>\n",
       "      <td>76.7</td>\n",
       "      <td>0</td>\n",
       "      <td>0</td>\n",
       "      <td>0</td>\n",
       "      <td>0</td>\n",
       "    </tr>\n",
       "    <tr>\n",
       "      <th>2</th>\n",
       "      <td>1</td>\n",
       "      <td>debt_consolidation</td>\n",
       "      <td>0.1357</td>\n",
       "      <td>366.86</td>\n",
       "      <td>10.373491</td>\n",
       "      <td>11.63</td>\n",
       "      <td>682</td>\n",
       "      <td>4710.000000</td>\n",
       "      <td>3511</td>\n",
       "      <td>25.6</td>\n",
       "      <td>1</td>\n",
       "      <td>0</td>\n",
       "      <td>0</td>\n",
       "      <td>0</td>\n",
       "    </tr>\n",
       "    <tr>\n",
       "      <th>3</th>\n",
       "      <td>1</td>\n",
       "      <td>debt_consolidation</td>\n",
       "      <td>0.1008</td>\n",
       "      <td>162.34</td>\n",
       "      <td>11.350407</td>\n",
       "      <td>8.10</td>\n",
       "      <td>712</td>\n",
       "      <td>2699.958333</td>\n",
       "      <td>33667</td>\n",
       "      <td>73.2</td>\n",
       "      <td>1</td>\n",
       "      <td>0</td>\n",
       "      <td>0</td>\n",
       "      <td>0</td>\n",
       "    </tr>\n",
       "    <tr>\n",
       "      <th>4</th>\n",
       "      <td>1</td>\n",
       "      <td>credit_card</td>\n",
       "      <td>0.1426</td>\n",
       "      <td>102.92</td>\n",
       "      <td>11.299732</td>\n",
       "      <td>14.97</td>\n",
       "      <td>667</td>\n",
       "      <td>4066.000000</td>\n",
       "      <td>4740</td>\n",
       "      <td>39.5</td>\n",
       "      <td>0</td>\n",
       "      <td>1</td>\n",
       "      <td>0</td>\n",
       "      <td>0</td>\n",
       "    </tr>\n",
       "  </tbody>\n",
       "</table>\n",
       "</div>"
      ],
      "text/plain": [
       "   credit.policy             purpose  int.rate  installment  log.annual.inc  \\\n",
       "0              1  debt_consolidation    0.1189       829.10       11.350407   \n",
       "1              1         credit_card    0.1071       228.22       11.082143   \n",
       "2              1  debt_consolidation    0.1357       366.86       10.373491   \n",
       "3              1  debt_consolidation    0.1008       162.34       11.350407   \n",
       "4              1         credit_card    0.1426       102.92       11.299732   \n",
       "\n",
       "     dti  fico  days.with.cr.line  revol.bal  revol.util  inq.last.6mths  \\\n",
       "0  19.48   737        5639.958333      28854        52.1               0   \n",
       "1  14.29   707        2760.000000      33623        76.7               0   \n",
       "2  11.63   682        4710.000000       3511        25.6               1   \n",
       "3   8.10   712        2699.958333      33667        73.2               1   \n",
       "4  14.97   667        4066.000000       4740        39.5               0   \n",
       "\n",
       "   delinq.2yrs  pub.rec  not.fully.paid  \n",
       "0            0        0               0  \n",
       "1            0        0               0  \n",
       "2            0        0               0  \n",
       "3            0        0               0  \n",
       "4            1        0               0  "
      ]
     },
     "execution_count": 5,
     "metadata": {},
     "output_type": "execute_result"
    }
   ],
   "source": [
    "Data.head()"
   ]
  },
  {
   "cell_type": "code",
   "execution_count": 6,
   "metadata": {
    "execution": {
     "iopub.execute_input": "2021-05-25T08:20:23.987408Z",
     "iopub.status.busy": "2021-05-25T08:20:23.986839Z",
     "iopub.status.idle": "2021-05-25T08:20:24.009156Z",
     "shell.execute_reply": "2021-05-25T08:20:24.007821Z",
     "shell.execute_reply.started": "2021-05-25T08:20:23.987364Z"
    },
    "executionInfo": {
     "elapsed": 8,
     "status": "ok",
     "timestamp": 1621930668941,
     "user": {
      "displayName": "Serhan ayberk Kılıç",
      "photoUrl": "https://lh3.googleusercontent.com/-O7F2r2MECSI/AAAAAAAAAAI/AAAAAAAABok/dYfrYVrlFTk/s64/photo.jpg",
      "userId": "08804915627409896404"
     },
     "user_tz": -180
    },
    "id": "Q80LScjq_zHm",
    "outputId": "23fab9a9-6918-465a-ad87-f57c5c57e17b"
   },
   "outputs": [
    {
     "name": "stdout",
     "output_type": "stream",
     "text": [
      "<class 'pandas.core.frame.DataFrame'>\n",
      "RangeIndex: 9578 entries, 0 to 9577\n",
      "Data columns (total 14 columns):\n",
      " #   Column             Non-Null Count  Dtype  \n",
      "---  ------             --------------  -----  \n",
      " 0   credit.policy      9578 non-null   int64  \n",
      " 1   purpose            9578 non-null   object \n",
      " 2   int.rate           9578 non-null   float64\n",
      " 3   installment        9578 non-null   float64\n",
      " 4   log.annual.inc     9578 non-null   float64\n",
      " 5   dti                9578 non-null   float64\n",
      " 6   fico               9578 non-null   int64  \n",
      " 7   days.with.cr.line  9578 non-null   float64\n",
      " 8   revol.bal          9578 non-null   int64  \n",
      " 9   revol.util         9578 non-null   float64\n",
      " 10  inq.last.6mths     9578 non-null   int64  \n",
      " 11  delinq.2yrs        9578 non-null   int64  \n",
      " 12  pub.rec            9578 non-null   int64  \n",
      " 13  not.fully.paid     9578 non-null   int64  \n",
      "dtypes: float64(6), int64(7), object(1)\n",
      "memory usage: 1.0+ MB\n"
     ]
    }
   ],
   "source": [
    "Data.info()"
   ]
  },
  {
   "cell_type": "code",
   "execution_count": 7,
   "metadata": {
    "execution": {
     "iopub.execute_input": "2021-05-25T08:20:24.012473Z",
     "iopub.status.busy": "2021-05-25T08:20:24.012139Z",
     "iopub.status.idle": "2021-05-25T08:20:24.029245Z",
     "shell.execute_reply": "2021-05-25T08:20:24.027837Z",
     "shell.execute_reply.started": "2021-05-25T08:20:24.012438Z"
    },
    "executionInfo": {
     "elapsed": 8,
     "status": "ok",
     "timestamp": 1621930668942,
     "user": {
      "displayName": "Serhan ayberk Kılıç",
      "photoUrl": "https://lh3.googleusercontent.com/-O7F2r2MECSI/AAAAAAAAAAI/AAAAAAAABok/dYfrYVrlFTk/s64/photo.jpg",
      "userId": "08804915627409896404"
     },
     "user_tz": -180
    },
    "id": "P6LUYYXZ_6Vh",
    "outputId": "8bfa29ab-174a-41cd-d769-fa5d5dbd4b70"
   },
   "outputs": [
    {
     "data": {
      "text/plain": [
       "credit.policy        0\n",
       "purpose              0\n",
       "int.rate             0\n",
       "installment          0\n",
       "log.annual.inc       0\n",
       "dti                  0\n",
       "fico                 0\n",
       "days.with.cr.line    0\n",
       "revol.bal            0\n",
       "revol.util           0\n",
       "inq.last.6mths       0\n",
       "delinq.2yrs          0\n",
       "pub.rec              0\n",
       "not.fully.paid       0\n",
       "dtype: int64"
      ]
     },
     "execution_count": 7,
     "metadata": {},
     "output_type": "execute_result"
    }
   ],
   "source": [
    "Data.isna().sum()"
   ]
  },
  {
   "cell_type": "markdown",
   "metadata": {
    "id": "mScqpYecDk_P"
   },
   "source": [
    "## Data Analysis"
   ]
  },
  {
   "cell_type": "code",
   "execution_count": 8,
   "metadata": {
    "execution": {
     "iopub.execute_input": "2021-05-25T08:20:24.033107Z",
     "iopub.status.busy": "2021-05-25T08:20:24.032699Z",
     "iopub.status.idle": "2021-05-25T08:20:24.071163Z",
     "shell.execute_reply": "2021-05-25T08:20:24.069579Z",
     "shell.execute_reply.started": "2021-05-25T08:20:24.033075Z"
    },
    "executionInfo": {
     "elapsed": 8,
     "status": "ok",
     "timestamp": 1621930668942,
     "user": {
      "displayName": "Serhan ayberk Kılıç",
      "photoUrl": "https://lh3.googleusercontent.com/-O7F2r2MECSI/AAAAAAAAAAI/AAAAAAAABok/dYfrYVrlFTk/s64/photo.jpg",
      "userId": "08804915627409896404"
     },
     "user_tz": -180
    },
    "id": "x18x7zHwACii",
    "outputId": "a46e7bc9-273a-4ece-a7b1-b5e9031b1ef5"
   },
   "outputs": [
    {
     "data": {
      "text/html": [
       "<div>\n",
       "<style scoped>\n",
       "    .dataframe tbody tr th:only-of-type {\n",
       "        vertical-align: middle;\n",
       "    }\n",
       "\n",
       "    .dataframe tbody tr th {\n",
       "        vertical-align: top;\n",
       "    }\n",
       "\n",
       "    .dataframe thead th {\n",
       "        text-align: right;\n",
       "    }\n",
       "</style>\n",
       "<table border=\"1\" class=\"dataframe\">\n",
       "  <thead>\n",
       "    <tr style=\"text-align: right;\">\n",
       "      <th></th>\n",
       "      <th>credit.policy</th>\n",
       "      <th>int.rate</th>\n",
       "      <th>installment</th>\n",
       "      <th>log.annual.inc</th>\n",
       "      <th>dti</th>\n",
       "      <th>fico</th>\n",
       "      <th>days.with.cr.line</th>\n",
       "      <th>revol.bal</th>\n",
       "      <th>revol.util</th>\n",
       "      <th>inq.last.6mths</th>\n",
       "      <th>delinq.2yrs</th>\n",
       "      <th>pub.rec</th>\n",
       "      <th>not.fully.paid</th>\n",
       "    </tr>\n",
       "  </thead>\n",
       "  <tbody>\n",
       "    <tr>\n",
       "      <th>credit.policy</th>\n",
       "      <td>1.000000</td>\n",
       "      <td>-0.294089</td>\n",
       "      <td>0.058770</td>\n",
       "      <td>0.034906</td>\n",
       "      <td>-0.090901</td>\n",
       "      <td>0.348319</td>\n",
       "      <td>0.099026</td>\n",
       "      <td>-0.187518</td>\n",
       "      <td>-0.104095</td>\n",
       "      <td>-0.535511</td>\n",
       "      <td>-0.076318</td>\n",
       "      <td>-0.054243</td>\n",
       "      <td>-0.158119</td>\n",
       "    </tr>\n",
       "    <tr>\n",
       "      <th>int.rate</th>\n",
       "      <td>-0.294089</td>\n",
       "      <td>1.000000</td>\n",
       "      <td>0.276140</td>\n",
       "      <td>0.056383</td>\n",
       "      <td>0.220006</td>\n",
       "      <td>-0.714821</td>\n",
       "      <td>-0.124022</td>\n",
       "      <td>0.092527</td>\n",
       "      <td>0.464837</td>\n",
       "      <td>0.202780</td>\n",
       "      <td>0.156079</td>\n",
       "      <td>0.098162</td>\n",
       "      <td>0.159552</td>\n",
       "    </tr>\n",
       "    <tr>\n",
       "      <th>installment</th>\n",
       "      <td>0.058770</td>\n",
       "      <td>0.276140</td>\n",
       "      <td>1.000000</td>\n",
       "      <td>0.448102</td>\n",
       "      <td>0.050202</td>\n",
       "      <td>0.086039</td>\n",
       "      <td>0.183297</td>\n",
       "      <td>0.233625</td>\n",
       "      <td>0.081356</td>\n",
       "      <td>-0.010419</td>\n",
       "      <td>-0.004368</td>\n",
       "      <td>-0.032760</td>\n",
       "      <td>0.049955</td>\n",
       "    </tr>\n",
       "    <tr>\n",
       "      <th>log.annual.inc</th>\n",
       "      <td>0.034906</td>\n",
       "      <td>0.056383</td>\n",
       "      <td>0.448102</td>\n",
       "      <td>1.000000</td>\n",
       "      <td>-0.054065</td>\n",
       "      <td>0.114576</td>\n",
       "      <td>0.336896</td>\n",
       "      <td>0.372140</td>\n",
       "      <td>0.054881</td>\n",
       "      <td>0.029171</td>\n",
       "      <td>0.029203</td>\n",
       "      <td>0.016506</td>\n",
       "      <td>-0.033439</td>\n",
       "    </tr>\n",
       "    <tr>\n",
       "      <th>dti</th>\n",
       "      <td>-0.090901</td>\n",
       "      <td>0.220006</td>\n",
       "      <td>0.050202</td>\n",
       "      <td>-0.054065</td>\n",
       "      <td>1.000000</td>\n",
       "      <td>-0.241191</td>\n",
       "      <td>0.060101</td>\n",
       "      <td>0.188748</td>\n",
       "      <td>0.337109</td>\n",
       "      <td>0.029189</td>\n",
       "      <td>-0.021792</td>\n",
       "      <td>0.006209</td>\n",
       "      <td>0.037362</td>\n",
       "    </tr>\n",
       "    <tr>\n",
       "      <th>fico</th>\n",
       "      <td>0.348319</td>\n",
       "      <td>-0.714821</td>\n",
       "      <td>0.086039</td>\n",
       "      <td>0.114576</td>\n",
       "      <td>-0.241191</td>\n",
       "      <td>1.000000</td>\n",
       "      <td>0.263880</td>\n",
       "      <td>-0.015553</td>\n",
       "      <td>-0.541289</td>\n",
       "      <td>-0.185293</td>\n",
       "      <td>-0.216340</td>\n",
       "      <td>-0.147592</td>\n",
       "      <td>-0.149666</td>\n",
       "    </tr>\n",
       "    <tr>\n",
       "      <th>days.with.cr.line</th>\n",
       "      <td>0.099026</td>\n",
       "      <td>-0.124022</td>\n",
       "      <td>0.183297</td>\n",
       "      <td>0.336896</td>\n",
       "      <td>0.060101</td>\n",
       "      <td>0.263880</td>\n",
       "      <td>1.000000</td>\n",
       "      <td>0.229344</td>\n",
       "      <td>-0.024239</td>\n",
       "      <td>-0.041736</td>\n",
       "      <td>0.081374</td>\n",
       "      <td>0.071826</td>\n",
       "      <td>-0.029237</td>\n",
       "    </tr>\n",
       "    <tr>\n",
       "      <th>revol.bal</th>\n",
       "      <td>-0.187518</td>\n",
       "      <td>0.092527</td>\n",
       "      <td>0.233625</td>\n",
       "      <td>0.372140</td>\n",
       "      <td>0.188748</td>\n",
       "      <td>-0.015553</td>\n",
       "      <td>0.229344</td>\n",
       "      <td>1.000000</td>\n",
       "      <td>0.203779</td>\n",
       "      <td>0.022394</td>\n",
       "      <td>-0.033243</td>\n",
       "      <td>-0.031010</td>\n",
       "      <td>0.053699</td>\n",
       "    </tr>\n",
       "    <tr>\n",
       "      <th>revol.util</th>\n",
       "      <td>-0.104095</td>\n",
       "      <td>0.464837</td>\n",
       "      <td>0.081356</td>\n",
       "      <td>0.054881</td>\n",
       "      <td>0.337109</td>\n",
       "      <td>-0.541289</td>\n",
       "      <td>-0.024239</td>\n",
       "      <td>0.203779</td>\n",
       "      <td>1.000000</td>\n",
       "      <td>-0.013880</td>\n",
       "      <td>-0.042740</td>\n",
       "      <td>0.066717</td>\n",
       "      <td>0.082088</td>\n",
       "    </tr>\n",
       "    <tr>\n",
       "      <th>inq.last.6mths</th>\n",
       "      <td>-0.535511</td>\n",
       "      <td>0.202780</td>\n",
       "      <td>-0.010419</td>\n",
       "      <td>0.029171</td>\n",
       "      <td>0.029189</td>\n",
       "      <td>-0.185293</td>\n",
       "      <td>-0.041736</td>\n",
       "      <td>0.022394</td>\n",
       "      <td>-0.013880</td>\n",
       "      <td>1.000000</td>\n",
       "      <td>0.021245</td>\n",
       "      <td>0.072673</td>\n",
       "      <td>0.149452</td>\n",
       "    </tr>\n",
       "    <tr>\n",
       "      <th>delinq.2yrs</th>\n",
       "      <td>-0.076318</td>\n",
       "      <td>0.156079</td>\n",
       "      <td>-0.004368</td>\n",
       "      <td>0.029203</td>\n",
       "      <td>-0.021792</td>\n",
       "      <td>-0.216340</td>\n",
       "      <td>0.081374</td>\n",
       "      <td>-0.033243</td>\n",
       "      <td>-0.042740</td>\n",
       "      <td>0.021245</td>\n",
       "      <td>1.000000</td>\n",
       "      <td>0.009184</td>\n",
       "      <td>0.008881</td>\n",
       "    </tr>\n",
       "    <tr>\n",
       "      <th>pub.rec</th>\n",
       "      <td>-0.054243</td>\n",
       "      <td>0.098162</td>\n",
       "      <td>-0.032760</td>\n",
       "      <td>0.016506</td>\n",
       "      <td>0.006209</td>\n",
       "      <td>-0.147592</td>\n",
       "      <td>0.071826</td>\n",
       "      <td>-0.031010</td>\n",
       "      <td>0.066717</td>\n",
       "      <td>0.072673</td>\n",
       "      <td>0.009184</td>\n",
       "      <td>1.000000</td>\n",
       "      <td>0.048634</td>\n",
       "    </tr>\n",
       "    <tr>\n",
       "      <th>not.fully.paid</th>\n",
       "      <td>-0.158119</td>\n",
       "      <td>0.159552</td>\n",
       "      <td>0.049955</td>\n",
       "      <td>-0.033439</td>\n",
       "      <td>0.037362</td>\n",
       "      <td>-0.149666</td>\n",
       "      <td>-0.029237</td>\n",
       "      <td>0.053699</td>\n",
       "      <td>0.082088</td>\n",
       "      <td>0.149452</td>\n",
       "      <td>0.008881</td>\n",
       "      <td>0.048634</td>\n",
       "      <td>1.000000</td>\n",
       "    </tr>\n",
       "  </tbody>\n",
       "</table>\n",
       "</div>"
      ],
      "text/plain": [
       "                   credit.policy  int.rate  installment  log.annual.inc  \\\n",
       "credit.policy           1.000000 -0.294089     0.058770        0.034906   \n",
       "int.rate               -0.294089  1.000000     0.276140        0.056383   \n",
       "installment             0.058770  0.276140     1.000000        0.448102   \n",
       "log.annual.inc          0.034906  0.056383     0.448102        1.000000   \n",
       "dti                    -0.090901  0.220006     0.050202       -0.054065   \n",
       "fico                    0.348319 -0.714821     0.086039        0.114576   \n",
       "days.with.cr.line       0.099026 -0.124022     0.183297        0.336896   \n",
       "revol.bal              -0.187518  0.092527     0.233625        0.372140   \n",
       "revol.util             -0.104095  0.464837     0.081356        0.054881   \n",
       "inq.last.6mths         -0.535511  0.202780    -0.010419        0.029171   \n",
       "delinq.2yrs            -0.076318  0.156079    -0.004368        0.029203   \n",
       "pub.rec                -0.054243  0.098162    -0.032760        0.016506   \n",
       "not.fully.paid         -0.158119  0.159552     0.049955       -0.033439   \n",
       "\n",
       "                        dti      fico  days.with.cr.line  revol.bal  \\\n",
       "credit.policy     -0.090901  0.348319           0.099026  -0.187518   \n",
       "int.rate           0.220006 -0.714821          -0.124022   0.092527   \n",
       "installment        0.050202  0.086039           0.183297   0.233625   \n",
       "log.annual.inc    -0.054065  0.114576           0.336896   0.372140   \n",
       "dti                1.000000 -0.241191           0.060101   0.188748   \n",
       "fico              -0.241191  1.000000           0.263880  -0.015553   \n",
       "days.with.cr.line  0.060101  0.263880           1.000000   0.229344   \n",
       "revol.bal          0.188748 -0.015553           0.229344   1.000000   \n",
       "revol.util         0.337109 -0.541289          -0.024239   0.203779   \n",
       "inq.last.6mths     0.029189 -0.185293          -0.041736   0.022394   \n",
       "delinq.2yrs       -0.021792 -0.216340           0.081374  -0.033243   \n",
       "pub.rec            0.006209 -0.147592           0.071826  -0.031010   \n",
       "not.fully.paid     0.037362 -0.149666          -0.029237   0.053699   \n",
       "\n",
       "                   revol.util  inq.last.6mths  delinq.2yrs   pub.rec  \\\n",
       "credit.policy       -0.104095       -0.535511    -0.076318 -0.054243   \n",
       "int.rate             0.464837        0.202780     0.156079  0.098162   \n",
       "installment          0.081356       -0.010419    -0.004368 -0.032760   \n",
       "log.annual.inc       0.054881        0.029171     0.029203  0.016506   \n",
       "dti                  0.337109        0.029189    -0.021792  0.006209   \n",
       "fico                -0.541289       -0.185293    -0.216340 -0.147592   \n",
       "days.with.cr.line   -0.024239       -0.041736     0.081374  0.071826   \n",
       "revol.bal            0.203779        0.022394    -0.033243 -0.031010   \n",
       "revol.util           1.000000       -0.013880    -0.042740  0.066717   \n",
       "inq.last.6mths      -0.013880        1.000000     0.021245  0.072673   \n",
       "delinq.2yrs         -0.042740        0.021245     1.000000  0.009184   \n",
       "pub.rec              0.066717        0.072673     0.009184  1.000000   \n",
       "not.fully.paid       0.082088        0.149452     0.008881  0.048634   \n",
       "\n",
       "                   not.fully.paid  \n",
       "credit.policy           -0.158119  \n",
       "int.rate                 0.159552  \n",
       "installment              0.049955  \n",
       "log.annual.inc          -0.033439  \n",
       "dti                      0.037362  \n",
       "fico                    -0.149666  \n",
       "days.with.cr.line       -0.029237  \n",
       "revol.bal                0.053699  \n",
       "revol.util               0.082088  \n",
       "inq.last.6mths           0.149452  \n",
       "delinq.2yrs              0.008881  \n",
       "pub.rec                  0.048634  \n",
       "not.fully.paid           1.000000  "
      ]
     },
     "execution_count": 8,
     "metadata": {},
     "output_type": "execute_result"
    }
   ],
   "source": [
    "Data.corr()"
   ]
  },
  {
   "cell_type": "code",
   "execution_count": 9,
   "metadata": {
    "execution": {
     "iopub.execute_input": "2021-05-25T08:20:24.072984Z",
     "iopub.status.busy": "2021-05-25T08:20:24.072511Z",
     "iopub.status.idle": "2021-05-25T08:20:24.267532Z",
     "shell.execute_reply": "2021-05-25T08:20:24.26625Z",
     "shell.execute_reply.started": "2021-05-25T08:20:24.072936Z"
    },
    "executionInfo": {
     "elapsed": 558,
     "status": "ok",
     "timestamp": 1621930669493,
     "user": {
      "displayName": "Serhan ayberk Kılıç",
      "photoUrl": "https://lh3.googleusercontent.com/-O7F2r2MECSI/AAAAAAAAAAI/AAAAAAAABok/dYfrYVrlFTk/s64/photo.jpg",
      "userId": "08804915627409896404"
     },
     "user_tz": -180
    },
    "id": "TiXo7rOtgtJf",
    "outputId": "dcd64880-6c79-4197-ba92-8a234612a389"
   },
   "outputs": [
    {
     "data": {
      "image/png": "[encoded data removed]",
      "text/plain": [
       "<Figure size 936x576 with 1 Axes>"
      ]
     },
     "metadata": {
      "needs_background": "light"
     },
     "output_type": "display_data"
    }
   ],
   "source": [
    "plt.figure(figsize=(13,8))\n",
    "sns.countplot(Data['credit.policy'])\n",
    "plt.show()"
   ]
  },
  {
   "cell_type": "code",
   "execution_count": 10,
   "metadata": {
    "execution": {
     "iopub.execute_input": "2021-05-25T08:20:24.269197Z",
     "iopub.status.busy": "2021-05-25T08:20:24.26891Z",
     "iopub.status.idle": "2021-05-25T08:20:24.467294Z",
     "shell.execute_reply": "2021-05-25T08:20:24.466549Z",
     "shell.execute_reply.started": "2021-05-25T08:20:24.269169Z"
    },
    "executionInfo": {
     "elapsed": 9,
     "status": "ok",
     "timestamp": 1621930669494,
     "user": {
      "displayName": "Serhan ayberk Kılıç",
      "photoUrl": "https://lh3.googleusercontent.com/-O7F2r2MECSI/AAAAAAAAAAI/AAAAAAAABok/dYfrYVrlFTk/s64/photo.jpg",
      "userId": "08804915627409896404"
     },
     "user_tz": -180
    },
    "id": "7t77JMXFBavc",
    "outputId": "f89da8ac-51d3-4973-dde4-f206ca8b1445"
   },
   "outputs": [
    {
     "data": {
      "image/png": "[encoded data removed]",
      "text/plain": [
       "<Figure size 936x576 with 1 Axes>"
      ]
     },
     "metadata": {
      "needs_background": "light"
     },
     "output_type": "display_data"
    }
   ],
   "source": [
    "plt.figure(figsize=(13,8))\n",
    "sns.countplot(Data['purpose'])\n",
    "plt.show()"
   ]
  },
  {
   "cell_type": "code",
   "execution_count": 11,
   "metadata": {
    "execution": {
     "iopub.execute_input": "2021-05-25T08:20:24.468904Z",
     "iopub.status.busy": "2021-05-25T08:20:24.468447Z",
     "iopub.status.idle": "2021-05-25T08:20:24.476543Z",
     "shell.execute_reply": "2021-05-25T08:20:24.475252Z",
     "shell.execute_reply.started": "2021-05-25T08:20:24.468862Z"
    },
    "executionInfo": {
     "elapsed": 9,
     "status": "ok",
     "timestamp": 1621930669494,
     "user": {
      "displayName": "Serhan ayberk Kılıç",
      "photoUrl": "https://lh3.googleusercontent.com/-O7F2r2MECSI/AAAAAAAAAAI/AAAAAAAABok/dYfrYVrlFTk/s64/photo.jpg",
      "userId": "08804915627409896404"
     },
     "user_tz": -180
    },
    "id": "O5-WNWquB2hT"
   },
   "outputs": [],
   "source": [
    "dummy_purpose=pd.get_dummies(Data['purpose'])"
   ]
  },
  {
   "cell_type": "code",
   "execution_count": 12,
   "metadata": {
    "execution": {
     "iopub.execute_input": "2021-05-25T08:20:24.478416Z",
     "iopub.status.busy": "2021-05-25T08:20:24.478088Z",
     "iopub.status.idle": "2021-05-25T08:20:24.496361Z",
     "shell.execute_reply": "2021-05-25T08:20:24.495268Z",
     "shell.execute_reply.started": "2021-05-25T08:20:24.478387Z"
    },
    "executionInfo": {
     "elapsed": 8,
     "status": "ok",
     "timestamp": 1621930669494,
     "user": {
      "displayName": "Serhan ayberk Kılıç",
      "photoUrl": "https://lh3.googleusercontent.com/-O7F2r2MECSI/AAAAAAAAAAI/AAAAAAAABok/dYfrYVrlFTk/s64/photo.jpg",
      "userId": "08804915627409896404"
     },
     "user_tz": -180
    },
    "id": "IITJitXwB-gQ",
    "outputId": "4af6f273-9a7c-4d9f-8376-3fbef57fb9e4"
   },
   "outputs": [
    {
     "data": {
      "text/html": [
       "<div>\n",
       "<style scoped>\n",
       "    .dataframe tbody tr th:only-of-type {\n",
       "        vertical-align: middle;\n",
       "    }\n",
       "\n",
       "    .dataframe tbody tr th {\n",
       "        vertical-align: top;\n",
       "    }\n",
       "\n",
       "    .dataframe thead th {\n",
       "        text-align: right;\n",
       "    }\n",
       "</style>\n",
       "<table border=\"1\" class=\"dataframe\">\n",
       "  <thead>\n",
       "    <tr style=\"text-align: right;\">\n",
       "      <th></th>\n",
       "      <th>all_other</th>\n",
       "      <th>credit_card</th>\n",
       "      <th>debt_consolidation</th>\n",
       "      <th>educational</th>\n",
       "      <th>home_improvement</th>\n",
       "      <th>major_purchase</th>\n",
       "      <th>small_business</th>\n",
       "    </tr>\n",
       "  </thead>\n",
       "  <tbody>\n",
       "    <tr>\n",
       "      <th>0</th>\n",
       "      <td>0</td>\n",
       "      <td>0</td>\n",
       "      <td>1</td>\n",
       "      <td>0</td>\n",
       "      <td>0</td>\n",
       "      <td>0</td>\n",
       "      <td>0</td>\n",
       "    </tr>\n",
       "    <tr>\n",
       "      <th>1</th>\n",
       "      <td>0</td>\n",
       "      <td>1</td>\n",
       "      <td>0</td>\n",
       "      <td>0</td>\n",
       "      <td>0</td>\n",
       "      <td>0</td>\n",
       "      <td>0</td>\n",
       "    </tr>\n",
       "    <tr>\n",
       "      <th>2</th>\n",
       "      <td>0</td>\n",
       "      <td>0</td>\n",
       "      <td>1</td>\n",
       "      <td>0</td>\n",
       "      <td>0</td>\n",
       "      <td>0</td>\n",
       "      <td>0</td>\n",
       "    </tr>\n",
       "    <tr>\n",
       "      <th>3</th>\n",
       "      <td>0</td>\n",
       "      <td>0</td>\n",
       "      <td>1</td>\n",
       "      <td>0</td>\n",
       "      <td>0</td>\n",
       "      <td>0</td>\n",
       "      <td>0</td>\n",
       "    </tr>\n",
       "    <tr>\n",
       "      <th>4</th>\n",
       "      <td>0</td>\n",
       "      <td>1</td>\n",
       "      <td>0</td>\n",
       "      <td>0</td>\n",
       "      <td>0</td>\n",
       "      <td>0</td>\n",
       "      <td>0</td>\n",
       "    </tr>\n",
       "  </tbody>\n",
       "</table>\n",
       "</div>"
      ],
      "text/plain": [
       "   all_other  credit_card  debt_consolidation  educational  home_improvement  \\\n",
       "0          0            0                   1            0                 0   \n",
       "1          0            1                   0            0                 0   \n",
       "2          0            0                   1            0                 0   \n",
       "3          0            0                   1            0                 0   \n",
       "4          0            1                   0            0                 0   \n",
       "\n",
       "   major_purchase  small_business  \n",
       "0               0               0  \n",
       "1               0               0  \n",
       "2               0               0  \n",
       "3               0               0  \n",
       "4               0               0  "
      ]
     },
     "execution_count": 12,
     "metadata": {},
     "output_type": "execute_result"
    }
   ],
   "source": [
    "dummy_purpose.head()"
   ]
  },
  {
   "cell_type": "code",
   "execution_count": 13,
   "metadata": {
    "execution": {
     "iopub.execute_input": "2021-05-25T08:20:24.500128Z",
     "iopub.status.busy": "2021-05-25T08:20:24.499157Z",
     "iopub.status.idle": "2021-05-25T08:20:24.509613Z",
     "shell.execute_reply": "2021-05-25T08:20:24.508635Z",
     "shell.execute_reply.started": "2021-05-25T08:20:24.500077Z"
    },
    "executionInfo": {
     "elapsed": 8,
     "status": "ok",
     "timestamp": 1621930669495,
     "user": {
      "displayName": "Serhan ayberk Kılıç",
      "photoUrl": "https://lh3.googleusercontent.com/-O7F2r2MECSI/AAAAAAAAAAI/AAAAAAAABok/dYfrYVrlFTk/s64/photo.jpg",
      "userId": "08804915627409896404"
     },
     "user_tz": -180
    },
    "id": "8rzw3bmfCDAC"
   },
   "outputs": [],
   "source": [
    "New_Data=pd.concat(([Data.iloc[:,0],dummy_purpose,Data.iloc[:,2:]]),axis=1)"
   ]
  },
  {
   "cell_type": "code",
   "execution_count": 14,
   "metadata": {
    "execution": {
     "iopub.execute_input": "2021-05-25T08:20:24.511223Z",
     "iopub.status.busy": "2021-05-25T08:20:24.510931Z",
     "iopub.status.idle": "2021-05-25T08:20:24.541025Z",
     "shell.execute_reply": "2021-05-25T08:20:24.539896Z",
     "shell.execute_reply.started": "2021-05-25T08:20:24.511194Z"
    },
    "executionInfo": {
     "elapsed": 8,
     "status": "ok",
     "timestamp": 1621930669495,
     "user": {
      "displayName": "Serhan ayberk Kılıç",
      "photoUrl": "https://lh3.googleusercontent.com/-O7F2r2MECSI/AAAAAAAAAAI/AAAAAAAABok/dYfrYVrlFTk/s64/photo.jpg",
      "userId": "08804915627409896404"
     },
     "user_tz": -180
    },
    "id": "XJ14KJnVCaEK",
    "outputId": "27d07394-ac42-4b96-efc0-2e506adea9c2"
   },
   "outputs": [
    {
     "data": {
      "text/html": [
       "<div>\n",
       "<style scoped>\n",
       "    .dataframe tbody tr th:only-of-type {\n",
       "        vertical-align: middle;\n",
       "    }\n",
       "\n",
       "    .dataframe tbody tr th {\n",
       "        vertical-align: top;\n",
       "    }\n",
       "\n",
       "    .dataframe thead th {\n",
       "        text-align: right;\n",
       "    }\n",
       "</style>\n",
       "<table border=\"1\" class=\"dataframe\">\n",
       "  <thead>\n",
       "    <tr style=\"text-align: right;\">\n",
       "      <th></th>\n",
       "      <th>credit.policy</th>\n",
       "      <th>all_other</th>\n",
       "      <th>credit_card</th>\n",
       "      <th>debt_consolidation</th>\n",
       "      <th>educational</th>\n",
       "      <th>home_improvement</th>\n",
       "      <th>major_purchase</th>\n",
       "      <th>small_business</th>\n",
       "      <th>int.rate</th>\n",
       "      <th>installment</th>\n",
       "      <th>log.annual.inc</th>\n",
       "      <th>dti</th>\n",
       "      <th>fico</th>\n",
       "      <th>days.with.cr.line</th>\n",
       "      <th>revol.bal</th>\n",
       "      <th>revol.util</th>\n",
       "      <th>inq.last.6mths</th>\n",
       "      <th>delinq.2yrs</th>\n",
       "      <th>pub.rec</th>\n",
       "      <th>not.fully.paid</th>\n",
       "    </tr>\n",
       "  </thead>\n",
       "  <tbody>\n",
       "    <tr>\n",
       "      <th>0</th>\n",
       "      <td>1</td>\n",
       "      <td>0</td>\n",
       "      <td>0</td>\n",
       "      <td>1</td>\n",
       "      <td>0</td>\n",
       "      <td>0</td>\n",
       "      <td>0</td>\n",
       "      <td>0</td>\n",
       "      <td>0.1189</td>\n",
       "      <td>829.10</td>\n",
       "      <td>11.350407</td>\n",
       "      <td>19.48</td>\n",
       "      <td>737</td>\n",
       "      <td>5639.958333</td>\n",
       "      <td>28854</td>\n",
       "      <td>52.1</td>\n",
       "      <td>0</td>\n",
       "      <td>0</td>\n",
       "      <td>0</td>\n",
       "      <td>0</td>\n",
       "    </tr>\n",
       "    <tr>\n",
       "      <th>1</th>\n",
       "      <td>1</td>\n",
       "      <td>0</td>\n",
       "      <td>1</td>\n",
       "      <td>0</td>\n",
       "      <td>0</td>\n",
       "      <td>0</td>\n",
       "      <td>0</td>\n",
       "      <td>0</td>\n",
       "      <td>0.1071</td>\n",
       "      <td>228.22</td>\n",
       "      <td>11.082143</td>\n",
       "      <td>14.29</td>\n",
       "      <td>707</td>\n",
       "      <td>2760.000000</td>\n",
       "      <td>33623</td>\n",
       "      <td>76.7</td>\n",
       "      <td>0</td>\n",
       "      <td>0</td>\n",
       "      <td>0</td>\n",
       "      <td>0</td>\n",
       "    </tr>\n",
       "    <tr>\n",
       "      <th>2</th>\n",
       "      <td>1</td>\n",
       "      <td>0</td>\n",
       "      <td>0</td>\n",
       "      <td>1</td>\n",
       "      <td>0</td>\n",
       "      <td>0</td>\n",
       "      <td>0</td>\n",
       "      <td>0</td>\n",
       "      <td>0.1357</td>\n",
       "      <td>366.86</td>\n",
       "      <td>10.373491</td>\n",
       "      <td>11.63</td>\n",
       "      <td>682</td>\n",
       "      <td>4710.000000</td>\n",
       "      <td>3511</td>\n",
       "      <td>25.6</td>\n",
       "      <td>1</td>\n",
       "      <td>0</td>\n",
       "      <td>0</td>\n",
       "      <td>0</td>\n",
       "    </tr>\n",
       "    <tr>\n",
       "      <th>3</th>\n",
       "      <td>1</td>\n",
       "      <td>0</td>\n",
       "      <td>0</td>\n",
       "      <td>1</td>\n",
       "      <td>0</td>\n",
       "      <td>0</td>\n",
       "      <td>0</td>\n",
       "      <td>0</td>\n",
       "      <td>0.1008</td>\n",
       "      <td>162.34</td>\n",
       "      <td>11.350407</td>\n",
       "      <td>8.10</td>\n",
       "      <td>712</td>\n",
       "      <td>2699.958333</td>\n",
       "      <td>33667</td>\n",
       "      <td>73.2</td>\n",
       "      <td>1</td>\n",
       "      <td>0</td>\n",
       "      <td>0</td>\n",
       "      <td>0</td>\n",
       "    </tr>\n",
       "    <tr>\n",
       "      <th>4</th>\n",
       "      <td>1</td>\n",
       "      <td>0</td>\n",
       "      <td>1</td>\n",
       "      <td>0</td>\n",
       "      <td>0</td>\n",
       "      <td>0</td>\n",
       "      <td>0</td>\n",
       "      <td>0</td>\n",
       "      <td>0.1426</td>\n",
       "      <td>102.92</td>\n",
       "      <td>11.299732</td>\n",
       "      <td>14.97</td>\n",
       "      <td>667</td>\n",
       "      <td>4066.000000</td>\n",
       "      <td>4740</td>\n",
       "      <td>39.5</td>\n",
       "      <td>0</td>\n",
       "      <td>1</td>\n",
       "      <td>0</td>\n",
       "      <td>0</td>\n",
       "    </tr>\n",
       "  </tbody>\n",
       "</table>\n",
       "</div>"
      ],
      "text/plain": [
       "   credit.policy  all_other  credit_card  debt_consolidation  educational  \\\n",
       "0              1          0            0                   1            0   \n",
       "1              1          0            1                   0            0   \n",
       "2              1          0            0                   1            0   \n",
       "3              1          0            0                   1            0   \n",
       "4              1          0            1                   0            0   \n",
       "\n",
       "   home_improvement  major_purchase  small_business  int.rate  installment  \\\n",
       "0                 0               0               0    0.1189       829.10   \n",
       "1                 0               0               0    0.1071       228.22   \n",
       "2                 0               0               0    0.1357       366.86   \n",
       "3                 0               0               0    0.1008       162.34   \n",
       "4                 0               0               0    0.1426       102.92   \n",
       "\n",
       "   log.annual.inc    dti  fico  days.with.cr.line  revol.bal  revol.util  \\\n",
       "0       11.350407  19.48   737        5639.958333      28854        52.1   \n",
       "1       11.082143  14.29   707        2760.000000      33623        76.7   \n",
       "2       10.373491  11.63   682        4710.000000       3511        25.6   \n",
       "3       11.350407   8.10   712        2699.958333      33667        73.2   \n",
       "4       11.299732  14.97   667        4066.000000       4740        39.5   \n",
       "\n",
       "   inq.last.6mths  delinq.2yrs  pub.rec  not.fully.paid  \n",
       "0               0            0        0               0  \n",
       "1               0            0        0               0  \n",
       "2               1            0        0               0  \n",
       "3               1            0        0               0  \n",
       "4               0            1        0               0  "
      ]
     },
     "execution_count": 14,
     "metadata": {},
     "output_type": "execute_result"
    }
   ],
   "source": [
    "New_Data.head()"
   ]
  },
  {
   "cell_type": "code",
   "execution_count": 18,
   "metadata": {
    "execution": {
     "iopub.execute_input": "2021-05-25T08:20:24.543228Z",
     "iopub.status.busy": "2021-05-25T08:20:24.542896Z",
     "iopub.status.idle": "2021-05-25T08:20:25.512027Z",
     "shell.execute_reply": "2021-05-25T08:20:25.510795Z",
     "shell.execute_reply.started": "2021-05-25T08:20:24.543197Z"
    },
    "executionInfo": {
     "elapsed": 241,
     "status": "ok",
     "timestamp": 1621930669729,
     "user": {
      "displayName": "Serhan ayberk Kılıç",
      "photoUrl": "https://lh3.googleusercontent.com/-O7F2r2MECSI/AAAAAAAAAAI/AAAAAAAABok/dYfrYVrlFTk/s64/photo.jpg",
      "userId": "08804915627409896404"
     },
     "user_tz": -180
    },
    "id": "EXKql13iCwKa",
    "outputId": "37d0737d-0559-46c9-b47f-d63d4ac713a3"
   },
   "outputs": [
    {
     "name": "stdout",
     "output_type": "stream",
     "text": [
      "                            OLS Regression Results                            \n",
      "==============================================================================\n",
      "Dep. Variable:          credit.policy   R-squared:                       0.401\n",
      "Model:                            OLS   Adj. R-squared:                  0.400\n",
      "Method:                 Least Squares   F-statistic:                     355.4\n",
      "Date:                Sat, 03 Sep 2022   Prob (F-statistic):               0.00\n",
      "Time:                        23:15:01   Log-Likelihood:                -2269.7\n",
      "No. Observations:                9578   AIC:                             4577.\n",
      "Df Residuals:                    9559   BIC:                             4714.\n",
      "Df Model:                          18                                         \n",
      "Covariance Type:            nonrobust                                         \n",
      "======================================================================================\n",
      "                         coef    std err          t      P>|t|      [0.025      0.975]\n",
      "--------------------------------------------------------------------------------------\n",
      "all_other             -1.1430      0.142     -8.071      0.000      -1.421      -0.865\n",
      "credit_card           -1.1387      0.142     -8.043      0.000      -1.416      -0.861\n",
      "debt_consolidation    -1.1176      0.141     -7.924      0.000      -1.394      -0.841\n",
      "educational           -1.1381      0.141     -8.048      0.000      -1.415      -0.861\n",
      "home_improvement      -1.1250      0.143     -7.871      0.000      -1.405      -0.845\n",
      "major_purchase        -1.1168      0.143     -7.834      0.000      -1.396      -0.837\n",
      "small_business        -1.0872      0.144     -7.536      0.000      -1.370      -0.804\n",
      "int.rate              -1.0911      0.201     -5.440      0.000      -1.484      -0.698\n",
      "installment            0.0001   1.97e-05      5.739      0.000    7.44e-05       0.000\n",
      "log.annual.inc         0.0441      0.006      6.900      0.000       0.032       0.057\n",
      "dti                    0.0004      0.001      0.882      0.378      -0.001       0.001\n",
      "fico                   0.0023      0.000     15.342      0.000       0.002       0.003\n",
      "days.with.cr.line   4.796e-06   1.44e-06      3.340      0.001    1.98e-06    7.61e-06\n",
      "revol.bal          -2.717e-06   1.05e-07    -25.764      0.000   -2.92e-06   -2.51e-06\n",
      "revol.util             0.0011      0.000      7.726      0.000       0.001       0.001\n",
      "inq.last.6mths        -0.0843      0.001    -56.251      0.000      -0.087      -0.081\n",
      "delinq.2yrs           -0.0104      0.006     -1.688      0.091      -0.022       0.002\n",
      "pub.rec                0.0112      0.012      0.912      0.362      -0.013       0.035\n",
      "not.fully.paid        -0.0427      0.009     -4.837      0.000      -0.060      -0.025\n",
      "==============================================================================\n",
      "Omnibus:                     1443.832   Durbin-Watson:                   0.795\n",
      "Prob(Omnibus):                  0.000   Jarque-Bera (JB):             3297.711\n",
      "Skew:                          -0.879   Prob(JB):                         0.00\n",
      "Kurtosis:                       5.275   Cond. No.                     4.84e+06\n",
      "==============================================================================\n",
      "\n",
      "Notes:\n",
      "[1] Standard Errors assume that the covariance matrix of the errors is correctly specified.\n",
      "[2] The condition number is large, 4.84e+06. This might indicate that there are\n",
      "strong multicollinearity or other numerical problems.\n"
     ]
    }
   ],
   "source": [
    "import statsmodels.api as sm\n",
    "\n",
    "print(sm.OLS(endog=New_Data.iloc[:,0],exog=New_Data.iloc[:,1:]).fit().summary())"
   ]
  },
  {
   "cell_type": "code",
   "execution_count": 19,
   "metadata": {
    "execution": {
     "iopub.execute_input": "2021-05-25T08:20:25.514498Z",
     "iopub.status.busy": "2021-05-25T08:20:25.514062Z",
     "iopub.status.idle": "2021-05-25T08:20:25.601406Z",
     "shell.execute_reply": "2021-05-25T08:20:25.600227Z",
     "shell.execute_reply.started": "2021-05-25T08:20:25.514455Z"
    },
    "executionInfo": {
     "elapsed": 5,
     "status": "ok",
     "timestamp": 1621930669730,
     "user": {
      "displayName": "Serhan ayberk Kılıç",
      "photoUrl": "https://lh3.googleusercontent.com/-O7F2r2MECSI/AAAAAAAAAAI/AAAAAAAABok/dYfrYVrlFTk/s64/photo.jpg",
      "userId": "08804915627409896404"
     },
     "user_tz": -180
    },
    "id": "su0S73fnDKse",
    "outputId": "98d68a2f-a969-4965-9065-7f318b2a4f0f"
   },
   "outputs": [
    {
     "data": {
      "text/html": [
       "<div>\n",
       "<style scoped>\n",
       "    .dataframe tbody tr th:only-of-type {\n",
       "        vertical-align: middle;\n",
       "    }\n",
       "\n",
       "    .dataframe tbody tr th {\n",
       "        vertical-align: top;\n",
       "    }\n",
       "\n",
       "    .dataframe thead th {\n",
       "        text-align: right;\n",
       "    }\n",
       "</style>\n",
       "<table border=\"1\" class=\"dataframe\">\n",
       "  <thead>\n",
       "    <tr style=\"text-align: right;\">\n",
       "      <th></th>\n",
       "      <th>count</th>\n",
       "      <th>mean</th>\n",
       "      <th>std</th>\n",
       "      <th>min</th>\n",
       "      <th>25%</th>\n",
       "      <th>50%</th>\n",
       "      <th>75%</th>\n",
       "      <th>max</th>\n",
       "    </tr>\n",
       "  </thead>\n",
       "  <tbody>\n",
       "    <tr>\n",
       "      <th>credit.policy</th>\n",
       "      <td>9578.0</td>\n",
       "      <td>0.804970</td>\n",
       "      <td>0.396245</td>\n",
       "      <td>0.000000</td>\n",
       "      <td>1.000000</td>\n",
       "      <td>1.000000</td>\n",
       "      <td>1.000000</td>\n",
       "      <td>1.000000e+00</td>\n",
       "    </tr>\n",
       "    <tr>\n",
       "      <th>int.rate</th>\n",
       "      <td>9578.0</td>\n",
       "      <td>0.122640</td>\n",
       "      <td>0.026847</td>\n",
       "      <td>0.060000</td>\n",
       "      <td>0.103900</td>\n",
       "      <td>0.122100</td>\n",
       "      <td>0.140700</td>\n",
       "      <td>2.164000e-01</td>\n",
       "    </tr>\n",
       "    <tr>\n",
       "      <th>installment</th>\n",
       "      <td>9578.0</td>\n",
       "      <td>319.089413</td>\n",
       "      <td>207.071301</td>\n",
       "      <td>15.670000</td>\n",
       "      <td>163.770000</td>\n",
       "      <td>268.950000</td>\n",
       "      <td>432.762500</td>\n",
       "      <td>9.401400e+02</td>\n",
       "    </tr>\n",
       "    <tr>\n",
       "      <th>log.annual.inc</th>\n",
       "      <td>9578.0</td>\n",
       "      <td>10.932117</td>\n",
       "      <td>0.614813</td>\n",
       "      <td>7.547502</td>\n",
       "      <td>10.558414</td>\n",
       "      <td>10.928884</td>\n",
       "      <td>11.291293</td>\n",
       "      <td>1.452835e+01</td>\n",
       "    </tr>\n",
       "    <tr>\n",
       "      <th>dti</th>\n",
       "      <td>9578.0</td>\n",
       "      <td>12.606679</td>\n",
       "      <td>6.883970</td>\n",
       "      <td>0.000000</td>\n",
       "      <td>7.212500</td>\n",
       "      <td>12.665000</td>\n",
       "      <td>17.950000</td>\n",
       "      <td>2.996000e+01</td>\n",
       "    </tr>\n",
       "    <tr>\n",
       "      <th>fico</th>\n",
       "      <td>9578.0</td>\n",
       "      <td>710.846314</td>\n",
       "      <td>37.970537</td>\n",
       "      <td>612.000000</td>\n",
       "      <td>682.000000</td>\n",
       "      <td>707.000000</td>\n",
       "      <td>737.000000</td>\n",
       "      <td>8.270000e+02</td>\n",
       "    </tr>\n",
       "    <tr>\n",
       "      <th>days.with.cr.line</th>\n",
       "      <td>9578.0</td>\n",
       "      <td>4560.767197</td>\n",
       "      <td>2496.930377</td>\n",
       "      <td>178.958333</td>\n",
       "      <td>2820.000000</td>\n",
       "      <td>4139.958333</td>\n",
       "      <td>5730.000000</td>\n",
       "      <td>1.763996e+04</td>\n",
       "    </tr>\n",
       "    <tr>\n",
       "      <th>revol.bal</th>\n",
       "      <td>9578.0</td>\n",
       "      <td>16913.963876</td>\n",
       "      <td>33756.189557</td>\n",
       "      <td>0.000000</td>\n",
       "      <td>3187.000000</td>\n",
       "      <td>8596.000000</td>\n",
       "      <td>18249.500000</td>\n",
       "      <td>1.207359e+06</td>\n",
       "    </tr>\n",
       "    <tr>\n",
       "      <th>revol.util</th>\n",
       "      <td>9578.0</td>\n",
       "      <td>46.799236</td>\n",
       "      <td>29.014417</td>\n",
       "      <td>0.000000</td>\n",
       "      <td>22.600000</td>\n",
       "      <td>46.300000</td>\n",
       "      <td>70.900000</td>\n",
       "      <td>1.190000e+02</td>\n",
       "    </tr>\n",
       "    <tr>\n",
       "      <th>inq.last.6mths</th>\n",
       "      <td>9578.0</td>\n",
       "      <td>1.577469</td>\n",
       "      <td>2.200245</td>\n",
       "      <td>0.000000</td>\n",
       "      <td>0.000000</td>\n",
       "      <td>1.000000</td>\n",
       "      <td>2.000000</td>\n",
       "      <td>3.300000e+01</td>\n",
       "    </tr>\n",
       "    <tr>\n",
       "      <th>delinq.2yrs</th>\n",
       "      <td>9578.0</td>\n",
       "      <td>0.163708</td>\n",
       "      <td>0.546215</td>\n",
       "      <td>0.000000</td>\n",
       "      <td>0.000000</td>\n",
       "      <td>0.000000</td>\n",
       "      <td>0.000000</td>\n",
       "      <td>1.300000e+01</td>\n",
       "    </tr>\n",
       "    <tr>\n",
       "      <th>pub.rec</th>\n",
       "      <td>9578.0</td>\n",
       "      <td>0.062122</td>\n",
       "      <td>0.262126</td>\n",
       "      <td>0.000000</td>\n",
       "      <td>0.000000</td>\n",
       "      <td>0.000000</td>\n",
       "      <td>0.000000</td>\n",
       "      <td>5.000000e+00</td>\n",
       "    </tr>\n",
       "    <tr>\n",
       "      <th>not.fully.paid</th>\n",
       "      <td>9578.0</td>\n",
       "      <td>0.160054</td>\n",
       "      <td>0.366676</td>\n",
       "      <td>0.000000</td>\n",
       "      <td>0.000000</td>\n",
       "      <td>0.000000</td>\n",
       "      <td>0.000000</td>\n",
       "      <td>1.000000e+00</td>\n",
       "    </tr>\n",
       "  </tbody>\n",
       "</table>\n",
       "</div>"
      ],
      "text/plain": [
       "                    count          mean           std         min  \\\n",
       "credit.policy      9578.0      0.804970      0.396245    0.000000   \n",
       "int.rate           9578.0      0.122640      0.026847    0.060000   \n",
       "installment        9578.0    319.089413    207.071301   15.670000   \n",
       "log.annual.inc     9578.0     10.932117      0.614813    7.547502   \n",
       "dti                9578.0     12.606679      6.883970    0.000000   \n",
       "fico               9578.0    710.846314     37.970537  612.000000   \n",
       "days.with.cr.line  9578.0   4560.767197   2496.930377  178.958333   \n",
       "revol.bal          9578.0  16913.963876  33756.189557    0.000000   \n",
       "revol.util         9578.0     46.799236     29.014417    0.000000   \n",
       "inq.last.6mths     9578.0      1.577469      2.200245    0.000000   \n",
       "delinq.2yrs        9578.0      0.163708      0.546215    0.000000   \n",
       "pub.rec            9578.0      0.062122      0.262126    0.000000   \n",
       "not.fully.paid     9578.0      0.160054      0.366676    0.000000   \n",
       "\n",
       "                           25%          50%           75%           max  \n",
       "credit.policy         1.000000     1.000000      1.000000  1.000000e+00  \n",
       "int.rate              0.103900     0.122100      0.140700  2.164000e-01  \n",
       "installment         163.770000   268.950000    432.762500  9.401400e+02  \n",
       "log.annual.inc       10.558414    10.928884     11.291293  1.452835e+01  \n",
       "dti                   7.212500    12.665000     17.950000  2.996000e+01  \n",
       "fico                682.000000   707.000000    737.000000  8.270000e+02  \n",
       "days.with.cr.line  2820.000000  4139.958333   5730.000000  1.763996e+04  \n",
       "revol.bal          3187.000000  8596.000000  18249.500000  1.207359e+06  \n",
       "revol.util           22.600000    46.300000     70.900000  1.190000e+02  \n",
       "inq.last.6mths        0.000000     1.000000      2.000000  3.300000e+01  \n",
       "delinq.2yrs           0.000000     0.000000      0.000000  1.300000e+01  \n",
       "pub.rec               0.000000     0.000000      0.000000  5.000000e+00  \n",
       "not.fully.paid        0.000000     0.000000      0.000000  1.000000e+00  "
      ]
     },
     "execution_count": 19,
     "metadata": {},
     "output_type": "execute_result"
    }
   ],
   "source": [
    "Data.describe().transpose()"
   ]
  },
  {
   "cell_type": "code",
   "execution_count": 20,
   "metadata": {
    "execution": {
     "iopub.execute_input": "2021-05-25T08:20:25.604093Z",
     "iopub.status.busy": "2021-05-25T08:20:25.60332Z",
     "iopub.status.idle": "2021-05-25T08:20:25.612861Z",
     "shell.execute_reply": "2021-05-25T08:20:25.611943Z",
     "shell.execute_reply.started": "2021-05-25T08:20:25.604042Z"
    },
    "executionInfo": {
     "elapsed": 4,
     "status": "ok",
     "timestamp": 1621930669730,
     "user": {
      "displayName": "Serhan ayberk Kılıç",
      "photoUrl": "https://lh3.googleusercontent.com/-O7F2r2MECSI/AAAAAAAAAAI/AAAAAAAABok/dYfrYVrlFTk/s64/photo.jpg",
      "userId": "08804915627409896404"
     },
     "user_tz": -180
    },
    "id": "S6DQxXNcDgQq"
   },
   "outputs": [],
   "source": [
    "def show_data(data_name):\n",
    "  fig,axs = plt.subplots(nrows=4,ncols=3,figsize=(15,15))\n",
    "  b=0\n",
    "  c=0\n",
    "  a=3\n",
    "  for i in data_name:\n",
    "    axs[b,c].scatter(y=Data['credit.policy'],x=Data[f'{i}'])\n",
    "    axs[b,c].set_ylabel('credit.policy')\n",
    "    axs[b,c].set_xlabel(f'{i}',color='red')\n",
    "    c+=1\n",
    "    if c==a:\n",
    "      b+=1\n",
    "      c=0\n",
    "    elif b==4:\n",
    "      break\n",
    "  plt.show()"
   ]
  },
  {
   "cell_type": "code",
   "execution_count": 21,
   "metadata": {
    "execution": {
     "iopub.execute_input": "2021-05-25T08:20:25.614412Z",
     "iopub.status.busy": "2021-05-25T08:20:25.614049Z",
     "iopub.status.idle": "2021-05-25T08:20:27.535187Z",
     "shell.execute_reply": "2021-05-25T08:20:27.53411Z",
     "shell.execute_reply.started": "2021-05-25T08:20:25.614384Z"
    },
    "executionInfo": {
     "elapsed": 2074,
     "status": "ok",
     "timestamp": 1621930671800,
     "user": {
      "displayName": "Serhan ayberk Kılıç",
      "photoUrl": "https://lh3.googleusercontent.com/-O7F2r2MECSI/AAAAAAAAAAI/AAAAAAAABok/dYfrYVrlFTk/s64/photo.jpg",
      "userId": "08804915627409896404"
     },
     "user_tz": -180
    },
    "id": "xmaLk8SEHKbC",
    "outputId": "23701f98-d1b1-45c0-e511-a5550cfd0d9d"
   },
   "outputs": [
    {
     "data": {
      "image/png": "[encoded data removed]",
      "text/plain": [
       "<Figure size 1080x1080 with 12 Axes>"
      ]
     },
     "metadata": {
      "needs_background": "light"
     },
     "output_type": "display_data"
    }
   ],
   "source": [
    "show_data(Data.columns[2:]) "
   ]
  },
  {
   "cell_type": "markdown",
   "metadata": {
    "id": "Ek2qpScwL17y"
   },
   "source": [
    "## Train-Validation-Test"
   ]
  },
  {
   "cell_type": "code",
   "execution_count": 22,
   "metadata": {
    "execution": {
     "iopub.execute_input": "2021-05-25T08:20:27.536911Z",
     "iopub.status.busy": "2021-05-25T08:20:27.536573Z",
     "iopub.status.idle": "2021-05-25T08:20:27.546632Z",
     "shell.execute_reply": "2021-05-25T08:20:27.545567Z",
     "shell.execute_reply.started": "2021-05-25T08:20:27.536871Z"
    },
    "executionInfo": {
     "elapsed": 8,
     "status": "ok",
     "timestamp": 1621930671801,
     "user": {
      "displayName": "Serhan ayberk Kılıç",
      "photoUrl": "https://lh3.googleusercontent.com/-O7F2r2MECSI/AAAAAAAAAAI/AAAAAAAABok/dYfrYVrlFTk/s64/photo.jpg",
      "userId": "08804915627409896404"
     },
     "user_tz": -180
    },
    "id": "7skk8mX3L6Vu"
   },
   "outputs": [],
   "source": [
    "x=New_Data.copy().drop(columns='credit.policy')\n",
    "y=New_Data.copy()['credit.policy']"
   ]
  },
  {
   "cell_type": "code",
   "execution_count": 23,
   "metadata": {
    "execution": {
     "iopub.execute_input": "2021-05-25T08:20:27.548797Z",
     "iopub.status.busy": "2021-05-25T08:20:27.548349Z",
     "iopub.status.idle": "2021-05-25T08:20:27.57216Z",
     "shell.execute_reply": "2021-05-25T08:20:27.571263Z",
     "shell.execute_reply.started": "2021-05-25T08:20:27.548753Z"
    },
    "executionInfo": {
     "elapsed": 7,
     "status": "ok",
     "timestamp": 1621930671801,
     "user": {
      "displayName": "Serhan ayberk Kılıç",
      "photoUrl": "https://lh3.googleusercontent.com/-O7F2r2MECSI/AAAAAAAAAAI/AAAAAAAABok/dYfrYVrlFTk/s64/photo.jpg",
      "userId": "08804915627409896404"
     },
     "user_tz": -180
    },
    "id": "HX6j4VLvNJSw",
    "outputId": "fd655840-9aef-4f49-9efd-97a6db1315fa"
   },
   "outputs": [
    {
     "data": {
      "text/html": [
       "<div>\n",
       "<style scoped>\n",
       "    .dataframe tbody tr th:only-of-type {\n",
       "        vertical-align: middle;\n",
       "    }\n",
       "\n",
       "    .dataframe tbody tr th {\n",
       "        vertical-align: top;\n",
       "    }\n",
       "\n",
       "    .dataframe thead th {\n",
       "        text-align: right;\n",
       "    }\n",
       "</style>\n",
       "<table border=\"1\" class=\"dataframe\">\n",
       "  <thead>\n",
       "    <tr style=\"text-align: right;\">\n",
       "      <th></th>\n",
       "      <th>all_other</th>\n",
       "      <th>credit_card</th>\n",
       "      <th>debt_consolidation</th>\n",
       "      <th>educational</th>\n",
       "      <th>home_improvement</th>\n",
       "      <th>major_purchase</th>\n",
       "      <th>small_business</th>\n",
       "      <th>int.rate</th>\n",
       "      <th>installment</th>\n",
       "      <th>log.annual.inc</th>\n",
       "      <th>dti</th>\n",
       "      <th>fico</th>\n",
       "      <th>days.with.cr.line</th>\n",
       "      <th>revol.bal</th>\n",
       "      <th>revol.util</th>\n",
       "      <th>inq.last.6mths</th>\n",
       "      <th>delinq.2yrs</th>\n",
       "      <th>pub.rec</th>\n",
       "      <th>not.fully.paid</th>\n",
       "    </tr>\n",
       "  </thead>\n",
       "  <tbody>\n",
       "    <tr>\n",
       "      <th>0</th>\n",
       "      <td>0</td>\n",
       "      <td>0</td>\n",
       "      <td>1</td>\n",
       "      <td>0</td>\n",
       "      <td>0</td>\n",
       "      <td>0</td>\n",
       "      <td>0</td>\n",
       "      <td>0.1189</td>\n",
       "      <td>829.10</td>\n",
       "      <td>11.350407</td>\n",
       "      <td>19.48</td>\n",
       "      <td>737</td>\n",
       "      <td>5639.958333</td>\n",
       "      <td>28854</td>\n",
       "      <td>52.1</td>\n",
       "      <td>0</td>\n",
       "      <td>0</td>\n",
       "      <td>0</td>\n",
       "      <td>0</td>\n",
       "    </tr>\n",
       "    <tr>\n",
       "      <th>1</th>\n",
       "      <td>0</td>\n",
       "      <td>1</td>\n",
       "      <td>0</td>\n",
       "      <td>0</td>\n",
       "      <td>0</td>\n",
       "      <td>0</td>\n",
       "      <td>0</td>\n",
       "      <td>0.1071</td>\n",
       "      <td>228.22</td>\n",
       "      <td>11.082143</td>\n",
       "      <td>14.29</td>\n",
       "      <td>707</td>\n",
       "      <td>2760.000000</td>\n",
       "      <td>33623</td>\n",
       "      <td>76.7</td>\n",
       "      <td>0</td>\n",
       "      <td>0</td>\n",
       "      <td>0</td>\n",
       "      <td>0</td>\n",
       "    </tr>\n",
       "    <tr>\n",
       "      <th>2</th>\n",
       "      <td>0</td>\n",
       "      <td>0</td>\n",
       "      <td>1</td>\n",
       "      <td>0</td>\n",
       "      <td>0</td>\n",
       "      <td>0</td>\n",
       "      <td>0</td>\n",
       "      <td>0.1357</td>\n",
       "      <td>366.86</td>\n",
       "      <td>10.373491</td>\n",
       "      <td>11.63</td>\n",
       "      <td>682</td>\n",
       "      <td>4710.000000</td>\n",
       "      <td>3511</td>\n",
       "      <td>25.6</td>\n",
       "      <td>1</td>\n",
       "      <td>0</td>\n",
       "      <td>0</td>\n",
       "      <td>0</td>\n",
       "    </tr>\n",
       "    <tr>\n",
       "      <th>3</th>\n",
       "      <td>0</td>\n",
       "      <td>0</td>\n",
       "      <td>1</td>\n",
       "      <td>0</td>\n",
       "      <td>0</td>\n",
       "      <td>0</td>\n",
       "      <td>0</td>\n",
       "      <td>0.1008</td>\n",
       "      <td>162.34</td>\n",
       "      <td>11.350407</td>\n",
       "      <td>8.10</td>\n",
       "      <td>712</td>\n",
       "      <td>2699.958333</td>\n",
       "      <td>33667</td>\n",
       "      <td>73.2</td>\n",
       "      <td>1</td>\n",
       "      <td>0</td>\n",
       "      <td>0</td>\n",
       "      <td>0</td>\n",
       "    </tr>\n",
       "    <tr>\n",
       "      <th>4</th>\n",
       "      <td>0</td>\n",
       "      <td>1</td>\n",
       "      <td>0</td>\n",
       "      <td>0</td>\n",
       "      <td>0</td>\n",
       "      <td>0</td>\n",
       "      <td>0</td>\n",
       "      <td>0.1426</td>\n",
       "      <td>102.92</td>\n",
       "      <td>11.299732</td>\n",
       "      <td>14.97</td>\n",
       "      <td>667</td>\n",
       "      <td>4066.000000</td>\n",
       "      <td>4740</td>\n",
       "      <td>39.5</td>\n",
       "      <td>0</td>\n",
       "      <td>1</td>\n",
       "      <td>0</td>\n",
       "      <td>0</td>\n",
       "    </tr>\n",
       "  </tbody>\n",
       "</table>\n",
       "</div>"
      ],
      "text/plain": [
       "   all_other  credit_card  debt_consolidation  educational  home_improvement  \\\n",
       "0          0            0                   1            0                 0   \n",
       "1          0            1                   0            0                 0   \n",
       "2          0            0                   1            0                 0   \n",
       "3          0            0                   1            0                 0   \n",
       "4          0            1                   0            0                 0   \n",
       "\n",
       "   major_purchase  small_business  int.rate  installment  log.annual.inc  \\\n",
       "0               0               0    0.1189       829.10       11.350407   \n",
       "1               0               0    0.1071       228.22       11.082143   \n",
       "2               0               0    0.1357       366.86       10.373491   \n",
       "3               0               0    0.1008       162.34       11.350407   \n",
       "4               0               0    0.1426       102.92       11.299732   \n",
       "\n",
       "     dti  fico  days.with.cr.line  revol.bal  revol.util  inq.last.6mths  \\\n",
       "0  19.48   737        5639.958333      28854        52.1               0   \n",
       "1  14.29   707        2760.000000      33623        76.7               0   \n",
       "2  11.63   682        4710.000000       3511        25.6               1   \n",
       "3   8.10   712        2699.958333      33667        73.2               1   \n",
       "4  14.97   667        4066.000000       4740        39.5               0   \n",
       "\n",
       "   delinq.2yrs  pub.rec  not.fully.paid  \n",
       "0            0        0               0  \n",
       "1            0        0               0  \n",
       "2            0        0               0  \n",
       "3            0        0               0  \n",
       "4            1        0               0  "
      ]
     },
     "execution_count": 23,
     "metadata": {},
     "output_type": "execute_result"
    }
   ],
   "source": [
    "x.head()"
   ]
  },
  {
   "cell_type": "code",
   "execution_count": 24,
   "metadata": {
    "execution": {
     "iopub.execute_input": "2021-05-25T08:20:27.573795Z",
     "iopub.status.busy": "2021-05-25T08:20:27.573448Z",
     "iopub.status.idle": "2021-05-25T08:20:27.588917Z",
     "shell.execute_reply": "2021-05-25T08:20:27.588042Z",
     "shell.execute_reply.started": "2021-05-25T08:20:27.573759Z"
    },
    "executionInfo": {
     "elapsed": 7,
     "status": "ok",
     "timestamp": 1621930671802,
     "user": {
      "displayName": "Serhan ayberk Kılıç",
      "photoUrl": "https://lh3.googleusercontent.com/-O7F2r2MECSI/AAAAAAAAAAI/AAAAAAAABok/dYfrYVrlFTk/s64/photo.jpg",
      "userId": "08804915627409896404"
     },
     "user_tz": -180
    },
    "id": "nQzzYEL8NK3c",
    "outputId": "2f9e60ab-0977-4d4f-86c8-e61fe6abafd5"
   },
   "outputs": [
    {
     "data": {
      "text/plain": [
       "0    1\n",
       "1    1\n",
       "2    1\n",
       "3    1\n",
       "4    1\n",
       "Name: credit.policy, dtype: int64"
      ]
     },
     "execution_count": 24,
     "metadata": {},
     "output_type": "execute_result"
    }
   ],
   "source": [
    "y.head()"
   ]
  },
  {
   "cell_type": "code",
   "execution_count": 25,
   "metadata": {
    "execution": {
     "iopub.execute_input": "2021-05-25T08:20:27.59052Z",
     "iopub.status.busy": "2021-05-25T08:20:27.590211Z",
     "iopub.status.idle": "2021-05-25T08:20:27.604325Z",
     "shell.execute_reply": "2021-05-25T08:20:27.603312Z",
     "shell.execute_reply.started": "2021-05-25T08:20:27.590488Z"
    },
    "executionInfo": {
     "elapsed": 12,
     "status": "ok",
     "timestamp": 1621930672162,
     "user": {
      "displayName": "Serhan ayberk Kılıç",
      "photoUrl": "https://lh3.googleusercontent.com/-O7F2r2MECSI/AAAAAAAAAAI/AAAAAAAABok/dYfrYVrlFTk/s64/photo.jpg",
      "userId": "08804915627409896404"
     },
     "user_tz": -180
    },
    "id": "8LJuP_PHM8F7"
   },
   "outputs": [],
   "source": [
    "x_array=x.values\n",
    "y_array=y.values"
   ]
  },
  {
   "cell_type": "code",
   "execution_count": 26,
   "metadata": {
    "execution": {
     "iopub.execute_input": "2021-05-25T08:20:27.607065Z",
     "iopub.status.busy": "2021-05-25T08:20:27.606459Z",
     "iopub.status.idle": "2021-05-25T08:20:27.61743Z",
     "shell.execute_reply": "2021-05-25T08:20:27.616195Z",
     "shell.execute_reply.started": "2021-05-25T08:20:27.607008Z"
    },
    "executionInfo": {
     "elapsed": 13,
     "status": "ok",
     "timestamp": 1621930672163,
     "user": {
      "displayName": "Serhan ayberk Kılıç",
      "photoUrl": "https://lh3.googleusercontent.com/-O7F2r2MECSI/AAAAAAAAAAI/AAAAAAAABok/dYfrYVrlFTk/s64/photo.jpg",
      "userId": "08804915627409896404"
     },
     "user_tz": -180
    },
    "id": "b2jlFxwGNPk6",
    "outputId": "b1383b63-97ae-4ad0-cd2e-8f9d5ced0d4a"
   },
   "outputs": [
    {
     "data": {
      "text/plain": [
       "(9578, 19)"
      ]
     },
     "execution_count": 26,
     "metadata": {},
     "output_type": "execute_result"
    }
   ],
   "source": [
    "x.shape"
   ]
  },
  {
   "cell_type": "code",
   "execution_count": 27,
   "metadata": {
    "execution": {
     "iopub.execute_input": "2021-05-25T08:20:27.61933Z",
     "iopub.status.busy": "2021-05-25T08:20:27.618823Z",
     "iopub.status.idle": "2021-05-25T08:20:27.634232Z",
     "shell.execute_reply": "2021-05-25T08:20:27.633282Z",
     "shell.execute_reply.started": "2021-05-25T08:20:27.619299Z"
    },
    "executionInfo": {
     "elapsed": 12,
     "status": "ok",
     "timestamp": 1621930672163,
     "user": {
      "displayName": "Serhan ayberk Kılıç",
      "photoUrl": "https://lh3.googleusercontent.com/-O7F2r2MECSI/AAAAAAAAAAI/AAAAAAAABok/dYfrYVrlFTk/s64/photo.jpg",
      "userId": "08804915627409896404"
     },
     "user_tz": -180
    },
    "id": "zGX9vFvsNQ7L",
    "outputId": "c60ae016-d517-41cf-9181-246d0a43c99d"
   },
   "outputs": [
    {
     "data": {
      "text/plain": [
       "(9578,)"
      ]
     },
     "execution_count": 27,
     "metadata": {},
     "output_type": "execute_result"
    }
   ],
   "source": [
    "y.shape"
   ]
  },
  {
   "cell_type": "code",
   "execution_count": 28,
   "metadata": {
    "execution": {
     "iopub.execute_input": "2021-05-25T08:20:27.635969Z",
     "iopub.status.busy": "2021-05-25T08:20:27.635573Z",
     "iopub.status.idle": "2021-05-25T08:20:27.785699Z",
     "shell.execute_reply": "2021-05-25T08:20:27.784603Z",
     "shell.execute_reply.started": "2021-05-25T08:20:27.635939Z"
    },
    "executionInfo": {
     "elapsed": 11,
     "status": "ok",
     "timestamp": 1621930672163,
     "user": {
      "displayName": "Serhan ayberk Kılıç",
      "photoUrl": "https://lh3.googleusercontent.com/-O7F2r2MECSI/AAAAAAAAAAI/AAAAAAAABok/dYfrYVrlFTk/s64/photo.jpg",
      "userId": "08804915627409896404"
     },
     "user_tz": -180
    },
    "id": "YRLU12C1Nct1"
   },
   "outputs": [],
   "source": [
    "from sklearn.model_selection import train_test_split\n",
    "\n",
    "x_train,x_val,y_train,y_val=train_test_split(x_array,y_array,test_size=0.05,random_state=42)\n",
    "x_train,x_test,y_train,y_test=train_test_split(x_train,y_train,test_size=0.20,random_state=42)"
   ]
  },
  {
   "cell_type": "code",
   "execution_count": 29,
   "metadata": {
    "execution": {
     "iopub.execute_input": "2021-05-25T08:20:27.787963Z",
     "iopub.status.busy": "2021-05-25T08:20:27.787471Z",
     "iopub.status.idle": "2021-05-25T08:20:27.795298Z",
     "shell.execute_reply": "2021-05-25T08:20:27.794192Z",
     "shell.execute_reply.started": "2021-05-25T08:20:27.787917Z"
    },
    "executionInfo": {
     "elapsed": 11,
     "status": "ok",
     "timestamp": 1621930672164,
     "user": {
      "displayName": "Serhan ayberk Kılıç",
      "photoUrl": "https://lh3.googleusercontent.com/-O7F2r2MECSI/AAAAAAAAAAI/AAAAAAAABok/dYfrYVrlFTk/s64/photo.jpg",
      "userId": "08804915627409896404"
     },
     "user_tz": -180
    },
    "id": "m1nf68w3OWsR",
    "outputId": "a8235ed0-8043-4c89-c345-b0851253a294"
   },
   "outputs": [
    {
     "data": {
      "text/plain": [
       "(7279, 19)"
      ]
     },
     "execution_count": 29,
     "metadata": {},
     "output_type": "execute_result"
    }
   ],
   "source": [
    "x_train.shape"
   ]
  },
  {
   "cell_type": "code",
   "execution_count": 30,
   "metadata": {
    "execution": {
     "iopub.execute_input": "2021-05-25T08:20:27.797571Z",
     "iopub.status.busy": "2021-05-25T08:20:27.797049Z",
     "iopub.status.idle": "2021-05-25T08:20:27.811183Z",
     "shell.execute_reply": "2021-05-25T08:20:27.809903Z",
     "shell.execute_reply.started": "2021-05-25T08:20:27.797504Z"
    },
    "executionInfo": {
     "elapsed": 11,
     "status": "ok",
     "timestamp": 1621930672164,
     "user": {
      "displayName": "Serhan ayberk Kılıç",
      "photoUrl": "https://lh3.googleusercontent.com/-O7F2r2MECSI/AAAAAAAAAAI/AAAAAAAABok/dYfrYVrlFTk/s64/photo.jpg",
      "userId": "08804915627409896404"
     },
     "user_tz": -180
    },
    "id": "6rGXRzyzOdAK",
    "outputId": "b4951071-d7d1-4ea6-e890-15b2fa742484"
   },
   "outputs": [
    {
     "data": {
      "text/plain": [
       "(7279,)"
      ]
     },
     "execution_count": 30,
     "metadata": {},
     "output_type": "execute_result"
    }
   ],
   "source": [
    "y_train.shape"
   ]
  },
  {
   "cell_type": "code",
   "execution_count": 31,
   "metadata": {
    "execution": {
     "iopub.execute_input": "2021-05-25T08:20:27.813084Z",
     "iopub.status.busy": "2021-05-25T08:20:27.812786Z",
     "iopub.status.idle": "2021-05-25T08:20:27.824388Z",
     "shell.execute_reply": "2021-05-25T08:20:27.823327Z",
     "shell.execute_reply.started": "2021-05-25T08:20:27.813055Z"
    },
    "executionInfo": {
     "elapsed": 10,
     "status": "ok",
     "timestamp": 1621930672164,
     "user": {
      "displayName": "Serhan ayberk Kılıç",
      "photoUrl": "https://lh3.googleusercontent.com/-O7F2r2MECSI/AAAAAAAAAAI/AAAAAAAABok/dYfrYVrlFTk/s64/photo.jpg",
      "userId": "08804915627409896404"
     },
     "user_tz": -180
    },
    "id": "NzLav1VIOgkD",
    "outputId": "195840a3-983d-4434-f5b7-6fd05a52848c"
   },
   "outputs": [
    {
     "data": {
      "text/plain": [
       "(479, 19)"
      ]
     },
     "execution_count": 31,
     "metadata": {},
     "output_type": "execute_result"
    }
   ],
   "source": [
    "x_val.shape"
   ]
  },
  {
   "cell_type": "code",
   "execution_count": 32,
   "metadata": {
    "execution": {
     "iopub.execute_input": "2021-05-25T08:20:27.826006Z",
     "iopub.status.busy": "2021-05-25T08:20:27.825693Z",
     "iopub.status.idle": "2021-05-25T08:20:27.83869Z",
     "shell.execute_reply": "2021-05-25T08:20:27.837592Z",
     "shell.execute_reply.started": "2021-05-25T08:20:27.825977Z"
    },
    "executionInfo": {
     "elapsed": 11,
     "status": "ok",
     "timestamp": 1621930672165,
     "user": {
      "displayName": "Serhan ayberk Kılıç",
      "photoUrl": "https://lh3.googleusercontent.com/-O7F2r2MECSI/AAAAAAAAAAI/AAAAAAAABok/dYfrYVrlFTk/s64/photo.jpg",
      "userId": "08804915627409896404"
     },
     "user_tz": -180
    },
    "id": "guh5Wo8mOig0",
    "outputId": "e310c982-ec56-4377-9c9f-77608fd2d149"
   },
   "outputs": [
    {
     "data": {
      "text/plain": [
       "(479,)"
      ]
     },
     "execution_count": 32,
     "metadata": {},
     "output_type": "execute_result"
    }
   ],
   "source": [
    "y_val.shape"
   ]
  },
  {
   "cell_type": "code",
   "execution_count": 33,
   "metadata": {
    "execution": {
     "iopub.execute_input": "2021-05-25T08:20:27.840539Z",
     "iopub.status.busy": "2021-05-25T08:20:27.840173Z",
     "iopub.status.idle": "2021-05-25T08:20:27.852569Z",
     "shell.execute_reply": "2021-05-25T08:20:27.851485Z",
     "shell.execute_reply.started": "2021-05-25T08:20:27.840504Z"
    },
    "executionInfo": {
     "elapsed": 10,
     "status": "ok",
     "timestamp": 1621930672165,
     "user": {
      "displayName": "Serhan ayberk Kılıç",
      "photoUrl": "https://lh3.googleusercontent.com/-O7F2r2MECSI/AAAAAAAAAAI/AAAAAAAABok/dYfrYVrlFTk/s64/photo.jpg",
      "userId": "08804915627409896404"
     },
     "user_tz": -180
    },
    "id": "vBkQSRvKOkIF",
    "outputId": "114fe0d2-3aea-40ac-add7-e6d7de7f34d0"
   },
   "outputs": [
    {
     "data": {
      "text/plain": [
       "(1820, 19)"
      ]
     },
     "execution_count": 33,
     "metadata": {},
     "output_type": "execute_result"
    }
   ],
   "source": [
    "x_test.shape"
   ]
  },
  {
   "cell_type": "code",
   "execution_count": 34,
   "metadata": {
    "execution": {
     "iopub.execute_input": "2021-05-25T08:20:27.854068Z",
     "iopub.status.busy": "2021-05-25T08:20:27.853667Z",
     "iopub.status.idle": "2021-05-25T08:20:27.865942Z",
     "shell.execute_reply": "2021-05-25T08:20:27.865028Z",
     "shell.execute_reply.started": "2021-05-25T08:20:27.854031Z"
    },
    "executionInfo": {
     "elapsed": 10,
     "status": "ok",
     "timestamp": 1621930672165,
     "user": {
      "displayName": "Serhan ayberk Kılıç",
      "photoUrl": "https://lh3.googleusercontent.com/-O7F2r2MECSI/AAAAAAAAAAI/AAAAAAAABok/dYfrYVrlFTk/s64/photo.jpg",
      "userId": "08804915627409896404"
     },
     "user_tz": -180
    },
    "id": "pHZ58leNOlhV",
    "outputId": "0dfeb3ef-992a-4b48-9dd9-345d7c3970ec"
   },
   "outputs": [
    {
     "data": {
      "text/plain": [
       "(1820,)"
      ]
     },
     "execution_count": 34,
     "metadata": {},
     "output_type": "execute_result"
    }
   ],
   "source": [
    "y_test.shape"
   ]
  },
  {
   "cell_type": "markdown",
   "metadata": {
    "id": "4WbbIfdfOo9P"
   },
   "source": [
    "## Scaler"
   ]
  },
  {
   "cell_type": "code",
   "execution_count": 35,
   "metadata": {
    "execution": {
     "iopub.execute_input": "2021-05-25T08:20:27.867667Z",
     "iopub.status.busy": "2021-05-25T08:20:27.867356Z",
     "iopub.status.idle": "2021-05-25T08:20:27.885728Z",
     "shell.execute_reply": "2021-05-25T08:20:27.884807Z",
     "shell.execute_reply.started": "2021-05-25T08:20:27.867636Z"
    },
    "executionInfo": {
     "elapsed": 9,
     "status": "ok",
     "timestamp": 1621930672165,
     "user": {
      "displayName": "Serhan ayberk Kılıç",
      "photoUrl": "https://lh3.googleusercontent.com/-O7F2r2MECSI/AAAAAAAAAAI/AAAAAAAABok/dYfrYVrlFTk/s64/photo.jpg",
      "userId": "08804915627409896404"
     },
     "user_tz": -180
    },
    "id": "czMvPsuQOmfm"
   },
   "outputs": [],
   "source": [
    "from sklearn.preprocessing import StandardScaler\n",
    "\n",
    "obje_ss=StandardScaler()\n",
    "\n",
    "x_train_ss=obje_ss.fit_transform(x_train)\n",
    "x_val_ss=obje_ss.fit_transform(x_val)\n",
    "x_test_ss=obje_ss.fit_transform(x_test)"
   ]
  },
  {
   "cell_type": "code",
   "execution_count": 36,
   "metadata": {
    "execution": {
     "iopub.execute_input": "2021-05-25T08:20:27.88733Z",
     "iopub.status.busy": "2021-05-25T08:20:27.887013Z",
     "iopub.status.idle": "2021-05-25T08:20:27.894869Z",
     "shell.execute_reply": "2021-05-25T08:20:27.893892Z",
     "shell.execute_reply.started": "2021-05-25T08:20:27.887297Z"
    },
    "executionInfo": {
     "elapsed": 10,
     "status": "ok",
     "timestamp": 1621930672166,
     "user": {
      "displayName": "Serhan ayberk Kılıç",
      "photoUrl": "https://lh3.googleusercontent.com/-O7F2r2MECSI/AAAAAAAAAAI/AAAAAAAABok/dYfrYVrlFTk/s64/photo.jpg",
      "userId": "08804915627409896404"
     },
     "user_tz": -180
    },
    "id": "YIYlra9LPU7w",
    "outputId": "312fc7b8-abee-4332-e1b8-de6ae33d1ad7"
   },
   "outputs": [
    {
     "data": {
      "text/plain": [
       "array([[0., 0., 1., ..., 0., 0., 0.],\n",
       "       [0., 0., 1., ..., 0., 0., 0.],\n",
       "       [0., 0., 1., ..., 0., 0., 0.],\n",
       "       ...,\n",
       "       [0., 0., 1., ..., 0., 0., 0.],\n",
       "       [0., 0., 0., ..., 0., 0., 0.],\n",
       "       [0., 0., 1., ..., 0., 0., 0.]])"
      ]
     },
     "execution_count": 36,
     "metadata": {},
     "output_type": "execute_result"
    }
   ],
   "source": [
    "x_train"
   ]
  },
  {
   "cell_type": "code",
   "execution_count": 37,
   "metadata": {
    "execution": {
     "iopub.execute_input": "2021-05-25T08:20:27.90248Z",
     "iopub.status.busy": "2021-05-25T08:20:27.902084Z",
     "iopub.status.idle": "2021-05-25T08:20:27.912288Z",
     "shell.execute_reply": "2021-05-25T08:20:27.911049Z",
     "shell.execute_reply.started": "2021-05-25T08:20:27.902446Z"
    },
    "executionInfo": {
     "elapsed": 10,
     "status": "ok",
     "timestamp": 1621930672166,
     "user": {
      "displayName": "Serhan ayberk Kılıç",
      "photoUrl": "https://lh3.googleusercontent.com/-O7F2r2MECSI/AAAAAAAAAAI/AAAAAAAABok/dYfrYVrlFTk/s64/photo.jpg",
      "userId": "08804915627409896404"
     },
     "user_tz": -180
    },
    "id": "ks0sMES4PWkb",
    "outputId": "ae579986-ea8b-4662-816f-a5d773bfd2e4"
   },
   "outputs": [
    {
     "data": {
      "text/plain": [
       "array([[-0.56449927, -0.39117462,  1.18788184, ..., -0.29521897,\n",
       "        -0.23860477, -0.44230165],\n",
       "       [-0.56449927, -0.39117462,  1.18788184, ..., -0.29521897,\n",
       "        -0.23860477, -0.44230165],\n",
       "       [-0.56449927, -0.39117462,  1.18788184, ..., -0.29521897,\n",
       "        -0.23860477, -0.44230165],\n",
       "       ...,\n",
       "       [-0.56449927, -0.39117462,  1.18788184, ..., -0.29521897,\n",
       "        -0.23860477, -0.44230165],\n",
       "       [-0.56449927, -0.39117462, -0.84183457, ..., -0.29521897,\n",
       "        -0.23860477, -0.44230165],\n",
       "       [-0.56449927, -0.39117462,  1.18788184, ..., -0.29521897,\n",
       "        -0.23860477, -0.44230165]])"
      ]
     },
     "execution_count": 37,
     "metadata": {},
     "output_type": "execute_result"
    }
   ],
   "source": [
    "x_train_ss"
   ]
  },
  {
   "cell_type": "markdown",
   "metadata": {
    "id": "_PcnSYOaPYMn"
   },
   "source": [
    "## Models"
   ]
  },
  {
   "cell_type": "code",
   "execution_count": 38,
   "metadata": {
    "execution": {
     "iopub.execute_input": "2021-05-25T08:20:27.915057Z",
     "iopub.status.busy": "2021-05-25T08:20:27.914248Z",
     "iopub.status.idle": "2021-05-25T08:20:27.924239Z",
     "shell.execute_reply": "2021-05-25T08:20:27.923136Z",
     "shell.execute_reply.started": "2021-05-25T08:20:27.914972Z"
    },
    "executionInfo": {
     "elapsed": 9,
     "status": "ok",
     "timestamp": 1621930672166,
     "user": {
      "displayName": "Serhan ayberk Kılıç",
      "photoUrl": "https://lh3.googleusercontent.com/-O7F2r2MECSI/AAAAAAAAAAI/AAAAAAAABok/dYfrYVrlFTk/s64/photo.jpg",
      "userId": "08804915627409896404"
     },
     "user_tz": -180
    },
    "id": "EqKMNyXPQjHl"
   },
   "outputs": [],
   "source": [
    "from sklearn.metrics import r2_score,classification_report,accuracy_score,confusion_matrix"
   ]
  },
  {
   "cell_type": "markdown",
   "metadata": {
    "id": "1-jfYV-JVO5r"
   },
   "source": [
    "### LogisticRegression"
   ]
  },
  {
   "cell_type": "code",
   "execution_count": 39,
   "metadata": {
    "execution": {
     "iopub.execute_input": "2021-05-25T08:20:27.926229Z",
     "iopub.status.busy": "2021-05-25T08:20:27.925529Z",
     "iopub.status.idle": "2021-05-25T08:20:28.298636Z",
     "shell.execute_reply": "2021-05-25T08:20:28.297359Z",
     "shell.execute_reply.started": "2021-05-25T08:20:27.92617Z"
    },
    "executionInfo": {
     "elapsed": 318,
     "status": "ok",
     "timestamp": 1621930672475,
     "user": {
      "displayName": "Serhan ayberk Kılıç",
      "photoUrl": "https://lh3.googleusercontent.com/-O7F2r2MECSI/AAAAAAAAAAI/AAAAAAAABok/dYfrYVrlFTk/s64/photo.jpg",
      "userId": "08804915627409896404"
     },
     "user_tz": -180
    },
    "id": "kt7SPUwpPXVT",
    "outputId": "0a77ce11-a302-4da2-a599-4bda63c9f53b"
   },
   "outputs": [
    {
     "name": "stdout",
     "output_type": "stream",
     "text": [
      "LogisticRegression(max_iter=200, random_state=42)\n"
     ]
    }
   ],
   "source": [
    "from sklearn.linear_model import LogisticRegression\n",
    "\n",
    "model_log=LogisticRegression(solver='lbfgs',max_iter=200,random_state=42).fit(x_train,y_train)\n",
    "y_pred=model_log.predict(x_val)\n",
    "print(model_log)"
   ]
  },
  {
   "cell_type": "code",
   "execution_count": 40,
   "metadata": {
    "execution": {
     "iopub.execute_input": "2021-05-25T08:20:28.307188Z",
     "iopub.status.busy": "2021-05-25T08:20:28.304226Z",
     "iopub.status.idle": "2021-05-25T08:20:28.324182Z",
     "shell.execute_reply": "2021-05-25T08:20:28.32252Z",
     "shell.execute_reply.started": "2021-05-25T08:20:28.307123Z"
    },
    "executionInfo": {
     "elapsed": 4,
     "status": "ok",
     "timestamp": 1621930672476,
     "user": {
      "displayName": "Serhan ayberk Kılıç",
      "photoUrl": "https://lh3.googleusercontent.com/-O7F2r2MECSI/AAAAAAAAAAI/AAAAAAAABok/dYfrYVrlFTk/s64/photo.jpg",
      "userId": "08804915627409896404"
     },
     "user_tz": -180
    },
    "id": "Jfx_es16T1DM",
    "outputId": "2a2dd934-eb6d-4bef-c53d-de562dd14ecc"
   },
   "outputs": [
    {
     "name": "stdout",
     "output_type": "stream",
     "text": [
      "[[ 61  40]\n",
      " [  5 373]]\n"
     ]
    }
   ],
   "source": [
    "print(confusion_matrix(y_val,y_pred))"
   ]
  },
  {
   "cell_type": "code",
   "execution_count": 41,
   "metadata": {
    "execution": {
     "iopub.execute_input": "2021-05-25T08:20:28.332501Z",
     "iopub.status.busy": "2021-05-25T08:20:28.32965Z",
     "iopub.status.idle": "2021-05-25T08:20:28.349431Z",
     "shell.execute_reply": "2021-05-25T08:20:28.34816Z",
     "shell.execute_reply.started": "2021-05-25T08:20:28.332438Z"
    },
    "executionInfo": {
     "elapsed": 4,
     "status": "ok",
     "timestamp": 1621930672476,
     "user": {
      "displayName": "Serhan ayberk Kılıç",
      "photoUrl": "https://lh3.googleusercontent.com/-O7F2r2MECSI/AAAAAAAAAAI/AAAAAAAABok/dYfrYVrlFTk/s64/photo.jpg",
      "userId": "08804915627409896404"
     },
     "user_tz": -180
    },
    "id": "SLvkZv3dQUq0",
    "outputId": "7c2688e4-e5e5-45df-d462-83c95fb1ee1c"
   },
   "outputs": [
    {
     "name": "stdout",
     "output_type": "stream",
     "text": [
      "Train success rate: % 89.80629207308695\n",
      "Test success rate: % 90.6054279749478\n"
     ]
    }
   ],
   "source": [
    "print('Train success rate: %',model_log.score(x_train,y_train)*100)\n",
    "print('Test success rate: %',accuracy_score(y_val,y_pred)*100)"
   ]
  },
  {
   "cell_type": "code",
   "execution_count": 42,
   "metadata": {
    "execution": {
     "iopub.execute_input": "2021-05-25T08:20:28.358035Z",
     "iopub.status.busy": "2021-05-25T08:20:28.353931Z",
     "iopub.status.idle": "2021-05-25T08:20:28.380306Z",
     "shell.execute_reply": "2021-05-25T08:20:28.379145Z",
     "shell.execute_reply.started": "2021-05-25T08:20:28.357965Z"
    },
    "executionInfo": {
     "elapsed": 3,
     "status": "ok",
     "timestamp": 1621930672476,
     "user": {
      "displayName": "Serhan ayberk Kılıç",
      "photoUrl": "https://lh3.googleusercontent.com/-O7F2r2MECSI/AAAAAAAAAAI/AAAAAAAABok/dYfrYVrlFTk/s64/photo.jpg",
      "userId": "08804915627409896404"
     },
     "user_tz": -180
    },
    "id": "WP83-g5sTlZW",
    "outputId": "0bdea65d-03d9-481b-cb19-d31f8877a34e"
   },
   "outputs": [
    {
     "name": "stdout",
     "output_type": "stream",
     "text": [
      "              precision    recall  f1-score   support\n",
      "\n",
      "           0       0.92      0.60      0.73       101\n",
      "           1       0.90      0.99      0.94       378\n",
      "\n",
      "    accuracy                           0.91       479\n",
      "   macro avg       0.91      0.80      0.84       479\n",
      "weighted avg       0.91      0.91      0.90       479\n",
      "\n"
     ]
    }
   ],
   "source": [
    "print(classification_report(y_val,y_pred))"
   ]
  },
  {
   "cell_type": "markdown",
   "metadata": {
    "id": "pcOdW3XiVTAN"
   },
   "source": [
    "### SVC"
   ]
  },
  {
   "cell_type": "code",
   "execution_count": 43,
   "metadata": {
    "execution": {
     "iopub.execute_input": "2021-05-25T08:20:28.388807Z",
     "iopub.status.busy": "2021-05-25T08:20:28.385873Z",
     "iopub.status.idle": "2021-05-25T08:20:29.530187Z",
     "shell.execute_reply": "2021-05-25T08:20:29.529095Z",
     "shell.execute_reply.started": "2021-05-25T08:20:28.388742Z"
    },
    "executionInfo": {
     "elapsed": 1203,
     "status": "ok",
     "timestamp": 1621930673676,
     "user": {
      "displayName": "Serhan ayberk Kılıç",
      "photoUrl": "https://lh3.googleusercontent.com/-O7F2r2MECSI/AAAAAAAAAAI/AAAAAAAABok/dYfrYVrlFTk/s64/photo.jpg",
      "userId": "08804915627409896404"
     },
     "user_tz": -180
    },
    "id": "Gc9w0jReTwsa",
    "outputId": "1857a6ba-961f-4e64-a1da-fff0ff8b3720"
   },
   "outputs": [
    {
     "name": "stdout",
     "output_type": "stream",
     "text": [
      "SVC(C=1, random_state=42)\n"
     ]
    }
   ],
   "source": [
    "from sklearn.svm import SVC\n",
    "\n",
    "model_svc=SVC(C=1,kernel='rbf',degree=3,random_state=42).fit(x_train_ss,y_train)\n",
    "y_pred=model_svc.predict(x_val_ss)\n",
    "print(model_svc)"
   ]
  },
  {
   "cell_type": "code",
   "execution_count": 44,
   "metadata": {
    "execution": {
     "iopub.execute_input": "2021-05-25T08:20:29.531971Z",
     "iopub.status.busy": "2021-05-25T08:20:29.531589Z",
     "iopub.status.idle": "2021-05-25T08:20:29.539421Z",
     "shell.execute_reply": "2021-05-25T08:20:29.538452Z",
     "shell.execute_reply.started": "2021-05-25T08:20:29.531938Z"
    },
    "executionInfo": {
     "elapsed": 3,
     "status": "ok",
     "timestamp": 1621930673676,
     "user": {
      "displayName": "Serhan ayberk Kılıç",
      "photoUrl": "https://lh3.googleusercontent.com/-O7F2r2MECSI/AAAAAAAAAAI/AAAAAAAABok/dYfrYVrlFTk/s64/photo.jpg",
      "userId": "08804915627409896404"
     },
     "user_tz": -180
    },
    "id": "axB6UmMYUsM6",
    "outputId": "d5048ea2-9258-474e-d229-b9945984d0de"
   },
   "outputs": [
    {
     "name": "stdout",
     "output_type": "stream",
     "text": [
      "[[ 72  29]\n",
      " [  8 370]]\n"
     ]
    }
   ],
   "source": [
    "print(confusion_matrix(y_val,y_pred))"
   ]
  },
  {
   "cell_type": "code",
   "execution_count": 45,
   "metadata": {
    "execution": {
     "iopub.execute_input": "2021-05-25T08:20:29.54123Z",
     "iopub.status.busy": "2021-05-25T08:20:29.540672Z",
     "iopub.status.idle": "2021-05-25T08:20:30.562026Z",
     "shell.execute_reply": "2021-05-25T08:20:30.56098Z",
     "shell.execute_reply.started": "2021-05-25T08:20:29.541184Z"
    },
    "executionInfo": {
     "elapsed": 635,
     "status": "ok",
     "timestamp": 1621930674309,
     "user": {
      "displayName": "Serhan ayberk Kılıç",
      "photoUrl": "https://lh3.googleusercontent.com/-O7F2r2MECSI/AAAAAAAAAAI/AAAAAAAABok/dYfrYVrlFTk/s64/photo.jpg",
      "userId": "08804915627409896404"
     },
     "user_tz": -180
    },
    "id": "SHH3wD-lUucc",
    "outputId": "2483b235-b19b-44fd-cb41-649af88f525b"
   },
   "outputs": [
    {
     "name": "stdout",
     "output_type": "stream",
     "text": [
      "Train success rate: % 93.85904657233137\n",
      "Test success rate: % 92.27557411273486\n"
     ]
    }
   ],
   "source": [
    "print('Train success rate: %',model_svc.score(x_train_ss,y_train)*100)\n",
    "print('Test success rate: %',accuracy_score(y_val,y_pred)*100)"
   ]
  },
  {
   "cell_type": "code",
   "execution_count": 46,
   "metadata": {
    "execution": {
     "iopub.execute_input": "2021-05-25T08:20:30.563511Z",
     "iopub.status.busy": "2021-05-25T08:20:30.563221Z",
     "iopub.status.idle": "2021-05-25T08:20:30.575589Z",
     "shell.execute_reply": "2021-05-25T08:20:30.574623Z",
     "shell.execute_reply.started": "2021-05-25T08:20:30.563482Z"
    },
    "executionInfo": {
     "elapsed": 5,
     "status": "ok",
     "timestamp": 1621930674309,
     "user": {
      "displayName": "Serhan ayberk Kılıç",
      "photoUrl": "https://lh3.googleusercontent.com/-O7F2r2MECSI/AAAAAAAAAAI/AAAAAAAABok/dYfrYVrlFTk/s64/photo.jpg",
      "userId": "08804915627409896404"
     },
     "user_tz": -180
    },
    "id": "7YCdvjM8U0RX",
    "outputId": "92478220-ae10-4864-c076-780662d7d0ef"
   },
   "outputs": [
    {
     "name": "stdout",
     "output_type": "stream",
     "text": [
      "              precision    recall  f1-score   support\n",
      "\n",
      "           0       0.90      0.71      0.80       101\n",
      "           1       0.93      0.98      0.95       378\n",
      "\n",
      "    accuracy                           0.92       479\n",
      "   macro avg       0.91      0.85      0.87       479\n",
      "weighted avg       0.92      0.92      0.92       479\n",
      "\n"
     ]
    }
   ],
   "source": [
    "print(classification_report(y_val,y_pred))"
   ]
  },
  {
   "cell_type": "markdown",
   "metadata": {
    "id": "HL6KYvQAVVk6"
   },
   "source": [
    "### KNN"
   ]
  },
  {
   "cell_type": "code",
   "execution_count": 47,
   "metadata": {
    "execution": {
     "iopub.execute_input": "2021-05-25T08:20:30.577561Z",
     "iopub.status.busy": "2021-05-25T08:20:30.577215Z",
     "iopub.status.idle": "2021-05-25T08:20:30.793313Z",
     "shell.execute_reply": "2021-05-25T08:20:30.792109Z",
     "shell.execute_reply.started": "2021-05-25T08:20:30.577507Z"
    },
    "executionInfo": {
     "elapsed": 4,
     "status": "ok",
     "timestamp": 1621930674309,
     "user": {
      "displayName": "Serhan ayberk Kılıç",
      "photoUrl": "https://lh3.googleusercontent.com/-O7F2r2MECSI/AAAAAAAAAAI/AAAAAAAABok/dYfrYVrlFTk/s64/photo.jpg",
      "userId": "08804915627409896404"
     },
     "user_tz": -180
    },
    "id": "d2KheKRUVJxQ",
    "outputId": "5ec346b8-b2a4-4658-8975-ca4989e99348"
   },
   "outputs": [
    {
     "name": "stdout",
     "output_type": "stream",
     "text": [
      "KNeighborsClassifier()\n"
     ]
    }
   ],
   "source": [
    "from sklearn.neighbors import KNeighborsClassifier\n",
    "\n",
    "model_knn=KNeighborsClassifier(n_neighbors=5,metric='minkowski').fit(x_train,y_train)\n",
    "y_pred=model_knn.predict(x_val)\n",
    "print(model_knn)"
   ]
  },
  {
   "cell_type": "code",
   "execution_count": 48,
   "metadata": {
    "execution": {
     "iopub.execute_input": "2021-05-25T08:20:30.794957Z",
     "iopub.status.busy": "2021-05-25T08:20:30.794624Z",
     "iopub.status.idle": "2021-05-25T08:20:30.802058Z",
     "shell.execute_reply": "2021-05-25T08:20:30.8008Z",
     "shell.execute_reply.started": "2021-05-25T08:20:30.794926Z"
    },
    "executionInfo": {
     "elapsed": 4,
     "status": "ok",
     "timestamp": 1621930674310,
     "user": {
      "displayName": "Serhan ayberk Kılıç",
      "photoUrl": "https://lh3.googleusercontent.com/-O7F2r2MECSI/AAAAAAAAAAI/AAAAAAAABok/dYfrYVrlFTk/s64/photo.jpg",
      "userId": "08804915627409896404"
     },
     "user_tz": -180
    },
    "id": "hZy3OJ5mV-wP",
    "outputId": "1b58aed3-8e9e-4e70-bb2f-068eab18ab73"
   },
   "outputs": [
    {
     "name": "stdout",
     "output_type": "stream",
     "text": [
      "[[ 32  69]\n",
      " [  7 371]]\n"
     ]
    }
   ],
   "source": [
    "print(confusion_matrix(y_val,y_pred))"
   ]
  },
  {
   "cell_type": "code",
   "execution_count": 49,
   "metadata": {
    "execution": {
     "iopub.execute_input": "2021-05-25T08:20:30.804347Z",
     "iopub.status.busy": "2021-05-25T08:20:30.803968Z",
     "iopub.status.idle": "2021-05-25T08:20:32.414627Z",
     "shell.execute_reply": "2021-05-25T08:20:32.413665Z",
     "shell.execute_reply.started": "2021-05-25T08:20:30.804316Z"
    },
    "executionInfo": {
     "elapsed": 362,
     "status": "ok",
     "timestamp": 1621930674669,
     "user": {
      "displayName": "Serhan ayberk Kılıç",
      "photoUrl": "https://lh3.googleusercontent.com/-O7F2r2MECSI/AAAAAAAAAAI/AAAAAAAABok/dYfrYVrlFTk/s64/photo.jpg",
      "userId": "08804915627409896404"
     },
     "user_tz": -180
    },
    "id": "452o5pD0WDhZ",
    "outputId": "7103acd4-3deb-45eb-dd96-8388c01beaf7"
   },
   "outputs": [
    {
     "name": "stdout",
     "output_type": "stream",
     "text": [
      "Train success rate: % 85.79475202637725\n",
      "Test success rate: % 84.13361169102296\n"
     ]
    }
   ],
   "source": [
    "print('Train success rate: %',model_knn.score(x_train,y_train)*100)\n",
    "print('Test success rate: %',accuracy_score(y_val,y_pred)*100)"
   ]
  },
  {
   "cell_type": "code",
   "execution_count": 50,
   "metadata": {
    "execution": {
     "iopub.execute_input": "2021-05-25T08:20:32.416088Z",
     "iopub.status.busy": "2021-05-25T08:20:32.415814Z",
     "iopub.status.idle": "2021-05-25T08:20:32.428742Z",
     "shell.execute_reply": "2021-05-25T08:20:32.427574Z",
     "shell.execute_reply.started": "2021-05-25T08:20:32.416061Z"
    },
    "executionInfo": {
     "elapsed": 6,
     "status": "ok",
     "timestamp": 1621930674669,
     "user": {
      "displayName": "Serhan ayberk Kılıç",
      "photoUrl": "https://lh3.googleusercontent.com/-O7F2r2MECSI/AAAAAAAAAAI/AAAAAAAABok/dYfrYVrlFTk/s64/photo.jpg",
      "userId": "08804915627409896404"
     },
     "user_tz": -180
    },
    "id": "6pv4tFhyWHXK",
    "outputId": "ea9c251c-4335-485d-ee49-455f30f8acdc"
   },
   "outputs": [
    {
     "name": "stdout",
     "output_type": "stream",
     "text": [
      "              precision    recall  f1-score   support\n",
      "\n",
      "           0       0.82      0.32      0.46       101\n",
      "           1       0.84      0.98      0.91       378\n",
      "\n",
      "    accuracy                           0.84       479\n",
      "   macro avg       0.83      0.65      0.68       479\n",
      "weighted avg       0.84      0.84      0.81       479\n",
      "\n"
     ]
    }
   ],
   "source": [
    "print(classification_report(y_val,y_pred))"
   ]
  },
  {
   "cell_type": "markdown",
   "metadata": {
    "id": "ocQ0yJsHWVxS"
   },
   "source": [
    "### Navie Bayes"
   ]
  },
  {
   "cell_type": "code",
   "execution_count": 51,
   "metadata": {
    "execution": {
     "iopub.execute_input": "2021-05-25T08:20:32.430416Z",
     "iopub.status.busy": "2021-05-25T08:20:32.430013Z",
     "iopub.status.idle": "2021-05-25T08:20:32.448676Z",
     "shell.execute_reply": "2021-05-25T08:20:32.4453Z",
     "shell.execute_reply.started": "2021-05-25T08:20:32.430305Z"
    },
    "executionInfo": {
     "elapsed": 5,
     "status": "ok",
     "timestamp": 1621930674669,
     "user": {
      "displayName": "Serhan ayberk Kılıç",
      "photoUrl": "https://lh3.googleusercontent.com/-O7F2r2MECSI/AAAAAAAAAAI/AAAAAAAABok/dYfrYVrlFTk/s64/photo.jpg",
      "userId": "08804915627409896404"
     },
     "user_tz": -180
    },
    "id": "QQSQputgWJyT",
    "outputId": "95490a90-4ae4-49d6-d32e-f6ed26cffcb5"
   },
   "outputs": [
    {
     "name": "stdout",
     "output_type": "stream",
     "text": [
      "BernoulliNB()\n"
     ]
    }
   ],
   "source": [
    "from sklearn.naive_bayes import  BernoulliNB\n",
    "\n",
    "model_bnb=BernoulliNB().fit(x_train,y_train)\n",
    "y_pred=model_bnb.predict(x_val)\n",
    "print(model_bnb)"
   ]
  },
  {
   "cell_type": "code",
   "execution_count": 52,
   "metadata": {
    "execution": {
     "iopub.execute_input": "2021-05-25T08:20:32.450761Z",
     "iopub.status.busy": "2021-05-25T08:20:32.45027Z",
     "iopub.status.idle": "2021-05-25T08:20:32.460689Z",
     "shell.execute_reply": "2021-05-25T08:20:32.459633Z",
     "shell.execute_reply.started": "2021-05-25T08:20:32.45069Z"
    },
    "executionInfo": {
     "elapsed": 5,
     "status": "ok",
     "timestamp": 1621930674670,
     "user": {
      "displayName": "Serhan ayberk Kılıç",
      "photoUrl": "https://lh3.googleusercontent.com/-O7F2r2MECSI/AAAAAAAAAAI/AAAAAAAABok/dYfrYVrlFTk/s64/photo.jpg",
      "userId": "08804915627409896404"
     },
     "user_tz": -180
    },
    "id": "5N2PU5cYWs_a",
    "outputId": "bb3662ba-167e-4476-8de5-467994677e5c"
   },
   "outputs": [
    {
     "name": "stdout",
     "output_type": "stream",
     "text": [
      "[[  7  94]\n",
      " [  8 370]]\n"
     ]
    }
   ],
   "source": [
    "print(confusion_matrix(y_val,y_pred))"
   ]
  },
  {
   "cell_type": "code",
   "execution_count": 53,
   "metadata": {
    "execution": {
     "iopub.execute_input": "2021-05-25T08:20:32.463882Z",
     "iopub.status.busy": "2021-05-25T08:20:32.462101Z",
     "iopub.status.idle": "2021-05-25T08:20:32.481241Z",
     "shell.execute_reply": "2021-05-25T08:20:32.47975Z",
     "shell.execute_reply.started": "2021-05-25T08:20:32.463834Z"
    },
    "executionInfo": {
     "elapsed": 5,
     "status": "ok",
     "timestamp": 1621930674670,
     "user": {
      "displayName": "Serhan ayberk Kılıç",
      "photoUrl": "https://lh3.googleusercontent.com/-O7F2r2MECSI/AAAAAAAAAAI/AAAAAAAABok/dYfrYVrlFTk/s64/photo.jpg",
      "userId": "08804915627409896404"
     },
     "user_tz": -180
    },
    "id": "-4lyE3AJWu3j",
    "outputId": "3de48391-f57e-48c8-c522-0c3d8bc19dd3"
   },
   "outputs": [
    {
     "name": "stdout",
     "output_type": "stream",
     "text": [
      "Train success rate: % 80.38192059348812\n",
      "Test success rate: % 78.70563674321504\n"
     ]
    }
   ],
   "source": [
    "print('Train success rate: %',model_bnb.score(x_train,y_train)*100)\n",
    "print('Test success rate: %',accuracy_score(y_val,y_pred)*100)"
   ]
  },
  {
   "cell_type": "code",
   "execution_count": 54,
   "metadata": {
    "execution": {
     "iopub.execute_input": "2021-05-25T08:20:32.483397Z",
     "iopub.status.busy": "2021-05-25T08:20:32.482973Z",
     "iopub.status.idle": "2021-05-25T08:20:32.499229Z",
     "shell.execute_reply": "2021-05-25T08:20:32.498125Z",
     "shell.execute_reply.started": "2021-05-25T08:20:32.483352Z"
    },
    "executionInfo": {
     "elapsed": 4,
     "status": "ok",
     "timestamp": 1621930674670,
     "user": {
      "displayName": "Serhan ayberk Kılıç",
      "photoUrl": "https://lh3.googleusercontent.com/-O7F2r2MECSI/AAAAAAAAAAI/AAAAAAAABok/dYfrYVrlFTk/s64/photo.jpg",
      "userId": "08804915627409896404"
     },
     "user_tz": -180
    },
    "id": "-noqGq_IWwaU",
    "outputId": "87796b34-221b-464a-e5b6-20f9021f45c9"
   },
   "outputs": [
    {
     "name": "stdout",
     "output_type": "stream",
     "text": [
      "              precision    recall  f1-score   support\n",
      "\n",
      "           0       0.47      0.07      0.12       101\n",
      "           1       0.80      0.98      0.88       378\n",
      "\n",
      "    accuracy                           0.79       479\n",
      "   macro avg       0.63      0.52      0.50       479\n",
      "weighted avg       0.73      0.79      0.72       479\n",
      "\n"
     ]
    }
   ],
   "source": [
    "print(classification_report(y_val,y_pred))"
   ]
  },
  {
   "cell_type": "markdown",
   "metadata": {
    "id": "6nf8nVbwX4x4"
   },
   "source": [
    "### Tree Models"
   ]
  },
  {
   "cell_type": "code",
   "execution_count": 55,
   "metadata": {
    "execution": {
     "iopub.execute_input": "2021-05-25T08:20:32.501682Z",
     "iopub.status.busy": "2021-05-25T08:20:32.500992Z",
     "iopub.status.idle": "2021-05-25T08:20:33.450488Z",
     "shell.execute_reply": "2021-05-25T08:20:33.449531Z",
     "shell.execute_reply.started": "2021-05-25T08:20:32.501636Z"
    },
    "executionInfo": {
     "elapsed": 1401,
     "status": "ok",
     "timestamp": 1621930676067,
     "user": {
      "displayName": "Serhan ayberk Kılıç",
      "photoUrl": "https://lh3.googleusercontent.com/-O7F2r2MECSI/AAAAAAAAAAI/AAAAAAAABok/dYfrYVrlFTk/s64/photo.jpg",
      "userId": "08804915627409896404"
     },
     "user_tz": -180
    },
    "id": "Xj-9cAIYWyx0",
    "outputId": "85963074-e9ba-4337-8b57-18e805ac5bd0"
   },
   "outputs": [
    {
     "name": "stdout",
     "output_type": "stream",
     "text": [
      "RandomForestClassifier(n_jobs=-1, random_state=42)\n"
     ]
    }
   ],
   "source": [
    "from sklearn.ensemble import RandomForestClassifier\n",
    "\n",
    "model_rfr=RandomForestClassifier(n_estimators=100,criterion='gini',random_state=42,n_jobs=-1).fit(x_train,y_train)\n",
    "y_pred=model_rfr.predict(x_val)\n",
    "print(model_rfr)"
   ]
  },
  {
   "cell_type": "code",
   "execution_count": 56,
   "metadata": {
    "execution": {
     "iopub.execute_input": "2021-05-25T08:20:33.451701Z",
     "iopub.status.busy": "2021-05-25T08:20:33.451444Z",
     "iopub.status.idle": "2021-05-25T08:20:33.458926Z",
     "shell.execute_reply": "2021-05-25T08:20:33.457978Z",
     "shell.execute_reply.started": "2021-05-25T08:20:33.451676Z"
    },
    "executionInfo": {
     "elapsed": 6,
     "status": "ok",
     "timestamp": 1621930676068,
     "user": {
      "displayName": "Serhan ayberk Kılıç",
      "photoUrl": "https://lh3.googleusercontent.com/-O7F2r2MECSI/AAAAAAAAAAI/AAAAAAAABok/dYfrYVrlFTk/s64/photo.jpg",
      "userId": "08804915627409896404"
     },
     "user_tz": -180
    },
    "id": "YspaUkk-hjef",
    "outputId": "b3f5b34e-353b-45f3-84ae-0ed93c0b06e5"
   },
   "outputs": [
    {
     "name": "stdout",
     "output_type": "stream",
     "text": [
      "[[ 95   6]\n",
      " [  1 377]]\n"
     ]
    }
   ],
   "source": [
    "print(confusion_matrix(y_val,y_pred))"
   ]
  },
  {
   "cell_type": "code",
   "execution_count": 57,
   "metadata": {
    "execution": {
     "iopub.execute_input": "2021-05-25T08:20:33.460351Z",
     "iopub.status.busy": "2021-05-25T08:20:33.460071Z",
     "iopub.status.idle": "2021-05-25T08:20:33.57707Z",
     "shell.execute_reply": "2021-05-25T08:20:33.575938Z",
     "shell.execute_reply.started": "2021-05-25T08:20:33.460323Z"
    },
    "executionInfo": {
     "elapsed": 4,
     "status": "ok",
     "timestamp": 1621930676068,
     "user": {
      "displayName": "Serhan ayberk Kılıç",
      "photoUrl": "https://lh3.googleusercontent.com/-O7F2r2MECSI/AAAAAAAAAAI/AAAAAAAABok/dYfrYVrlFTk/s64/photo.jpg",
      "userId": "08804915627409896404"
     },
     "user_tz": -180
    },
    "id": "N-5tvLxJhmGw",
    "outputId": "e36bc76c-4105-4fb3-8893-a4a5c76e38f4"
   },
   "outputs": [
    {
     "name": "stdout",
     "output_type": "stream",
     "text": [
      "Train success rate: % 100.0\n",
      "Test success rate: % 98.53862212943632\n"
     ]
    }
   ],
   "source": [
    "print('Train success rate: %',model_rfr.score(x_train,y_train)*100)\n",
    "print('Test success rate: %',accuracy_score(y_val,y_pred)*100)"
   ]
  },
  {
   "cell_type": "code",
   "execution_count": 58,
   "metadata": {
    "execution": {
     "iopub.execute_input": "2021-05-25T08:20:33.578646Z",
     "iopub.status.busy": "2021-05-25T08:20:33.578253Z",
     "iopub.status.idle": "2021-05-25T08:20:33.591048Z",
     "shell.execute_reply": "2021-05-25T08:20:33.589926Z",
     "shell.execute_reply.started": "2021-05-25T08:20:33.578603Z"
    },
    "executionInfo": {
     "elapsed": 4,
     "status": "ok",
     "timestamp": 1621930676069,
     "user": {
      "displayName": "Serhan ayberk Kılıç",
      "photoUrl": "https://lh3.googleusercontent.com/-O7F2r2MECSI/AAAAAAAAAAI/AAAAAAAABok/dYfrYVrlFTk/s64/photo.jpg",
      "userId": "08804915627409896404"
     },
     "user_tz": -180
    },
    "id": "eDL0QjGPhotB",
    "outputId": "314d639c-8258-4fe3-fd02-073e2d599867"
   },
   "outputs": [
    {
     "name": "stdout",
     "output_type": "stream",
     "text": [
      "              precision    recall  f1-score   support\n",
      "\n",
      "           0       0.99      0.94      0.96       101\n",
      "           1       0.98      1.00      0.99       378\n",
      "\n",
      "    accuracy                           0.99       479\n",
      "   macro avg       0.99      0.97      0.98       479\n",
      "weighted avg       0.99      0.99      0.99       479\n",
      "\n"
     ]
    }
   ],
   "source": [
    "print(classification_report(y_val,y_pred))"
   ]
  },
  {
   "cell_type": "markdown",
   "metadata": {
    "id": "vI01Mr1ziKtM"
   },
   "source": [
    "### Boosting"
   ]
  },
  {
   "cell_type": "code",
   "execution_count": 61,
   "metadata": {
    "execution": {
     "iopub.execute_input": "2021-05-25T08:20:33.59324Z",
     "iopub.status.busy": "2021-05-25T08:20:33.592926Z",
     "iopub.status.idle": "2021-05-25T08:20:34.324166Z",
     "shell.execute_reply": "2021-05-25T08:20:34.323243Z",
     "shell.execute_reply.started": "2021-05-25T08:20:33.593208Z"
    },
    "executionInfo": {
     "elapsed": 656,
     "status": "ok",
     "timestamp": 1621930676721,
     "user": {
      "displayName": "Serhan ayberk Kılıç",
      "photoUrl": "https://lh3.googleusercontent.com/-O7F2r2MECSI/AAAAAAAAAAI/AAAAAAAABok/dYfrYVrlFTk/s64/photo.jpg",
      "userId": "08804915627409896404"
     },
     "user_tz": -180
    },
    "id": "apSssSkJhtHD",
    "outputId": "3b8a87b5-fbc4-4095-c2cc-2c702cfb94cb"
   },
   "outputs": [
    {
     "name": "stdout",
     "output_type": "stream",
     "text": [
      "XGBClassifier(base_score=0.5, booster='gbtree', callbacks=None,\n",
      "              colsample_bylevel=1, colsample_bynode=1, colsample_bytree=1,\n",
      "              early_stopping_rounds=None, enable_categorical=False,\n",
      "              eval_metric=None, gamma=0, gpu_id=-1, grow_policy='depthwise',\n",
      "              importance_type=None, interaction_constraints='',\n",
      "              learning_rate=0.1, max_bin=256, max_cat_to_onehot=4,\n",
      "              max_delta_step=0, max_depth=4, max_leaves=0, min_child_weight=1,\n",
      "              missing=nan, monotone_constraints='()', n_estimators=100,\n",
      "              n_jobs=-1, num_parallel_tree=1, predictor='auto', random_state=42,\n",
      "              reg_alpha=0, reg_lambda=1, ...)\n"
     ]
    }
   ],
   "source": [
    "from xgboost import XGBClassifier\n",
    "\n",
    "model_xgb=XGBClassifier(max_depth=4,learning_rate=0.1,n_estimators=100,objective='binary:logistic',n_jobs=-1,random_state=42).fit(x_train,y_train)\n",
    "y_pred=model_xgb.predict(x_val)\n",
    "print(model_xgb)"
   ]
  },
  {
   "cell_type": "code",
   "execution_count": 62,
   "metadata": {
    "execution": {
     "iopub.execute_input": "2021-05-25T08:20:34.330278Z",
     "iopub.status.busy": "2021-05-25T08:20:34.328232Z",
     "iopub.status.idle": "2021-05-25T08:20:34.339562Z",
     "shell.execute_reply": "2021-05-25T08:20:34.338164Z",
     "shell.execute_reply.started": "2021-05-25T08:20:34.330231Z"
    },
    "executionInfo": {
     "elapsed": 4,
     "status": "ok",
     "timestamp": 1621930676722,
     "user": {
      "displayName": "Serhan ayberk Kılıç",
      "photoUrl": "https://lh3.googleusercontent.com/-O7F2r2MECSI/AAAAAAAAAAI/AAAAAAAABok/dYfrYVrlFTk/s64/photo.jpg",
      "userId": "08804915627409896404"
     },
     "user_tz": -180
    },
    "id": "ZzD7I82ki9QE",
    "outputId": "1593f38a-40f9-46b5-b55d-5d3296727301"
   },
   "outputs": [
    {
     "name": "stdout",
     "output_type": "stream",
     "text": [
      "[[ 97   4]\n",
      " [  1 377]]\n"
     ]
    }
   ],
   "source": [
    "print(confusion_matrix(y_val,y_pred))"
   ]
  },
  {
   "cell_type": "code",
   "execution_count": 63,
   "metadata": {
    "execution": {
     "iopub.execute_input": "2021-05-25T08:20:34.341567Z",
     "iopub.status.busy": "2021-05-25T08:20:34.341134Z",
     "iopub.status.idle": "2021-05-25T08:20:34.363498Z",
     "shell.execute_reply": "2021-05-25T08:20:34.362597Z",
     "shell.execute_reply.started": "2021-05-25T08:20:34.341519Z"
    },
    "executionInfo": {
     "elapsed": 326,
     "status": "ok",
     "timestamp": 1621930677046,
     "user": {
      "displayName": "Serhan ayberk Kılıç",
      "photoUrl": "https://lh3.googleusercontent.com/-O7F2r2MECSI/AAAAAAAAAAI/AAAAAAAABok/dYfrYVrlFTk/s64/photo.jpg",
      "userId": "08804915627409896404"
     },
     "user_tz": -180
    },
    "id": "HTUeuwAJjATt",
    "outputId": "a2961ac7-e046-48e3-b957-1b95cd376e30"
   },
   "outputs": [
    {
     "name": "stdout",
     "output_type": "stream",
     "text": [
      "Train success rate: % 99.67028437972249\n",
      "Test success rate: % 98.95615866388309\n"
     ]
    }
   ],
   "source": [
    "print('Train success rate: %',model_xgb.score(x_train,y_train)*100)\n",
    "print('Test success rate: %',accuracy_score(y_val,y_pred)*100)"
   ]
  },
  {
   "cell_type": "code",
   "execution_count": 64,
   "metadata": {
    "execution": {
     "iopub.execute_input": "2021-05-25T08:20:34.369664Z",
     "iopub.status.busy": "2021-05-25T08:20:34.367451Z",
     "iopub.status.idle": "2021-05-25T08:20:34.382755Z",
     "shell.execute_reply": "2021-05-25T08:20:34.381226Z",
     "shell.execute_reply.started": "2021-05-25T08:20:34.369598Z"
    },
    "executionInfo": {
     "elapsed": 5,
     "status": "ok",
     "timestamp": 1621930677046,
     "user": {
      "displayName": "Serhan ayberk Kılıç",
      "photoUrl": "https://lh3.googleusercontent.com/-O7F2r2MECSI/AAAAAAAAAAI/AAAAAAAABok/dYfrYVrlFTk/s64/photo.jpg",
      "userId": "08804915627409896404"
     },
     "user_tz": -180
    },
    "id": "jK6ZOvzvjB8-",
    "outputId": "3cd78b04-db58-422d-c006-85e32a081a2c"
   },
   "outputs": [
    {
     "name": "stdout",
     "output_type": "stream",
     "text": [
      "              precision    recall  f1-score   support\n",
      "\n",
      "           0       0.99      0.96      0.97       101\n",
      "           1       0.99      1.00      0.99       378\n",
      "\n",
      "    accuracy                           0.99       479\n",
      "   macro avg       0.99      0.98      0.98       479\n",
      "weighted avg       0.99      0.99      0.99       479\n",
      "\n"
     ]
    }
   ],
   "source": [
    "print(classification_report(y_val,y_pred))"
   ]
  },
  {
   "cell_type": "markdown",
   "metadata": {
    "id": "oH4sNEBWjQAM"
   },
   "source": [
    "## Test\n"
   ]
  },
  {
   "cell_type": "code",
   "execution_count": 65,
   "metadata": {
    "execution": {
     "iopub.execute_input": "2021-05-25T08:20:34.385458Z",
     "iopub.status.busy": "2021-05-25T08:20:34.384881Z",
     "iopub.status.idle": "2021-05-25T08:20:34.392033Z",
     "shell.execute_reply": "2021-05-25T08:20:34.390795Z",
     "shell.execute_reply.started": "2021-05-25T08:20:34.385403Z"
    },
    "executionInfo": {
     "elapsed": 5,
     "status": "ok",
     "timestamp": 1621930677047,
     "user": {
      "displayName": "Serhan ayberk Kılıç",
      "photoUrl": "https://lh3.googleusercontent.com/-O7F2r2MECSI/AAAAAAAAAAI/AAAAAAAABok/dYfrYVrlFTk/s64/photo.jpg",
      "userId": "08804915627409896404"
     },
     "user_tz": -180
    },
    "id": "CWm0FM0mjGFo"
   },
   "outputs": [],
   "source": [
    "def test_score(model_name):\n",
    "\n",
    "  for i in model_name:\n",
    "    print(f'{i.__class__} \\n{classification_report(y_test,i.predict(x_test))}')\n"
   ]
  },
  {
   "cell_type": "code",
   "execution_count": 66,
   "metadata": {
    "execution": {
     "iopub.execute_input": "2021-05-25T08:20:34.394711Z",
     "iopub.status.busy": "2021-05-25T08:20:34.393631Z",
     "iopub.status.idle": "2021-05-25T08:20:34.407362Z",
     "shell.execute_reply": "2021-05-25T08:20:34.405722Z",
     "shell.execute_reply.started": "2021-05-25T08:20:34.394656Z"
    },
    "executionInfo": {
     "elapsed": 4,
     "status": "ok",
     "timestamp": 1621930677047,
     "user": {
      "displayName": "Serhan ayberk Kılıç",
      "photoUrl": "https://lh3.googleusercontent.com/-O7F2r2MECSI/AAAAAAAAAAI/AAAAAAAABok/dYfrYVrlFTk/s64/photo.jpg",
      "userId": "08804915627409896404"
     },
     "user_tz": -180
    },
    "id": "waK2t0ilj3S0"
   },
   "outputs": [],
   "source": [
    "model_names=[model_log,model_knn,model_bnb,model_rfr,model_xgb]"
   ]
  },
  {
   "cell_type": "code",
   "execution_count": 67,
   "metadata": {
    "execution": {
     "iopub.execute_input": "2021-05-25T08:20:34.40986Z",
     "iopub.status.busy": "2021-05-25T08:20:34.409306Z",
     "iopub.status.idle": "2021-05-25T08:20:34.949186Z",
     "shell.execute_reply": "2021-05-25T08:20:34.948326Z",
     "shell.execute_reply.started": "2021-05-25T08:20:34.4098Z"
    },
    "executionInfo": {
     "elapsed": 332,
     "status": "ok",
     "timestamp": 1621930677375,
     "user": {
      "displayName": "Serhan ayberk Kılıç",
      "photoUrl": "https://lh3.googleusercontent.com/-O7F2r2MECSI/AAAAAAAAAAI/AAAAAAAABok/dYfrYVrlFTk/s64/photo.jpg",
      "userId": "08804915627409896404"
     },
     "user_tz": -180
    },
    "id": "CSi8wenlkDUq",
    "outputId": "5fbdab3e-9cd8-4685-e88d-c5972dab2263"
   },
   "outputs": [
    {
     "name": "stdout",
     "output_type": "stream",
     "text": [
      "<class 'sklearn.linear_model._logistic.LogisticRegression'> \n",
      "              precision    recall  f1-score   support\n",
      "\n",
      "           0       0.85      0.57      0.68       363\n",
      "           1       0.90      0.97      0.94      1457\n",
      "\n",
      "    accuracy                           0.89      1820\n",
      "   macro avg       0.88      0.77      0.81      1820\n",
      "weighted avg       0.89      0.89      0.89      1820\n",
      "\n",
      "<class 'sklearn.neighbors._classification.KNeighborsClassifier'> \n",
      "              precision    recall  f1-score   support\n",
      "\n",
      "           0       0.65      0.25      0.36       363\n",
      "           1       0.84      0.97      0.90      1457\n",
      "\n",
      "    accuracy                           0.82      1820\n",
      "   macro avg       0.74      0.61      0.63      1820\n",
      "weighted avg       0.80      0.82      0.79      1820\n",
      "\n",
      "<class 'sklearn.naive_bayes.BernoulliNB'> \n",
      "              precision    recall  f1-score   support\n",
      "\n",
      "           0       0.47      0.05      0.09       363\n",
      "           1       0.81      0.99      0.89      1457\n",
      "\n",
      "    accuracy                           0.80      1820\n",
      "   macro avg       0.64      0.52      0.49      1820\n",
      "weighted avg       0.74      0.80      0.73      1820\n",
      "\n",
      "<class 'sklearn.ensemble._forest.RandomForestClassifier'> \n",
      "              precision    recall  f1-score   support\n",
      "\n",
      "           0       0.99      0.95      0.97       363\n",
      "           1       0.99      1.00      0.99      1457\n",
      "\n",
      "    accuracy                           0.99      1820\n",
      "   macro avg       0.99      0.98      0.98      1820\n",
      "weighted avg       0.99      0.99      0.99      1820\n",
      "\n",
      "<class 'xgboost.sklearn.XGBClassifier'> \n",
      "              precision    recall  f1-score   support\n",
      "\n",
      "           0       0.99      0.98      0.98       363\n",
      "           1       0.99      1.00      1.00      1457\n",
      "\n",
      "    accuracy                           0.99      1820\n",
      "   macro avg       0.99      0.99      0.99      1820\n",
      "weighted avg       0.99      0.99      0.99      1820\n",
      "\n"
     ]
    }
   ],
   "source": [
    "test_score(model_names)"
   ]
  },
  {
   "cell_type": "markdown",
   "metadata": {
    "id": "xChJJtPIkuVR"
   },
   "source": [
    "## Cross validation"
   ]
  },
  {
   "cell_type": "code",
   "execution_count": 68,
   "metadata": {
    "execution": {
     "iopub.execute_input": "2021-05-25T08:20:34.951092Z",
     "iopub.status.busy": "2021-05-25T08:20:34.950524Z",
     "iopub.status.idle": "2021-05-25T08:20:34.956582Z",
     "shell.execute_reply": "2021-05-25T08:20:34.955761Z",
     "shell.execute_reply.started": "2021-05-25T08:20:34.951054Z"
    },
    "executionInfo": {
     "elapsed": 4,
     "status": "ok",
     "timestamp": 1621930677376,
     "user": {
      "displayName": "Serhan ayberk Kılıç",
      "photoUrl": "https://lh3.googleusercontent.com/-O7F2r2MECSI/AAAAAAAAAAI/AAAAAAAABok/dYfrYVrlFTk/s64/photo.jpg",
      "userId": "08804915627409896404"
     },
     "user_tz": -180
    },
    "id": "C3BG-93xk6Sb"
   },
   "outputs": [],
   "source": [
    "from sklearn.model_selection import cross_val_score"
   ]
  },
  {
   "cell_type": "code",
   "execution_count": 69,
   "metadata": {
    "execution": {
     "iopub.execute_input": "2021-05-25T08:20:34.958259Z",
     "iopub.status.busy": "2021-05-25T08:20:34.957778Z",
     "iopub.status.idle": "2021-05-25T08:20:34.967387Z",
     "shell.execute_reply": "2021-05-25T08:20:34.966382Z",
     "shell.execute_reply.started": "2021-05-25T08:20:34.958229Z"
    },
    "executionInfo": {
     "elapsed": 3,
     "status": "ok",
     "timestamp": 1621930677376,
     "user": {
      "displayName": "Serhan ayberk Kılıç",
      "photoUrl": "https://lh3.googleusercontent.com/-O7F2r2MECSI/AAAAAAAAAAI/AAAAAAAABok/dYfrYVrlFTk/s64/photo.jpg",
      "userId": "08804915627409896404"
     },
     "user_tz": -180
    },
    "id": "xxqo9jGOkFo0"
   },
   "outputs": [],
   "source": [
    "def cross_score(model_name):\n",
    "\n",
    "  for i in model_name:\n",
    "    print(f'{i.__class__}  | Cross val score: %{cross_val_score(i,X=x_train,y=y_train,cv=5,n_jobs=-1).mean()*100}')"
   ]
  },
  {
   "cell_type": "code",
   "execution_count": 70,
   "metadata": {
    "execution": {
     "iopub.execute_input": "2021-05-25T08:20:34.969085Z",
     "iopub.status.busy": "2021-05-25T08:20:34.968758Z",
     "iopub.status.idle": "2021-05-25T08:21:34.045312Z",
     "shell.execute_reply": "2021-05-25T08:21:34.044266Z",
     "shell.execute_reply.started": "2021-05-25T08:20:34.969053Z"
    },
    "executionInfo": {
     "elapsed": 8477,
     "status": "ok",
     "timestamp": 1621930685850,
     "user": {
      "displayName": "Serhan ayberk Kılıç",
      "photoUrl": "https://lh3.googleusercontent.com/-O7F2r2MECSI/AAAAAAAAAAI/AAAAAAAABok/dYfrYVrlFTk/s64/photo.jpg",
      "userId": "08804915627409896404"
     },
     "user_tz": -180
    },
    "id": "XN9Xn71plmMm",
    "outputId": "35d922bd-0fd6-4f53-997d-5ff5ef426d91"
   },
   "outputs": [
    {
     "name": "stdout",
     "output_type": "stream",
     "text": [
      "<class 'sklearn.linear_model._logistic.LogisticRegression'>  | Cross val score: %89.75135946527699\n",
      "<class 'sklearn.neighbors._classification.KNeighborsClassifier'>  | Cross val score: %82.86855670103093\n",
      "<class 'sklearn.naive_bayes.BernoulliNB'>  | Cross val score: %80.32706468788943\n",
      "<class 'sklearn.ensemble._forest.RandomForestClassifier'>  | Cross val score: %98.763604093501\n",
      "<class 'xgboost.sklearn.XGBClassifier'>  | Cross val score: %98.96967637173823\n"
     ]
    }
   ],
   "source": [
    "cross_score(model_names)"
   ]
  },
  {
   "cell_type": "code",
   "execution_count": null,
   "metadata": {},
   "outputs": [],
   "source": []
  },
  {
   "cell_type": "code",
   "execution_count": null,
   "metadata": {},
   "outputs": [],
   "source": []
  }
 ],
 "metadata": {
  "kernelspec": {
   "display_name": "Python 3 (ipykernel)",
   "language": "python",
   "name": "python3"
  },
  "language_info": {
   "codemirror_mode": {
    "name": "ipython",
    "version": 3
   },
   "file_extension": ".py",
   "mimetype": "text/x-python",
   "name": "python",
   "nbconvert_exporter": "python",
   "pygments_lexer": "ipython3",
   "version": "3.9.10"
  }
 },
 "nbformat": 4,
 "nbformat_minor": 4
}
